{
 "cells": [
  {
   "cell_type": "code",
   "execution_count": 1,
   "metadata": {},
   "outputs": [],
   "source": [
    "#Azat Dovgeldiyev\n",
    "#import dependencies\n",
    "import numpy as np\n",
    "import pandas as pd"
   ]
  },
  {
   "cell_type": "markdown",
   "metadata": {},
   "source": [
    "### 1. PCA for Reduced Dimensionality in Clustering\n",
    "#### a)\n",
    "Load in the image data matrix (with rows as images and columns as features). Also load in the numeric class labels from the segmentation class file. Using your favorite method (e.g., sklearn's min-max scaler), perform min-max normalization on the data matrix so that each feature is scaled to [0,1] range."
   ]
  },
  {
   "cell_type": "code",
   "execution_count": 2,
   "metadata": {},
   "outputs": [
    {
     "data": {
      "text/html": [
       "<div>\n",
       "<style scoped>\n",
       "    .dataframe tbody tr th:only-of-type {\n",
       "        vertical-align: middle;\n",
       "    }\n",
       "\n",
       "    .dataframe tbody tr th {\n",
       "        vertical-align: top;\n",
       "    }\n",
       "\n",
       "    .dataframe thead th {\n",
       "        text-align: right;\n",
       "    }\n",
       "</style>\n",
       "<table border=\"1\" class=\"dataframe\">\n",
       "  <thead>\n",
       "    <tr style=\"text-align: right;\">\n",
       "      <th></th>\n",
       "      <th>0</th>\n",
       "      <th>1</th>\n",
       "      <th>2</th>\n",
       "      <th>3</th>\n",
       "      <th>4</th>\n",
       "      <th>5</th>\n",
       "      <th>6</th>\n",
       "      <th>7</th>\n",
       "      <th>8</th>\n",
       "      <th>9</th>\n",
       "      <th>10</th>\n",
       "      <th>11</th>\n",
       "      <th>12</th>\n",
       "      <th>13</th>\n",
       "      <th>14</th>\n",
       "      <th>15</th>\n",
       "      <th>16</th>\n",
       "      <th>17</th>\n",
       "      <th>18</th>\n",
       "    </tr>\n",
       "  </thead>\n",
       "  <tbody>\n",
       "    <tr>\n",
       "      <th>0</th>\n",
       "      <td>110.0</td>\n",
       "      <td>189.0</td>\n",
       "      <td>9</td>\n",
       "      <td>0.0</td>\n",
       "      <td>0.0</td>\n",
       "      <td>1.000000</td>\n",
       "      <td>0.666667</td>\n",
       "      <td>1.222222</td>\n",
       "      <td>1.186342</td>\n",
       "      <td>12.925926</td>\n",
       "      <td>10.888889</td>\n",
       "      <td>9.222222</td>\n",
       "      <td>18.666668</td>\n",
       "      <td>-6.111111</td>\n",
       "      <td>-11.111111</td>\n",
       "      <td>17.222221</td>\n",
       "      <td>18.666668</td>\n",
       "      <td>0.508139</td>\n",
       "      <td>1.910864</td>\n",
       "    </tr>\n",
       "    <tr>\n",
       "      <th>1</th>\n",
       "      <td>86.0</td>\n",
       "      <td>187.0</td>\n",
       "      <td>9</td>\n",
       "      <td>0.0</td>\n",
       "      <td>0.0</td>\n",
       "      <td>1.111111</td>\n",
       "      <td>0.720082</td>\n",
       "      <td>1.444444</td>\n",
       "      <td>0.750309</td>\n",
       "      <td>13.740741</td>\n",
       "      <td>11.666667</td>\n",
       "      <td>10.333334</td>\n",
       "      <td>19.222221</td>\n",
       "      <td>-6.222222</td>\n",
       "      <td>-10.222222</td>\n",
       "      <td>16.444445</td>\n",
       "      <td>19.222221</td>\n",
       "      <td>0.463329</td>\n",
       "      <td>1.941465</td>\n",
       "    </tr>\n",
       "    <tr>\n",
       "      <th>2</th>\n",
       "      <td>225.0</td>\n",
       "      <td>244.0</td>\n",
       "      <td>9</td>\n",
       "      <td>0.0</td>\n",
       "      <td>0.0</td>\n",
       "      <td>3.388889</td>\n",
       "      <td>2.195113</td>\n",
       "      <td>3.000000</td>\n",
       "      <td>1.520234</td>\n",
       "      <td>12.259259</td>\n",
       "      <td>10.333334</td>\n",
       "      <td>9.333334</td>\n",
       "      <td>17.111110</td>\n",
       "      <td>-5.777778</td>\n",
       "      <td>-8.777778</td>\n",
       "      <td>14.555555</td>\n",
       "      <td>17.111110</td>\n",
       "      <td>0.480149</td>\n",
       "      <td>1.987902</td>\n",
       "    </tr>\n",
       "    <tr>\n",
       "      <th>3</th>\n",
       "      <td>47.0</td>\n",
       "      <td>232.0</td>\n",
       "      <td>9</td>\n",
       "      <td>0.0</td>\n",
       "      <td>0.0</td>\n",
       "      <td>1.277778</td>\n",
       "      <td>1.254621</td>\n",
       "      <td>1.000000</td>\n",
       "      <td>0.894427</td>\n",
       "      <td>12.703704</td>\n",
       "      <td>11.000000</td>\n",
       "      <td>9.000000</td>\n",
       "      <td>18.111110</td>\n",
       "      <td>-5.111111</td>\n",
       "      <td>-11.111111</td>\n",
       "      <td>16.222221</td>\n",
       "      <td>18.111110</td>\n",
       "      <td>0.500966</td>\n",
       "      <td>1.875362</td>\n",
       "    </tr>\n",
       "    <tr>\n",
       "      <th>4</th>\n",
       "      <td>97.0</td>\n",
       "      <td>186.0</td>\n",
       "      <td>9</td>\n",
       "      <td>0.0</td>\n",
       "      <td>0.0</td>\n",
       "      <td>1.166667</td>\n",
       "      <td>0.691215</td>\n",
       "      <td>1.166667</td>\n",
       "      <td>1.005540</td>\n",
       "      <td>15.592592</td>\n",
       "      <td>13.888889</td>\n",
       "      <td>11.777778</td>\n",
       "      <td>21.111110</td>\n",
       "      <td>-5.111111</td>\n",
       "      <td>-11.444445</td>\n",
       "      <td>16.555555</td>\n",
       "      <td>21.111110</td>\n",
       "      <td>0.442661</td>\n",
       "      <td>1.863654</td>\n",
       "    </tr>\n",
       "  </tbody>\n",
       "</table>\n",
       "</div>"
      ],
      "text/plain": [
       "      0      1   2    3    4         5         6         7         8   \\\n",
       "0  110.0  189.0   9  0.0  0.0  1.000000  0.666667  1.222222  1.186342   \n",
       "1   86.0  187.0   9  0.0  0.0  1.111111  0.720082  1.444444  0.750309   \n",
       "2  225.0  244.0   9  0.0  0.0  3.388889  2.195113  3.000000  1.520234   \n",
       "3   47.0  232.0   9  0.0  0.0  1.277778  1.254621  1.000000  0.894427   \n",
       "4   97.0  186.0   9  0.0  0.0  1.166667  0.691215  1.166667  1.005540   \n",
       "\n",
       "          9          10         11         12        13         14         15  \\\n",
       "0  12.925926  10.888889   9.222222  18.666668 -6.111111 -11.111111  17.222221   \n",
       "1  13.740741  11.666667  10.333334  19.222221 -6.222222 -10.222222  16.444445   \n",
       "2  12.259259  10.333334   9.333334  17.111110 -5.777778  -8.777778  14.555555   \n",
       "3  12.703704  11.000000   9.000000  18.111110 -5.111111 -11.111111  16.222221   \n",
       "4  15.592592  13.888889  11.777778  21.111110 -5.111111 -11.444445  16.555555   \n",
       "\n",
       "          16        17        18  \n",
       "0  18.666668  0.508139  1.910864  \n",
       "1  19.222221  0.463329  1.941465  \n",
       "2  17.111110  0.480149  1.987902  \n",
       "3  18.111110  0.500966  1.875362  \n",
       "4  21.111110  0.442661  1.863654  "
      ]
     },
     "execution_count": 2,
     "metadata": {},
     "output_type": "execute_result"
    }
   ],
   "source": [
    "df = pd.read_csv(\"segmentation_data/segmentation_data.txt\", header=None)\n",
    "df.head()"
   ]
  },
  {
   "cell_type": "code",
   "execution_count": 3,
   "metadata": {},
   "outputs": [
    {
     "data": {
      "text/plain": [
       "0    0\n",
       "1    0\n",
       "2    0\n",
       "3    0\n",
       "4    0\n",
       "Name: 1, dtype: int64"
      ]
     },
     "execution_count": 3,
     "metadata": {},
     "output_type": "execute_result"
    }
   ],
   "source": [
    "classes = pd.read_csv(\"segmentation_data/segmentation_classes.txt\", header = None, sep='\\t')\n",
    "classes = classes.iloc[:,1]\n",
    "classes.head()"
   ]
  },
  {
   "cell_type": "code",
   "execution_count": 4,
   "metadata": {},
   "outputs": [
    {
     "data": {
      "text/plain": [
       "array([[0.43083004, 0.74166667, 0.        , ..., 0.12371135, 0.50813884,\n",
       "        0.83184923],\n",
       "       [0.33596838, 0.73333333, 0.        , ..., 0.12739322, 0.46332908,\n",
       "        0.83698646],\n",
       "       [0.88537549, 0.97083333, 0.        , ..., 0.11340205, 0.48014903,\n",
       "        0.84478233],\n",
       "       ...,\n",
       "       [0.50197628, 0.625     , 0.        , ..., 0.07216495, 0.5409177 ,\n",
       "        0.17591546],\n",
       "       [0.58893281, 0.6125    , 0.        , ..., 0.08100147, 0.50308645,\n",
       "        0.18478933],\n",
       "       [0.48616601, 0.62916667, 0.        , ..., 0.09646539, 0.4799313 ,\n",
       "        0.17037463]])"
      ]
     },
     "execution_count": 4,
     "metadata": {},
     "output_type": "execute_result"
    }
   ],
   "source": [
    "from sklearn.preprocessing import MinMaxScaler\n",
    "\n",
    "min_max_scaler = MinMaxScaler()\n",
    "X_norm = min_max_scaler.fit_transform(df)\n",
    "X_norm"
   ]
  },
  {
   "cell_type": "markdown",
   "metadata": {},
   "source": [
    "#### b)\n",
    "Using the Kmeans implementation in scikit-learn, perform clustering on the image data (use K = 7 in your clustering so that later we can compare the clusters to the 7 pre-assigned image classes). Print the cluster centroids (use some formatting so that they are visually understandable). To evaluate your clusters, first perform Silhouette analysis on the clusters (compute Silhouette values for all instances in the data, and then compute the overall mean Silhouette value; optionally, you can provide a visaulization of the Silhouettes). Next, compare your 7 clusters to the 7 pre-assigned classes by computing the Completeness and Homogeneity values of the generated clusters."
   ]
  },
  {
   "cell_type": "code",
   "execution_count": 5,
   "metadata": {},
   "outputs": [
    {
     "data": {
      "text/plain": [
       "KMeans(algorithm='auto', copy_x=True, init='k-means++', max_iter=1000,\n",
       "       n_clusters=7, n_init=10, n_jobs=None, precompute_distances='auto',\n",
       "       random_state=None, tol=0.0001, verbose=0)"
      ]
     },
     "execution_count": 5,
     "metadata": {},
     "output_type": "execute_result"
    }
   ],
   "source": [
    "from sklearn.cluster import KMeans\n",
    "\n",
    "kmeans = KMeans(n_clusters=7, max_iter=1000, verbose=0)\n",
    "kmeans.fit(X_norm)"
   ]
  },
  {
   "cell_type": "code",
   "execution_count": 6,
   "metadata": {},
   "outputs": [
    {
     "data": {
      "text/plain": [
       "array([3, 3, 3, 3, 3, 3, 3, 3, 3, 3, 3, 3, 3, 3, 3, 3, 3, 3, 3, 3, 3, 3,\n",
       "       3, 3, 3, 3, 3, 3, 3, 3, 3, 3, 3, 3, 3, 3, 3, 3, 3, 3, 3, 3, 3, 3,\n",
       "       3, 3, 3, 3, 5, 2, 5, 5, 5, 5, 2, 2, 5, 5, 5, 5, 5, 5, 5, 2, 5, 5,\n",
       "       5, 5, 2, 5, 2, 5, 2, 5, 5, 5, 5, 5, 2, 5, 5, 5, 5, 5, 5, 5, 5, 5,\n",
       "       5, 2, 5, 2, 5, 5, 5, 5, 5, 5, 5, 5, 5, 5, 2, 5, 5, 5, 5, 5, 2, 5,\n",
       "       5, 5, 5, 5, 5, 5, 5, 5, 5, 2, 5, 5, 5, 5, 2, 5, 2, 5, 5, 5, 2, 2,\n",
       "       2, 5, 2, 5, 5, 0, 0, 0, 0, 0, 0, 0, 0, 0, 0, 0, 0, 0, 0, 0, 0, 0,\n",
       "       0, 0, 0, 0, 0, 0, 0, 0, 0, 0, 0, 0, 6, 0, 0, 0, 0, 0, 0, 0, 0, 0,\n",
       "       0, 0, 0, 0, 0, 0, 0, 0, 0, 0, 0, 0, 0, 0, 0, 0, 0, 0, 0, 0, 0, 0,\n",
       "       0, 0, 0, 0, 0, 0, 0, 0, 0, 0, 0, 0, 0, 0, 0, 0, 0, 0, 0, 0, 0, 0,\n",
       "       0, 0, 0, 0, 0, 0, 0, 0, 0, 0, 0, 0, 0, 2, 5, 5, 2, 5, 2, 2, 5, 0,\n",
       "       5, 2, 5, 2, 5, 2, 2, 2, 4, 2, 2, 5, 5, 2, 2, 2, 2, 5, 2, 5, 5, 2,\n",
       "       5, 5, 5, 2, 2, 2, 5, 4, 5, 2, 2, 2, 2, 2, 5, 5, 5, 5, 5, 4, 2, 2,\n",
       "       2, 4, 2, 5, 2, 5, 5, 2, 2, 2, 5, 2, 4, 5, 2, 2, 2, 2, 2, 2, 2, 2,\n",
       "       2, 5, 5, 5, 2, 5, 5, 2, 5, 4, 2, 2, 5, 2, 2, 2, 5, 2, 4, 5, 2, 2,\n",
       "       2, 2, 5, 2, 4, 2, 2, 2, 2, 2, 5, 2, 4, 2, 5, 5, 2, 5, 2, 2, 5, 5,\n",
       "       5, 2, 2, 5, 2, 4, 2, 2, 2, 2, 2, 2, 2, 2, 5, 2, 5, 2, 4, 5, 2, 5,\n",
       "       2, 2, 2, 5, 4, 5, 2, 4, 5, 5, 5, 5, 5, 2, 2, 2, 5, 2, 5, 2, 6, 4,\n",
       "       6, 4, 4, 6, 4, 0, 4, 6, 4, 4, 4, 6, 6, 6, 6, 4, 4, 6, 6, 4, 4, 6,\n",
       "       4, 4, 4, 4, 4, 6, 6, 4, 6, 4, 4, 6, 4, 6, 6, 6, 6, 4, 6, 4, 6, 2,\n",
       "       6, 6, 2, 6, 4, 4, 6, 6, 4, 2, 4, 6, 6, 6, 6, 6, 4, 6, 6, 6, 4, 6,\n",
       "       4, 6, 0, 4, 4, 6, 6, 4, 6, 4, 6, 4, 4, 6, 6, 6, 6, 6, 6, 6, 4, 4,\n",
       "       4, 4, 4, 6, 6, 6, 6, 4, 4, 6, 1, 1, 1, 1, 1, 1])"
      ]
     },
     "execution_count": 6,
     "metadata": {},
     "output_type": "execute_result"
    }
   ],
   "source": [
    "clusters = kmeans.predict(X_norm)\n",
    "clusters[:500]"
   ]
  },
  {
   "cell_type": "code",
   "execution_count": 7,
   "metadata": {},
   "outputs": [
    {
     "data": {
      "text/html": [
       "<div>\n",
       "<style scoped>\n",
       "    .dataframe tbody tr th:only-of-type {\n",
       "        vertical-align: middle;\n",
       "    }\n",
       "\n",
       "    .dataframe tbody tr th {\n",
       "        vertical-align: top;\n",
       "    }\n",
       "\n",
       "    .dataframe thead th {\n",
       "        text-align: right;\n",
       "    }\n",
       "</style>\n",
       "<table border=\"1\" class=\"dataframe\">\n",
       "  <thead>\n",
       "    <tr style=\"text-align: right;\">\n",
       "      <th></th>\n",
       "      <th>(REGION-CENTROID-COL,)</th>\n",
       "      <th>(REGION-CENTROID-ROW,)</th>\n",
       "      <th>(REGION-PIXEL-COUNT,)</th>\n",
       "      <th>(SHORT-LINE-DENSITY-5,)</th>\n",
       "      <th>(SHORT-LINE-DENSITY-2,)</th>\n",
       "      <th>(VEDGE-MEAN,)</th>\n",
       "      <th>(VEDGE-SD,)</th>\n",
       "      <th>(HEDGE-MEAN,)</th>\n",
       "      <th>(HEDGE-SD,)</th>\n",
       "      <th>(INTENSITY-MEAN,)</th>\n",
       "      <th>(RAWRED-MEAN,)</th>\n",
       "      <th>(RAWBLUE-MEAN,)</th>\n",
       "      <th>(RAWGREEN-MEAN,)</th>\n",
       "      <th>(EXRED-MEAN,)</th>\n",
       "      <th>(EXBLUE-MEAN,)</th>\n",
       "      <th>(EXGREEN-MEAN,)</th>\n",
       "      <th>(VALUE-MEAN,)</th>\n",
       "      <th>(SATURATION-MEAN,)</th>\n",
       "      <th>(HUE-MEAN,)</th>\n",
       "    </tr>\n",
       "  </thead>\n",
       "  <tbody>\n",
       "    <tr>\n",
       "      <th>0</th>\n",
       "      <td>0.77</td>\n",
       "      <td>0.43</td>\n",
       "      <td>0.00</td>\n",
       "      <td>0.01</td>\n",
       "      <td>0.02</td>\n",
       "      <td>0.04</td>\n",
       "      <td>0.00</td>\n",
       "      <td>0.02</td>\n",
       "      <td>0.00</td>\n",
       "      <td>0.04</td>\n",
       "      <td>0.04</td>\n",
       "      <td>0.06</td>\n",
       "      <td>0.03</td>\n",
       "      <td>0.78</td>\n",
       "      <td>0.22</td>\n",
       "      <td>0.49</td>\n",
       "      <td>0.06</td>\n",
       "      <td>0.54</td>\n",
       "      <td>0.24</td>\n",
       "    </tr>\n",
       "    <tr>\n",
       "      <th>1</th>\n",
       "      <td>0.54</td>\n",
       "      <td>0.15</td>\n",
       "      <td>0.00</td>\n",
       "      <td>0.03</td>\n",
       "      <td>0.00</td>\n",
       "      <td>0.03</td>\n",
       "      <td>0.00</td>\n",
       "      <td>0.03</td>\n",
       "      <td>0.00</td>\n",
       "      <td>0.82</td>\n",
       "      <td>0.78</td>\n",
       "      <td>0.89</td>\n",
       "      <td>0.79</td>\n",
       "      <td>0.27</td>\n",
       "      <td>0.67</td>\n",
       "      <td>0.29</td>\n",
       "      <td>0.89</td>\n",
       "      <td>0.21</td>\n",
       "      <td>0.13</td>\n",
       "    </tr>\n",
       "    <tr>\n",
       "      <th>2</th>\n",
       "      <td>0.30</td>\n",
       "      <td>0.53</td>\n",
       "      <td>0.00</td>\n",
       "      <td>0.05</td>\n",
       "      <td>0.05</td>\n",
       "      <td>0.10</td>\n",
       "      <td>0.01</td>\n",
       "      <td>0.08</td>\n",
       "      <td>0.01</td>\n",
       "      <td>0.40</td>\n",
       "      <td>0.37</td>\n",
       "      <td>0.47</td>\n",
       "      <td>0.35</td>\n",
       "      <td>0.50</td>\n",
       "      <td>0.57</td>\n",
       "      <td>0.21</td>\n",
       "      <td>0.47</td>\n",
       "      <td>0.30</td>\n",
       "      <td>0.16</td>\n",
       "    </tr>\n",
       "    <tr>\n",
       "      <th>3</th>\n",
       "      <td>0.51</td>\n",
       "      <td>0.81</td>\n",
       "      <td>0.00</td>\n",
       "      <td>0.08</td>\n",
       "      <td>0.01</td>\n",
       "      <td>0.05</td>\n",
       "      <td>0.00</td>\n",
       "      <td>0.05</td>\n",
       "      <td>0.00</td>\n",
       "      <td>0.11</td>\n",
       "      <td>0.09</td>\n",
       "      <td>0.09</td>\n",
       "      <td>0.14</td>\n",
       "      <td>0.68</td>\n",
       "      <td>0.08</td>\n",
       "      <td>0.82</td>\n",
       "      <td>0.13</td>\n",
       "      <td>0.41</td>\n",
       "      <td>0.89</td>\n",
       "    </tr>\n",
       "    <tr>\n",
       "      <th>4</th>\n",
       "      <td>0.26</td>\n",
       "      <td>0.39</td>\n",
       "      <td>0.00</td>\n",
       "      <td>0.07</td>\n",
       "      <td>0.02</td>\n",
       "      <td>0.08</td>\n",
       "      <td>0.00</td>\n",
       "      <td>0.06</td>\n",
       "      <td>0.00</td>\n",
       "      <td>0.15</td>\n",
       "      <td>0.14</td>\n",
       "      <td>0.19</td>\n",
       "      <td>0.12</td>\n",
       "      <td>0.72</td>\n",
       "      <td>0.34</td>\n",
       "      <td>0.36</td>\n",
       "      <td>0.19</td>\n",
       "      <td>0.41</td>\n",
       "      <td>0.20</td>\n",
       "    </tr>\n",
       "    <tr>\n",
       "      <th>5</th>\n",
       "      <td>0.75</td>\n",
       "      <td>0.53</td>\n",
       "      <td>0.00</td>\n",
       "      <td>0.04</td>\n",
       "      <td>0.04</td>\n",
       "      <td>0.11</td>\n",
       "      <td>0.02</td>\n",
       "      <td>0.11</td>\n",
       "      <td>0.02</td>\n",
       "      <td>0.30</td>\n",
       "      <td>0.28</td>\n",
       "      <td>0.35</td>\n",
       "      <td>0.27</td>\n",
       "      <td>0.59</td>\n",
       "      <td>0.45</td>\n",
       "      <td>0.31</td>\n",
       "      <td>0.35</td>\n",
       "      <td>0.30</td>\n",
       "      <td>0.16</td>\n",
       "    </tr>\n",
       "    <tr>\n",
       "      <th>6</th>\n",
       "      <td>0.25</td>\n",
       "      <td>0.46</td>\n",
       "      <td>0.00</td>\n",
       "      <td>0.03</td>\n",
       "      <td>0.01</td>\n",
       "      <td>0.04</td>\n",
       "      <td>0.00</td>\n",
       "      <td>0.03</td>\n",
       "      <td>0.00</td>\n",
       "      <td>0.03</td>\n",
       "      <td>0.02</td>\n",
       "      <td>0.04</td>\n",
       "      <td>0.02</td>\n",
       "      <td>0.77</td>\n",
       "      <td>0.22</td>\n",
       "      <td>0.51</td>\n",
       "      <td>0.04</td>\n",
       "      <td>0.80</td>\n",
       "      <td>0.18</td>\n",
       "    </tr>\n",
       "  </tbody>\n",
       "</table>\n",
       "</div>"
      ],
      "text/plain": [
       "   (REGION-CENTROID-COL,)  (REGION-CENTROID-ROW,)  (REGION-PIXEL-COUNT,)  \\\n",
       "0                    0.77                    0.43                   0.00   \n",
       "1                    0.54                    0.15                   0.00   \n",
       "2                    0.30                    0.53                   0.00   \n",
       "3                    0.51                    0.81                   0.00   \n",
       "4                    0.26                    0.39                   0.00   \n",
       "5                    0.75                    0.53                   0.00   \n",
       "6                    0.25                    0.46                   0.00   \n",
       "\n",
       "   (SHORT-LINE-DENSITY-5,)  (SHORT-LINE-DENSITY-2,)  (VEDGE-MEAN,)  \\\n",
       "0                     0.01                     0.02           0.04   \n",
       "1                     0.03                     0.00           0.03   \n",
       "2                     0.05                     0.05           0.10   \n",
       "3                     0.08                     0.01           0.05   \n",
       "4                     0.07                     0.02           0.08   \n",
       "5                     0.04                     0.04           0.11   \n",
       "6                     0.03                     0.01           0.04   \n",
       "\n",
       "   (VEDGE-SD,)  (HEDGE-MEAN,)  (HEDGE-SD,)  (INTENSITY-MEAN,)  (RAWRED-MEAN,)  \\\n",
       "0         0.00           0.02         0.00               0.04            0.04   \n",
       "1         0.00           0.03         0.00               0.82            0.78   \n",
       "2         0.01           0.08         0.01               0.40            0.37   \n",
       "3         0.00           0.05         0.00               0.11            0.09   \n",
       "4         0.00           0.06         0.00               0.15            0.14   \n",
       "5         0.02           0.11         0.02               0.30            0.28   \n",
       "6         0.00           0.03         0.00               0.03            0.02   \n",
       "\n",
       "   (RAWBLUE-MEAN,)  (RAWGREEN-MEAN,)  (EXRED-MEAN,)  (EXBLUE-MEAN,)  \\\n",
       "0             0.06              0.03           0.78            0.22   \n",
       "1             0.89              0.79           0.27            0.67   \n",
       "2             0.47              0.35           0.50            0.57   \n",
       "3             0.09              0.14           0.68            0.08   \n",
       "4             0.19              0.12           0.72            0.34   \n",
       "5             0.35              0.27           0.59            0.45   \n",
       "6             0.04              0.02           0.77            0.22   \n",
       "\n",
       "   (EXGREEN-MEAN,)  (VALUE-MEAN,)  (SATURATION-MEAN,)  (HUE-MEAN,)  \n",
       "0             0.49           0.06                0.54         0.24  \n",
       "1             0.29           0.89                0.21         0.13  \n",
       "2             0.21           0.47                0.30         0.16  \n",
       "3             0.82           0.13                0.41         0.89  \n",
       "4             0.36           0.19                0.41         0.20  \n",
       "5             0.31           0.35                0.30         0.16  \n",
       "6             0.51           0.04                0.80         0.18  "
      ]
     },
     "execution_count": 7,
     "metadata": {},
     "output_type": "execute_result"
    }
   ],
   "source": [
    "#Print the cluster centroids (use some formatting so that they are visually understandable)\n",
    "names = pd.read_csv(\"segmentation_data/segmentation_names.txt\", header = None, sep='\\t')\n",
    "pd.options.display.float_format = '{:,.2f}'.format\n",
    "centroids = pd.DataFrame(kmeans.cluster_centers_, columns = names)\n",
    "centroids"
   ]
  },
  {
   "cell_type": "code",
   "execution_count": 8,
   "metadata": {},
   "outputs": [
    {
     "name": "stdout",
     "output_type": "stream",
     "text": [
      "[0.57236961 0.5609926  0.46573747 0.49551578 0.57187855 0.56013527\n",
      " 0.54247867 0.41254281 0.51997981 0.46760414 0.48688779 0.49140278\n",
      " 0.58437635 0.56254708 0.3794524  0.5311416  0.54891047 0.4226305\n",
      " 0.4161636  0.40382238]\n"
     ]
    }
   ],
   "source": [
    "#compute Silhouette values for all instances in the data, and then compute the overall mean Silhouette value;\n",
    "from sklearn import metrics\n",
    "\n",
    "silhouettes = metrics.silhouette_samples(X_norm,clusters)\n",
    "print(silhouettes[:20])"
   ]
  },
  {
   "cell_type": "code",
   "execution_count": 9,
   "metadata": {},
   "outputs": [
    {
     "name": "stdout",
     "output_type": "stream",
     "text": [
      "0.3320776409159453\n"
     ]
    }
   ],
   "source": [
    "print(silhouettes.mean())"
   ]
  },
  {
   "cell_type": "code",
   "execution_count": 10,
   "metadata": {},
   "outputs": [],
   "source": [
    "#copied from class example (Clustering)\n",
    "import pylab as pl\n",
    "\n",
    "def plot_silhouettes(data, clusters, metric='euclidean'):\n",
    "    \n",
    "    from matplotlib import cm\n",
    "    from sklearn.metrics import silhouette_samples\n",
    "\n",
    "    cluster_labels = np.unique(clusters)\n",
    "    n_clusters = cluster_labels.shape[0]\n",
    "    silhouette_vals = metrics.silhouette_samples(data, clusters, metric='euclidean')\n",
    "    c_ax_lower, c_ax_upper = 0, 0\n",
    "    cticks = []\n",
    "    for i, k in enumerate(cluster_labels):\n",
    "        c_silhouette_vals = silhouette_vals[clusters == k]\n",
    "        c_silhouette_vals.sort()\n",
    "        c_ax_upper += len(c_silhouette_vals)\n",
    "        color = cm.jet(float(i) / n_clusters)\n",
    "        pl.barh(range(c_ax_lower, c_ax_upper), c_silhouette_vals, height=1.0, \n",
    "                      edgecolor='none', color=color)\n",
    "\n",
    "        cticks.append((c_ax_lower + c_ax_upper) / 2)\n",
    "        c_ax_lower += len(c_silhouette_vals)\n",
    "    \n",
    "    silhouette_avg = np.mean(silhouette_vals)\n",
    "    pl.axvline(silhouette_avg, color=\"red\", linestyle=\"--\") \n",
    "\n",
    "    pl.yticks(cticks, cluster_labels)\n",
    "    pl.ylabel('Cluster')\n",
    "    pl.xlabel('Silhouette coefficient')\n",
    "\n",
    "    pl.tight_layout()\n",
    "    #pl.savefig('images/11_04.png', dpi=300)\n",
    "    pl.show()\n",
    "    \n",
    "    return"
   ]
  },
  {
   "cell_type": "code",
   "execution_count": 11,
   "metadata": {},
   "outputs": [
    {
     "data": {
      "image/png": "[encoded data removed]",
      "text/plain": [
       "<Figure size 432x288 with 1 Axes>"
      ]
     },
     "metadata": {
      "needs_background": "light"
     },
     "output_type": "display_data"
    }
   ],
   "source": [
    "plot_silhouettes(X_norm, clusters)"
   ]
  },
  {
   "cell_type": "code",
   "execution_count": 12,
   "metadata": {},
   "outputs": [
    {
     "name": "stdout",
     "output_type": "stream",
     "text": [
      "The Completeness score:  0.6132074717141492\n",
      "The Homogeneity score:  0.6115130439578844\n"
     ]
    }
   ],
   "source": [
    "'''\n",
    "Next, compare your 7 clusters to the 7 pre-assigned classes by computing \n",
    "the Completeness and Homogeneity values of the generated clusters.\n",
    "'''\n",
    "from sklearn.metrics import completeness_score, homogeneity_score\n",
    "\n",
    "print('The Completeness score: ',completeness_score(classes, clusters))\n",
    "print('The Homogeneity score: ',homogeneity_score(classes, clusters))"
   ]
  },
  {
   "cell_type": "markdown",
   "metadata": {},
   "source": [
    "#### c)\n",
    "Perform PCA on the normalized image data matrix. You may use the linear algebra package in Numpy or the Decomposition module in scikit-learn (the latter is much more efficient). Analyze the principal components to determine the number, r, of PCs needed to capture at least 95% of variance in the data. Provide a plot of PC variances. Then use these r components as features to transform the data into a reduced dimension space."
   ]
  },
  {
   "cell_type": "code",
   "execution_count": 13,
   "metadata": {},
   "outputs": [
    {
     "name": "stdout",
     "output_type": "stream",
     "text": [
      "[[ 0.08  0.    0.   -0.   -0.   -0.    0.   -0.    0.    0.    0.    0.01  0.01 -0.01  0.    0.\n",
      "   0.01 -0.01  0.  ]\n",
      " [ 0.    0.06  0.    0.    0.    0.   -0.    0.   -0.   -0.03 -0.03 -0.03 -0.03  0.02 -0.02  0.02\n",
      "  -0.03  0.    0.04]\n",
      " [ 0.    0.    0.    0.    0.    0.    0.    0.    0.    0.    0.    0.    0.    0.    0.    0.\n",
      "   0.    0.    0.  ]\n",
      " [-0.    0.    0.    0.02 -0.   -0.   -0.   -0.   -0.   -0.   -0.   -0.   -0.    0.   -0.    0.\n",
      "  -0.   -0.    0.  ]\n",
      " [-0.    0.    0.   -0.    0.01  0.    0.    0.    0.   -0.   -0.   -0.   -0.   -0.    0.   -0.\n",
      "  -0.    0.   -0.  ]\n",
      " [-0.    0.    0.   -0.    0.    0.01  0.    0.    0.   -0.   -0.    0.   -0.   -0.    0.   -0.\n",
      "   0.   -0.   -0.  ]\n",
      " [ 0.   -0.    0.   -0.    0.    0.    0.    0.    0.   -0.   -0.    0.    0.   -0.    0.    0.\n",
      "   0.    0.   -0.  ]\n",
      " [-0.    0.    0.   -0.    0.    0.    0.    0.01  0.    0.    0.    0.    0.   -0.    0.   -0.\n",
      "   0.   -0.   -0.  ]\n",
      " [ 0.   -0.    0.   -0.    0.    0.    0.    0.    0.    0.    0.    0.    0.   -0.    0.   -0.\n",
      "   0.   -0.   -0.  ]\n",
      " [ 0.   -0.03  0.   -0.   -0.   -0.   -0.    0.    0.    0.07  0.07  0.08  0.07 -0.04  0.04 -0.03\n",
      "   0.08 -0.04 -0.02]\n",
      " [ 0.   -0.03  0.   -0.   -0.   -0.   -0.    0.    0.    0.07  0.07  0.07  0.06 -0.04  0.04 -0.03\n",
      "   0.07 -0.04 -0.02]\n",
      " [ 0.01 -0.03  0.   -0.   -0.    0.    0.    0.    0.    0.08  0.07  0.08  0.07 -0.05  0.05 -0.03\n",
      "   0.08 -0.04 -0.03]\n",
      " [ 0.01 -0.03  0.   -0.   -0.   -0.    0.    0.    0.    0.07  0.06  0.07  0.06 -0.04  0.04 -0.02\n",
      "   0.07 -0.04 -0.02]\n",
      " [-0.01  0.02  0.    0.   -0.   -0.   -0.   -0.   -0.   -0.04 -0.04 -0.05 -0.04  0.04 -0.03  0.02\n",
      "  -0.05  0.02  0.01]\n",
      " [ 0.   -0.02  0.   -0.    0.    0.    0.    0.    0.    0.04  0.04  0.05  0.04 -0.03  0.04 -0.03\n",
      "   0.05 -0.02 -0.03]\n",
      " [ 0.    0.02  0.    0.   -0.   -0.    0.   -0.   -0.   -0.03 -0.03 -0.03 -0.02  0.02 -0.03  0.04\n",
      "  -0.03  0.01  0.04]\n",
      " [ 0.01 -0.03  0.   -0.   -0.    0.    0.    0.    0.    0.08  0.07  0.08  0.07 -0.05  0.05 -0.03\n",
      "   0.08 -0.04 -0.03]\n",
      " [-0.01  0.    0.   -0.    0.   -0.    0.   -0.   -0.   -0.04 -0.04 -0.04 -0.04  0.02 -0.02  0.01\n",
      "  -0.04  0.05 -0.  ]\n",
      " [ 0.    0.04  0.    0.   -0.   -0.   -0.   -0.   -0.   -0.02 -0.02 -0.03 -0.02  0.01 -0.03  0.04\n",
      "  -0.03 -0.    0.07]]\n"
     ]
    }
   ],
   "source": [
    "from sklearn import decomposition\n",
    "\n",
    "meanVals = np.mean(X_norm, axis = 0)\n",
    "meanRemoved = X_norm - meanVals # remove mean\n",
    "covMat = np.cov(meanRemoved, rowvar=0)\n",
    "\n",
    "np.set_printoptions(precision=2, suppress = True, linewidth=100)\n",
    "print(covMat)"
   ]
  },
  {
   "cell_type": "code",
   "execution_count": 14,
   "metadata": {},
   "outputs": [],
   "source": [
    "import numpy.linalg as la\n",
    "eigVals, eigVects = la.eig(np.mat(covMat))"
   ]
  },
  {
   "cell_type": "code",
   "execution_count": 15,
   "metadata": {},
   "outputs": [
    {
     "name": "stdout",
     "output_type": "stream",
     "text": [
      "[0.48 0.1  0.08 0.04 0.03 0.02 0.01 0.01 0.01 0.01 0.   0.   0.   0.   0.   0.   0.   0.   0.  ]\n"
     ]
    }
   ],
   "source": [
    "print(eigVals)"
   ]
  },
  {
   "cell_type": "code",
   "execution_count": 16,
   "metadata": {},
   "outputs": [
    {
     "name": "stdout",
     "output_type": "stream",
     "text": [
      "[[ 0.03 -0.35  0.93  0.04  0.01 -0.03  0.01  0.03 -0.   -0.02 -0.01 -0.01  0.    0.    0.    0.\n",
      "  -0.    0.    0.  ]\n",
      " [-0.19 -0.38 -0.12 -0.66  0.47 -0.14 -0.24  0.22  0.06  0.07  0.06  0.04  0.01 -0.01 -0.    0.\n",
      "  -0.    0.    0.  ]\n",
      " [ 0.    0.    0.    0.    0.    0.    0.    0.    0.    0.    0.    0.    0.    0.    0.    0.\n",
      "   0.    0.    1.  ]\n",
      " [-0.01 -0.03 -0.04 -0.03 -0.06 -0.6   0.72  0.32  0.06  0.08  0.01  0.01  0.   -0.   -0.    0.\n",
      "   0.   -0.    0.  ]\n",
      " [-0.    0.02  0.01 -0.1   0.09  0.44  0.28  0.32 -0.77  0.05  0.07  0.   -0.01  0.    0.   -0.\n",
      "  -0.   -0.    0.  ]\n",
      " [ 0.    0.02  0.01 -0.12  0.03  0.42  0.3   0.11  0.44 -0.34  0.55 -0.28  0.11 -0.01  0.    0.\n",
      "  -0.    0.    0.  ]\n",
      " [ 0.    0.01  0.01 -0.01  0.01  0.18  0.12  0.07  0.18 -0.14  0.05  0.77 -0.55  0.01 -0.   -0.\n",
      "  -0.   -0.    0.  ]\n",
      " [ 0.01  0.   -0.   -0.14  0.03  0.33  0.19  0.16  0.29 -0.02 -0.77 -0.29 -0.21 -0.01  0.   -0.\n",
      "   0.    0.    0.  ]\n",
      " [ 0.    0.    0.   -0.02  0.01  0.16  0.09  0.07  0.13 -0.05 -0.24  0.49  0.8   0.01  0.    0.\n",
      "   0.   -0.    0.  ]\n",
      " [ 0.38 -0.11 -0.06  0.09  0.05 -0.02 -0.08  0.16  0.01 -0.05  0.   -0.    0.   -0.21 -0.04  0.06\n",
      "   0.64 -0.63  0.  ]\n",
      " [ 0.36 -0.11 -0.07  0.09 -0.01 -0.04 -0.13  0.24  0.   -0.11 -0.   -0.01  0.   -0.21 -0.52  0.55\n",
      "  -0.5   0.02  0.  ]\n",
      " [ 0.41 -0.07 -0.04  0.03  0.08 -0.03 -0.04  0.07 -0.01 -0.06 -0.01  0.    0.   -0.22  0.81  0.1\n",
      "  -0.33  0.17  0.  ]\n",
      " [ 0.36 -0.16 -0.08  0.14  0.06  0.01 -0.08  0.18  0.04  0.02  0.02 -0.    0.   -0.21 -0.19 -0.73\n",
      "   0.18  0.45  0.  ]\n",
      " [-0.24  0.06  0.    0.01 -0.39 -0.13 -0.31  0.5  -0.05 -0.42 -0.04 -0.03  0.    0.08  0.11 -0.25\n",
      "  -0.17 -0.26  0.  ]\n",
      " [ 0.26  0.18  0.08 -0.27  0.18 -0.04  0.18 -0.4  -0.08 -0.08 -0.04  0.02 -0.   -0.08 -0.11 -0.3\n",
      "  -0.32 -0.45  0.  ]\n",
      " [-0.18 -0.34 -0.13  0.43  0.11  0.2   0.03  0.14  0.17  0.55  0.1  -0.   -0.    0.05  0.06 -0.07\n",
      "  -0.26 -0.32  0.  ]\n",
      " [ 0.41 -0.1  -0.06  0.04  0.1  -0.02 -0.03  0.06 -0.   -0.07 -0.01 -0.02 -0.    0.89  0.   -0.\n",
      "  -0.    0.    0.  ]\n",
      " [-0.2   0.31  0.08  0.42  0.74 -0.12 -0.03  0.13 -0.01 -0.3  -0.06 -0.03 -0.   -0.01 -0.    0.\n",
      "  -0.   -0.    0.  ]\n",
      " [-0.17 -0.64 -0.24  0.2  -0.01 -0.02  0.18 -0.35 -0.18 -0.5  -0.12 -0.02 -0.   -0.04 -0.    0.\n",
      "  -0.    0.    0.  ]]\n"
     ]
    }
   ],
   "source": [
    "print(eigVects)"
   ]
  },
  {
   "cell_type": "code",
   "execution_count": 17,
   "metadata": {},
   "outputs": [
    {
     "name": "stdout",
     "output_type": "stream",
     "text": [
      "[0.48 0.1  0.08 0.04 0.03 0.02 0.01 0.01 0.01 0.01 0.   0.   0.   0.   0.   0.   0.   0.   0.  ]\n",
      "[60.71 13.2  10.12  4.54  3.55  1.99  1.89  1.62  1.07  0.71  0.39  0.16  0.05  0.    0.    0.\n",
      "  0.    0.    0.  ]\n"
     ]
    }
   ],
   "source": [
    "eigValInd = np.argsort(eigVals) # sort, sort goes smallest to largest\n",
    "eigValInd = eigValInd[::-1] #reverse\n",
    "sortedEigVals = eigVals[eigValInd]\n",
    "print(sortedEigVals)\n",
    "total = sum(sortedEigVals)\n",
    "varPercentage = sortedEigVals / total*100\n",
    "print(varPercentage)"
   ]
  },
  {
   "cell_type": "code",
   "execution_count": 18,
   "metadata": {},
   "outputs": [
    {
     "name": "stdout",
     "output_type": "stream",
     "text": [
      "1 PC: 0.6071\n",
      "2 PC: 0.7391\n",
      "3 PC: 0.8403\n",
      "4 PC: 0.8858\n",
      "5 PC: 0.9213\n",
      "6 PC: 0.9411\n",
      "7 PC: 0.9601\n"
     ]
    }
   ],
   "source": [
    "var = 0\n",
    "for i in range(10):\n",
    "    var += varPercentage[i]/100\n",
    "    print(\"{} PC: {}\".format(i+1, round(var,4)))\n",
    "    if var >= 0.95:\n",
    "        break"
   ]
  },
  {
   "cell_type": "code",
   "execution_count": 19,
   "metadata": {},
   "outputs": [
    {
     "data": {
      "image/png": "[encoded data removed]",
      "text/plain": [
       "<Figure size 432x288 with 1 Axes>"
      ]
     },
     "metadata": {
      "needs_background": "light"
     },
     "output_type": "display_data"
    }
   ],
   "source": [
    "import matplotlib.pyplot as plt\n",
    "%matplotlib inline\n",
    "\n",
    "fig = plt.figure()\n",
    "ax = fig.add_subplot(111)\n",
    "ax.plot(range(1, 11), varPercentage[:10], marker='^')\n",
    "plt.xlabel('Principal Component Number')\n",
    "plt.ylabel('Percentage of Variance')\n",
    "plt.show()"
   ]
  },
  {
   "cell_type": "code",
   "execution_count": 20,
   "metadata": {},
   "outputs": [
    {
     "name": "stdout",
     "output_type": "stream",
     "text": [
      "[[-0.69 -0.53 -0.25 ...  0.08  0.05 -0.05]\n",
      " [-0.67 -0.51 -0.34 ...  0.04  0.06 -0.04]\n",
      " [-0.71 -0.77  0.16 ...  0.17  0.04 -0.06]\n",
      " ...\n",
      " [-0.51  0.13  0.08 ...  0.03 -0.03 -0.11]\n",
      " [-0.48  0.09  0.16 ... -0.   -0.   -0.09]\n",
      " [-0.44  0.11  0.05 ... -0.02 -0.21  0.15]]\n"
     ]
    }
   ],
   "source": [
    "'''\n",
    "Analyze the principal components to determine the number, \n",
    "r, of PCs needed to capture at least 95% of variance in the data. \n",
    "'''\n",
    "topNfeat = 7\n",
    "topEigValInd = eigValInd[:topNfeat]\n",
    "reducedEigVects = eigVects[:, topEigValInd]\n",
    "reducedDT = np.dot(meanRemoved, reducedEigVects)\n",
    "print(reducedDT)"
   ]
  },
  {
   "cell_type": "markdown",
   "metadata": {},
   "source": [
    "#### d)\n",
    "Perform Kmeans again, but this time on the lower dimensional transformed data. Then compare Silhouette values as well as completeness and Homogeneity values of the new clusters. Compare these results with those obtained on the full data in part b."
   ]
  },
  {
   "cell_type": "code",
   "execution_count": 21,
   "metadata": {},
   "outputs": [
    {
     "data": {
      "text/plain": [
       "KMeans(algorithm='auto', copy_x=True, init='k-means++', max_iter=1000,\n",
       "       n_clusters=7, n_init=10, n_jobs=None, precompute_distances='auto',\n",
       "       random_state=None, tol=0.0001, verbose=0)"
      ]
     },
     "execution_count": 21,
     "metadata": {},
     "output_type": "execute_result"
    }
   ],
   "source": [
    "kmeans = KMeans(n_clusters=7, max_iter=1000, verbose=0)\n",
    "kmeans.fit(reducedDT)"
   ]
  },
  {
   "cell_type": "code",
   "execution_count": 22,
   "metadata": {},
   "outputs": [
    {
     "data": {
      "text/plain": [
       "array([3, 3, 3, 3, 3, 3, 3, 3, 3, 3, 3, 3, 3, 3, 3, 3, 3, 3, 3, 3, 3, 3, 3, 3, 3, 3, 3, 3, 3, 3, 3,\n",
       "       3, 3, 3, 3, 3, 3, 3, 3, 3, 3, 3, 3, 3, 3, 3, 3, 3, 2, 6, 2, 2, 2, 2, 6, 6, 2, 2, 2, 2, 2, 2,\n",
       "       2, 6, 2, 2, 2, 2, 6, 2, 6, 2, 6, 2, 2, 2, 2, 2, 6, 2, 2, 2, 2, 2, 2, 2, 2, 2, 2, 6, 2, 6, 2,\n",
       "       2, 2, 2, 2, 2, 2, 2, 2, 2, 6, 2, 2, 2, 2, 2, 6, 2, 2, 2, 2, 2, 2, 2, 6, 2, 2, 6, 2, 2, 2, 2,\n",
       "       6, 2, 6, 2, 2, 2, 6, 6, 6, 2, 6, 2, 2, 4, 4, 4, 4, 4, 4, 4, 4, 4, 4, 4, 4, 4, 4, 4, 4, 4, 4,\n",
       "       4, 4, 4, 4, 4, 4, 4, 4, 4, 4, 4, 4, 4, 4, 4, 4, 4, 4, 4, 4, 4, 4, 4, 4, 4, 4, 4, 4, 4, 4, 4,\n",
       "       4, 4, 4, 4, 4, 4, 4, 4, 4, 4, 4, 4, 4, 4, 4, 4, 4, 4, 4, 4, 4, 4, 4, 4, 4, 4, 4, 4, 4, 4, 4,\n",
       "       4, 4, 4, 4, 4, 4, 4, 4, 4, 4, 4, 4, 4, 4, 4, 4, 6, 2, 2, 6, 2, 6, 6, 2, 4, 2, 6, 2, 6, 2, 6,\n",
       "       6, 6, 5, 6, 6, 2, 2, 6, 6, 6, 6, 2, 6, 2, 2, 6, 2, 2, 2, 6, 6, 6, 2, 5, 2, 6, 6, 6, 6, 6, 2,\n",
       "       2, 2, 2, 2, 5, 6, 6, 6, 5, 6, 2, 6, 2, 2, 6, 6, 6, 2, 6, 5, 2, 6, 6, 6, 6, 6, 6, 6, 6, 6, 2,\n",
       "       2, 2, 6, 2, 2, 6, 2, 5, 6, 6, 2, 6, 6, 6, 2, 6, 5, 2, 6, 6, 6, 6, 2, 6, 5, 6, 6, 6, 6, 6, 2,\n",
       "       6, 5, 6, 2, 2, 6, 2, 6, 6, 2, 2, 2, 6, 6, 2, 6, 5, 6, 6, 6, 6, 6, 6, 6, 6, 2, 6, 2, 6, 5, 2,\n",
       "       6, 2, 6, 6, 6, 2, 5, 2, 6, 5, 2, 2, 2, 2, 2, 6, 6, 6, 2, 6, 2, 6, 1, 5, 1, 5, 5, 1, 5, 4, 5,\n",
       "       1, 5, 5, 5, 1, 1, 1, 1, 5, 5, 1, 1, 5, 5, 1, 5, 5, 5, 5, 5, 1, 1, 5, 1, 5, 5, 1, 5, 1, 1, 1,\n",
       "       1, 5, 1, 5, 1, 6, 1, 1, 6, 1, 5, 5, 1, 1, 5, 6, 5, 1, 1, 1, 1, 1, 5, 1, 1, 1, 5, 1, 5, 1, 4,\n",
       "       5, 5, 1, 1, 5, 1, 5, 1, 5, 5, 1, 1, 1, 1, 1, 1, 1, 5, 5, 5, 5, 1, 1, 1, 1, 1, 5, 5, 1, 0, 0,\n",
       "       0, 0, 0, 0])"
      ]
     },
     "execution_count": 22,
     "metadata": {},
     "output_type": "execute_result"
    }
   ],
   "source": [
    "clusters = kmeans.predict(reducedDT)\n",
    "clusters[:500]"
   ]
  },
  {
   "cell_type": "code",
   "execution_count": 23,
   "metadata": {},
   "outputs": [
    {
     "data": {
      "text/html": [
       "<div>\n",
       "<style scoped>\n",
       "    .dataframe tbody tr th:only-of-type {\n",
       "        vertical-align: middle;\n",
       "    }\n",
       "\n",
       "    .dataframe tbody tr th {\n",
       "        vertical-align: top;\n",
       "    }\n",
       "\n",
       "    .dataframe thead th {\n",
       "        text-align: right;\n",
       "    }\n",
       "</style>\n",
       "<table border=\"1\" class=\"dataframe\">\n",
       "  <thead>\n",
       "    <tr style=\"text-align: right;\">\n",
       "      <th></th>\n",
       "      <th>0</th>\n",
       "      <th>1</th>\n",
       "      <th>2</th>\n",
       "      <th>3</th>\n",
       "      <th>4</th>\n",
       "      <th>5</th>\n",
       "      <th>6</th>\n",
       "    </tr>\n",
       "  </thead>\n",
       "  <tbody>\n",
       "    <tr>\n",
       "      <th>0</th>\n",
       "      <td>1.41</td>\n",
       "      <td>-0.09</td>\n",
       "      <td>-0.04</td>\n",
       "      <td>0.17</td>\n",
       "      <td>0.03</td>\n",
       "      <td>-0.01</td>\n",
       "      <td>-0.02</td>\n",
       "    </tr>\n",
       "    <tr>\n",
       "      <th>1</th>\n",
       "      <td>-0.60</td>\n",
       "      <td>0.36</td>\n",
       "      <td>-0.11</td>\n",
       "      <td>0.13</td>\n",
       "      <td>0.13</td>\n",
       "      <td>-0.02</td>\n",
       "      <td>-0.04</td>\n",
       "    </tr>\n",
       "    <tr>\n",
       "      <th>2</th>\n",
       "      <td>0.18</td>\n",
       "      <td>-0.04</td>\n",
       "      <td>0.27</td>\n",
       "      <td>-0.18</td>\n",
       "      <td>-0.03</td>\n",
       "      <td>0.02</td>\n",
       "      <td>0.00</td>\n",
       "    </tr>\n",
       "    <tr>\n",
       "      <th>3</th>\n",
       "      <td>-0.62</td>\n",
       "      <td>-0.64</td>\n",
       "      <td>-0.20</td>\n",
       "      <td>0.09</td>\n",
       "      <td>0.07</td>\n",
       "      <td>0.01</td>\n",
       "      <td>0.04</td>\n",
       "    </tr>\n",
       "    <tr>\n",
       "      <th>4</th>\n",
       "      <td>-0.51</td>\n",
       "      <td>0.06</td>\n",
       "      <td>0.34</td>\n",
       "      <td>0.07</td>\n",
       "      <td>-0.08</td>\n",
       "      <td>0.01</td>\n",
       "      <td>-0.03</td>\n",
       "    </tr>\n",
       "    <tr>\n",
       "      <th>5</th>\n",
       "      <td>-0.21</td>\n",
       "      <td>0.25</td>\n",
       "      <td>-0.15</td>\n",
       "      <td>-0.06</td>\n",
       "      <td>-0.13</td>\n",
       "      <td>-0.01</td>\n",
       "      <td>0.03</td>\n",
       "    </tr>\n",
       "    <tr>\n",
       "      <th>6</th>\n",
       "      <td>0.44</td>\n",
       "      <td>0.10</td>\n",
       "      <td>-0.16</td>\n",
       "      <td>-0.23</td>\n",
       "      <td>0.05</td>\n",
       "      <td>-0.01</td>\n",
       "      <td>0.02</td>\n",
       "    </tr>\n",
       "  </tbody>\n",
       "</table>\n",
       "</div>"
      ],
      "text/plain": [
       "      0     1     2     3     4     5     6\n",
       "0  1.41 -0.09 -0.04  0.17  0.03 -0.01 -0.02\n",
       "1 -0.60  0.36 -0.11  0.13  0.13 -0.02 -0.04\n",
       "2  0.18 -0.04  0.27 -0.18 -0.03  0.02  0.00\n",
       "3 -0.62 -0.64 -0.20  0.09  0.07  0.01  0.04\n",
       "4 -0.51  0.06  0.34  0.07 -0.08  0.01 -0.03\n",
       "5 -0.21  0.25 -0.15 -0.06 -0.13 -0.01  0.03\n",
       "6  0.44  0.10 -0.16 -0.23  0.05 -0.01  0.02"
      ]
     },
     "execution_count": 23,
     "metadata": {},
     "output_type": "execute_result"
    }
   ],
   "source": [
    "pd.options.display.float_format = '{:,.2f}'.format\n",
    "centroids = pd.DataFrame(kmeans.cluster_centers_)\n",
    "centroids"
   ]
  },
  {
   "cell_type": "code",
   "execution_count": 24,
   "metadata": {},
   "outputs": [
    {
     "name": "stdout",
     "output_type": "stream",
     "text": [
      "0.3598202981349143\n"
     ]
    }
   ],
   "source": [
    "'''\n",
    "compare Silhouette values as well as completeness and \n",
    "Homogeneity values of the new clusters. \n",
    "Compare these results with those obtained on the full data in part b.\n",
    "'''\n",
    "\n",
    "silhouettes = metrics.silhouette_samples(reducedDT,clusters)\n",
    "print(silhouettes.mean())"
   ]
  },
  {
   "cell_type": "code",
   "execution_count": 25,
   "metadata": {},
   "outputs": [
    {
     "data": {
      "image/png": "[encoded data removed]",
      "text/plain": [
       "<Figure size 432x288 with 1 Axes>"
      ]
     },
     "metadata": {
      "needs_background": "light"
     },
     "output_type": "display_data"
    }
   ],
   "source": [
    "plot_silhouettes(reducedDT,clusters)"
   ]
  },
  {
   "cell_type": "code",
   "execution_count": 26,
   "metadata": {},
   "outputs": [
    {
     "name": "stdout",
     "output_type": "stream",
     "text": [
      "Completeness score:  0.6107955063694607\n",
      "Homogeneity score:  0.609136404973329\n"
     ]
    }
   ],
   "source": [
    "print(\"Completeness score: \", completeness_score(classes, clusters))\n",
    "print(\"Homogeneity score: \", homogeneity_score(classes, clusters))"
   ]
  },
  {
   "cell_type": "markdown",
   "metadata": {},
   "source": [
    "There is a small difference between scores, however mean slihouettes with reduced dimensions are higher than original, and one possible reason might be data is not overfitting."
   ]
  },
  {
   "cell_type": "markdown",
   "metadata": {},
   "source": [
    "### 2. Item-Based Joke Recommendation\n",
    "#### a)\n",
    "Load in the joke ratings data and the joke text data into appropriate data structures. Use the \"recommend\" function to provide top 5 joke recommendations for at least 2 users. Use both standard item-based collaborative filtering (based on the rating prediction function \"standEst\") and the SVD-based version of the item-based CF (using \"svdEst\" as the prediction engine) to generate these recommendations for the two users and note the differences. You should show the text of the recommended jokes as well as the predicted ratings for each."
   ]
  },
  {
   "cell_type": "code",
   "execution_count": 71,
   "metadata": {},
   "outputs": [
    {
     "data": {
      "text/html": [
       "<div>\n",
       "<style scoped>\n",
       "    .dataframe tbody tr th:only-of-type {\n",
       "        vertical-align: middle;\n",
       "    }\n",
       "\n",
       "    .dataframe tbody tr th {\n",
       "        vertical-align: top;\n",
       "    }\n",
       "\n",
       "    .dataframe thead th {\n",
       "        text-align: right;\n",
       "    }\n",
       "</style>\n",
       "<table border=\"1\" class=\"dataframe\">\n",
       "  <thead>\n",
       "    <tr style=\"text-align: right;\">\n",
       "      <th></th>\n",
       "      <th>0</th>\n",
       "      <th>1</th>\n",
       "      <th>2</th>\n",
       "      <th>3</th>\n",
       "      <th>4</th>\n",
       "      <th>5</th>\n",
       "      <th>6</th>\n",
       "      <th>7</th>\n",
       "      <th>8</th>\n",
       "      <th>9</th>\n",
       "      <th>...</th>\n",
       "      <th>90</th>\n",
       "      <th>91</th>\n",
       "      <th>92</th>\n",
       "      <th>93</th>\n",
       "      <th>94</th>\n",
       "      <th>95</th>\n",
       "      <th>96</th>\n",
       "      <th>97</th>\n",
       "      <th>98</th>\n",
       "      <th>99</th>\n",
       "    </tr>\n",
       "  </thead>\n",
       "  <tbody>\n",
       "    <tr>\n",
       "      <th>0</th>\n",
       "      <td>3.18</td>\n",
       "      <td>19.79</td>\n",
       "      <td>1.34</td>\n",
       "      <td>2.84</td>\n",
       "      <td>3.48</td>\n",
       "      <td>2.50</td>\n",
       "      <td>1.15</td>\n",
       "      <td>15.17</td>\n",
       "      <td>2.02</td>\n",
       "      <td>6.24</td>\n",
       "      <td>...</td>\n",
       "      <td>13.82</td>\n",
       "      <td>0.00</td>\n",
       "      <td>0.00</td>\n",
       "      <td>0.00</td>\n",
       "      <td>0.00</td>\n",
       "      <td>0.00</td>\n",
       "      <td>5.37</td>\n",
       "      <td>0.00</td>\n",
       "      <td>0.00</td>\n",
       "      <td>0.00</td>\n",
       "    </tr>\n",
       "    <tr>\n",
       "      <th>1</th>\n",
       "      <td>15.08</td>\n",
       "      <td>10.71</td>\n",
       "      <td>17.36</td>\n",
       "      <td>15.37</td>\n",
       "      <td>8.62</td>\n",
       "      <td>1.34</td>\n",
       "      <td>10.27</td>\n",
       "      <td>5.66</td>\n",
       "      <td>19.88</td>\n",
       "      <td>20.22</td>\n",
       "      <td>...</td>\n",
       "      <td>13.82</td>\n",
       "      <td>6.05</td>\n",
       "      <td>10.71</td>\n",
       "      <td>18.86</td>\n",
       "      <td>10.81</td>\n",
       "      <td>8.86</td>\n",
       "      <td>14.06</td>\n",
       "      <td>11.34</td>\n",
       "      <td>6.68</td>\n",
       "      <td>12.07</td>\n",
       "    </tr>\n",
       "    <tr>\n",
       "      <th>2</th>\n",
       "      <td>0.00</td>\n",
       "      <td>0.00</td>\n",
       "      <td>0.00</td>\n",
       "      <td>0.00</td>\n",
       "      <td>20.03</td>\n",
       "      <td>20.27</td>\n",
       "      <td>20.03</td>\n",
       "      <td>20.27</td>\n",
       "      <td>0.00</td>\n",
       "      <td>0.00</td>\n",
       "      <td>...</td>\n",
       "      <td>0.00</td>\n",
       "      <td>0.00</td>\n",
       "      <td>0.00</td>\n",
       "      <td>20.08</td>\n",
       "      <td>0.00</td>\n",
       "      <td>0.00</td>\n",
       "      <td>0.00</td>\n",
       "      <td>0.00</td>\n",
       "      <td>0.00</td>\n",
       "      <td>0.00</td>\n",
       "    </tr>\n",
       "    <tr>\n",
       "      <th>3</th>\n",
       "      <td>0.00</td>\n",
       "      <td>19.35</td>\n",
       "      <td>0.00</td>\n",
       "      <td>0.00</td>\n",
       "      <td>12.80</td>\n",
       "      <td>19.16</td>\n",
       "      <td>8.18</td>\n",
       "      <td>17.21</td>\n",
       "      <td>0.00</td>\n",
       "      <td>12.84</td>\n",
       "      <td>...</td>\n",
       "      <td>0.00</td>\n",
       "      <td>0.00</td>\n",
       "      <td>0.00</td>\n",
       "      <td>11.53</td>\n",
       "      <td>0.00</td>\n",
       "      <td>0.00</td>\n",
       "      <td>0.00</td>\n",
       "      <td>0.00</td>\n",
       "      <td>0.00</td>\n",
       "      <td>0.00</td>\n",
       "    </tr>\n",
       "    <tr>\n",
       "      <th>4</th>\n",
       "      <td>19.50</td>\n",
       "      <td>15.61</td>\n",
       "      <td>6.83</td>\n",
       "      <td>5.61</td>\n",
       "      <td>12.36</td>\n",
       "      <td>12.60</td>\n",
       "      <td>18.04</td>\n",
       "      <td>15.61</td>\n",
       "      <td>10.56</td>\n",
       "      <td>16.73</td>\n",
       "      <td>...</td>\n",
       "      <td>16.19</td>\n",
       "      <td>16.58</td>\n",
       "      <td>15.27</td>\n",
       "      <td>16.19</td>\n",
       "      <td>16.73</td>\n",
       "      <td>12.55</td>\n",
       "      <td>14.11</td>\n",
       "      <td>17.55</td>\n",
       "      <td>12.80</td>\n",
       "      <td>12.60</td>\n",
       "    </tr>\n",
       "  </tbody>\n",
       "</table>\n",
       "<p>5 rows × 100 columns</p>\n",
       "</div>"
      ],
      "text/plain": [
       "     0     1     2     3     4     5     6     7     8     9   ...    90  \\\n",
       "0  3.18 19.79  1.34  2.84  3.48  2.50  1.15 15.17  2.02  6.24  ... 13.82   \n",
       "1 15.08 10.71 17.36 15.37  8.62  1.34 10.27  5.66 19.88 20.22  ... 13.82   \n",
       "2  0.00  0.00  0.00  0.00 20.03 20.27 20.03 20.27  0.00  0.00  ...  0.00   \n",
       "3  0.00 19.35  0.00  0.00 12.80 19.16  8.18 17.21  0.00 12.84  ...  0.00   \n",
       "4 19.50 15.61  6.83  5.61 12.36 12.60 18.04 15.61 10.56 16.73  ... 16.19   \n",
       "\n",
       "     91    92    93    94    95    96    97    98    99  \n",
       "0  0.00  0.00  0.00  0.00  0.00  5.37  0.00  0.00  0.00  \n",
       "1  6.05 10.71 18.86 10.81  8.86 14.06 11.34  6.68 12.07  \n",
       "2  0.00  0.00 20.08  0.00  0.00  0.00  0.00  0.00  0.00  \n",
       "3  0.00  0.00 11.53  0.00  0.00  0.00  0.00  0.00  0.00  \n",
       "4 16.58 15.27 16.19 16.73 12.55 14.11 17.55 12.80 12.60  \n",
       "\n",
       "[5 rows x 100 columns]"
      ]
     },
     "execution_count": 71,
     "metadata": {},
     "output_type": "execute_result"
    }
   ],
   "source": [
    "df = pd.read_csv(\"jokes/modified_jester_data.csv\", header = None)\n",
    "df.head()"
   ]
  },
  {
   "cell_type": "code",
   "execution_count": 28,
   "metadata": {},
   "outputs": [
    {
     "data": {
      "text/html": [
       "<div>\n",
       "<style scoped>\n",
       "    .dataframe tbody tr th:only-of-type {\n",
       "        vertical-align: middle;\n",
       "    }\n",
       "\n",
       "    .dataframe tbody tr th {\n",
       "        vertical-align: top;\n",
       "    }\n",
       "\n",
       "    .dataframe thead th {\n",
       "        text-align: right;\n",
       "    }\n",
       "</style>\n",
       "<table border=\"1\" class=\"dataframe\">\n",
       "  <thead>\n",
       "    <tr style=\"text-align: right;\">\n",
       "      <th></th>\n",
       "      <th>0</th>\n",
       "      <th>1</th>\n",
       "    </tr>\n",
       "  </thead>\n",
       "  <tbody>\n",
       "    <tr>\n",
       "      <th>0</th>\n",
       "      <td>0</td>\n",
       "      <td>A man visits the doctor. The doctor says \"I ha...</td>\n",
       "    </tr>\n",
       "    <tr>\n",
       "      <th>1</th>\n",
       "      <td>1</td>\n",
       "      <td>This couple had an excellent relationship goin...</td>\n",
       "    </tr>\n",
       "    <tr>\n",
       "      <th>2</th>\n",
       "      <td>2</td>\n",
       "      <td>Q. What's 200 feet long and has 4 teeth? A. Th...</td>\n",
       "    </tr>\n",
       "    <tr>\n",
       "      <th>3</th>\n",
       "      <td>3</td>\n",
       "      <td>Q. What's the difference between a man and a t...</td>\n",
       "    </tr>\n",
       "    <tr>\n",
       "      <th>4</th>\n",
       "      <td>4</td>\n",
       "      <td>Q. What's O. J. Simpson's Internet address? A....</td>\n",
       "    </tr>\n",
       "  </tbody>\n",
       "</table>\n",
       "</div>"
      ],
      "text/plain": [
       "   0                                                  1\n",
       "0  0  A man visits the doctor. The doctor says \"I ha...\n",
       "1  1  This couple had an excellent relationship goin...\n",
       "2  2  Q. What's 200 feet long and has 4 teeth? A. Th...\n",
       "3  3  Q. What's the difference between a man and a t...\n",
       "4  4  Q. What's O. J. Simpson's Internet address? A...."
      ]
     },
     "execution_count": 28,
     "metadata": {},
     "output_type": "execute_result"
    }
   ],
   "source": [
    "jokes = pd.read_csv(\"jokes/jokes.csv\", header=None)\n",
    "jokes.head()"
   ]
  },
  {
   "cell_type": "code",
   "execution_count": 29,
   "metadata": {},
   "outputs": [],
   "source": [
    "def euclidSim(inA, inB):\n",
    "    return 1.0/(1.0 + la.norm(inA-inB))\n",
    "\n",
    "def pearsonSim(inA, inB):\n",
    "    if len(inA) < 3:\n",
    "        return 1.0\n",
    "    return 0.5 + 0.5*np.corrcoef(inA,inB, rowvar=0)[0][1]\n",
    "\n",
    "def cosineSim(inA,inB):\n",
    "    num = float(inA.T*inB)\n",
    "    denom = la.norm(inA) * la.norm(inB)\n",
    "    return 0.5 * 0.5 *(num/denom)"
   ]
  },
  {
   "cell_type": "code",
   "execution_count": 30,
   "metadata": {},
   "outputs": [],
   "source": [
    "def standEst(dataMat, user, simMeas, item):\n",
    "    n = np.shape(dataMat)[1]\n",
    "    simTotal = 0.0; ratSimTotal = 0.0\n",
    "    for j in range(n):\n",
    "        userRating = dataMat[user,j]\n",
    "        if userRating == 0: \n",
    "            continue\n",
    "        overLap = np.nonzero(np.logical_and(dataMat[:,item]>0, dataMat[:,j]>0))[0]\n",
    "        if len(overLap) == 0: \n",
    "            similarity = 0\n",
    "        else: \n",
    "            similarity = simMeas(dataMat[overLap,item], dataMat[overLap,j])\n",
    "        #print('the %d and %d similarity is: %f' % (item, j, similarity))\n",
    "        simTotal += similarity\n",
    "        ratSimTotal += similarity * userRating\n",
    "    if simTotal == 0: return 0\n",
    "    else: return ratSimTotal/simTotal"
   ]
  },
  {
   "cell_type": "code",
   "execution_count": 31,
   "metadata": {},
   "outputs": [],
   "source": [
    "def svdEst(dataMat, user, simMeas, item):\n",
    "    n = np.shape(dataMat)[1]\n",
    "    simTotal = 0.0; ratSimTotal = 0.0\n",
    "    data = np.mat(dataMat)\n",
    "    U,Sigma,VT = la.svd(data)\n",
    "    Sig4 = np.mat(np.eye(4)*Sigma[:4]) #arrange Sig4 into a diagonal matrix\n",
    "    xformedItems = data.T * U[:,:4] * Sig4.I  #create transformed items\n",
    "    for j in range(n):\n",
    "        userRating = data[user,j]\n",
    "        if userRating == 0 or j==item: continue\n",
    "        similarity = simMeas(xformedItems[item,:].T, xformedItems[j,:].T)\n",
    "        #print('the %d and %d similarity is: %f' % (item, j, similarity))\n",
    "        simTotal += similarity\n",
    "        ratSimTotal += similarity * userRating\n",
    "    if simTotal == 0: return 0\n",
    "    else: return ratSimTotal/simTotal"
   ]
  },
  {
   "cell_type": "code",
   "execution_count": 32,
   "metadata": {},
   "outputs": [],
   "source": [
    "def recommend(dataMat, user, N=3, simMeas=cosineSim, estMethod=standEst):\n",
    "    unratedItems = np.nonzero(dataMat[user,:].A==0)[1] #find unrated items \n",
    "    if len(unratedItems) == 0: return 'you rated everything'\n",
    "    itemScores = []\n",
    "    for item in unratedItems:\n",
    "        estimatedScore = estMethod(dataMat, user, simMeas, item)\n",
    "        itemScores.append((item, estimatedScore))\n",
    "    return sorted(itemScores, key=lambda jj: jj[1], reverse=True)[:N]"
   ]
  },
  {
   "cell_type": "code",
   "execution_count": 33,
   "metadata": {},
   "outputs": [],
   "source": [
    "df_matrix= np.mat(df)\n",
    "user1 = 22\n",
    "recommend_standEst1 = recommend(df_matrix, user1, N=5, simMeas=cosineSim, estMethod=standEst)\n",
    "recommend_svdEst1 = recommend(df_matrix, user1, N=5, simMeas=cosineSim, estMethod=svdEst)"
   ]
  },
  {
   "cell_type": "code",
   "execution_count": 34,
   "metadata": {},
   "outputs": [],
   "source": [
    "user2 = 28\n",
    "recommend_standEst2 = recommend(df_matrix, user2, N=5, simMeas=cosineSim, estMethod=standEst)\n",
    "recommend_svdEst2 = recommend(df_matrix, user2, N=5, simMeas=cosineSim, estMethod=svdEst)"
   ]
  },
  {
   "cell_type": "code",
   "execution_count": 35,
   "metadata": {},
   "outputs": [
    {
     "name": "stdout",
     "output_type": "stream",
     "text": [
      "Recommended jokes for user 1 with standEst:\n",
      "\n",
      "Ranking\tJoke No\t  Predicted rating\n",
      "\n",
      "1\t  88\t\t13.723945106997949\n",
      "A radio conversation of a US naval ship with Canadian authorities ... Americans: Please divert your course 15 degrees to the North to avoid a collision.Canadians: Recommend you divert YOUR course 15 degrees to the South to avoid a collision.Americans: This is the Captain of a US Navy ship.  I say again divert YOUR course.Canadians: No.  I say again you divert YOUR course.Americans: This is the aircraft carrier USS LINCOLN the second largest ship in the United States' Atlantic Fleet. We are accompanied by three destroyers three cruisers and numerous support vessels. I demand that you change your course 15 degrees north that's ONE FIVE DEGREES NORTH or counter-measures will be undertaken to ensure the safety of this ship.Canadians: This is a lighthouse.  Your call.\n",
      "\n",
      "2\t  97\t\t13.71399971741189\n",
      "Age and Womanhood1. Between the ages of 13 and 18 ... She is like Africa virgin and unexplored. 2. Between the ages of 19 and 35 ... She is like Asia hot and exotic. 3. Between the ages of 36 and 45 ... She is like America fully explored breathtakingly beautiful and free with her resources.4. Between the ages of 46 and 56 ...She is like Europe exhausted but still has points of interest. 5. After 56 she is like Australia ...Everybody knows it's down there but who gives a damn?\n",
      "\n",
      "3\t  71\t\t13.713536444834086\n",
      "On the first day of college the Dean addressed the students pointing out some of the rules:\"The female dormitory will be out-of-bounds for all male students and the male dormitory to the female students. Anybody caught breaking this rule will be fined $20 the first time.\" He continued \"Anybody caught breaking this rule the second time will be fined $60. Being caught a third time will cost you a fine of $180. Are there any questions ?\"At this point a male student in the crowd inquired:\"How much for a season pass ?\"\n",
      "\n",
      "4\t  99\t\t13.712396449308478\n",
      "Q: What's the difference between greeting a Queen and greeting thePresident of the United  States?A: You only have to get on one knee to greet the queen.\n",
      "\n",
      "5\t  70\t\t13.711675331095016\n",
      "At a recent Sacramento PC Users Group meeting a company was demonstrating its latest speech-recognition software.   A representative from the company was just about ready to start the demonstration and asked everyone in the room to quiet down.Just then someone in the back of the room yelled\"Format C: Return.\"Someone else chimed in:\"Yes Return\"Unfortunately the software worked.\n",
      "\n"
     ]
    }
   ],
   "source": [
    "print(\"Recommended jokes for user 1 with standEst:\\n\")\n",
    "print(\"Ranking\\tJoke No\\t  Predicted rating\\n\")\n",
    "for i in range(len(recommend_standEst1)):\n",
    "    print(\"{}\\t  {}\\t\\t{}\\n{}\\n\".format(i+1, recommend_standEst1[i][0],recommend_standEst1[i][1],\n",
    "                                      jokes.iloc[recommend_standEst1[i][0]][1]))"
   ]
  },
  {
   "cell_type": "code",
   "execution_count": 36,
   "metadata": {},
   "outputs": [
    {
     "name": "stdout",
     "output_type": "stream",
     "text": [
      "Recommended jokes for user 1 with svdEst:\n",
      "\n",
      "Ranking\tJoke No\t  Predicted rating\n",
      "\n",
      "1\t  98\t\t9.963702586498707\n",
      "A bus station is where a bus stops.A train station is where a train stops.On my desk I have a work station...\n",
      "\n",
      "2\t  96\t\t9.421607023153587\n",
      "A teacher is explaining to her class how different languages use negatives differently.  She says \"In all languages a positive followed by a negative or a negative followed by a positive makes a negative.  In some languages two negatives together make a positive while in others they make a negative.  But in no language do two positives make a negative.\"  One of the students puts up his hand and says \"Yeah right.\"\n",
      "\n",
      "3\t  97\t\t9.194928705654108\n",
      "Age and Womanhood1. Between the ages of 13 and 18 ... She is like Africa virgin and unexplored. 2. Between the ages of 19 and 35 ... She is like Asia hot and exotic. 3. Between the ages of 36 and 45 ... She is like America fully explored breathtakingly beautiful and free with her resources.4. Between the ages of 46 and 56 ...She is like Europe exhausted but still has points of interest. 5. After 56 she is like Australia ...Everybody knows it's down there but who gives a damn?\n",
      "\n",
      "4\t  92\t\t8.680631353691869\n",
      "Reaching the end of a job interview the human resources person asked a young engineer fresh out of Stanford\"And what starting salary were you looking for?\"The engineer said \"In the neighborhood of $125000 a year depending on the benefits package.\"The interviewer said \"Well what would you say to a package of 5-weeks vacation 14 paid holidays full medical and dental company matching retirement fund to 50% of salary and a company car leased every 2 years - say a red Corvette?\"The Engineer sat up straight and said \"Wow! Are you kidding?\"And the interviewer replied \"Yeah but you started it.\"\n",
      "\n",
      "5\t  94\t\t8.606309668652706\n",
      "Just a thought ..Before criticizing someone walk a mile in their shoes.  Then when you do criticize them you will be a mile away and have their shoes !\n",
      "\n"
     ]
    }
   ],
   "source": [
    "print(\"Recommended jokes for user 1 with svdEst:\\n\")\n",
    "print(\"Ranking\\tJoke No\\t  Predicted rating\\n\")\n",
    "for i in range(len(recommend_svdEst1)):\n",
    "    print(\"{}\\t  {}\\t\\t{}\\n{}\\n\".format(i+1, recommend_svdEst1[i][0],recommend_svdEst1[i][1],\n",
    "                                      jokes.iloc[recommend_svdEst1[i][0]][1]))"
   ]
  },
  {
   "cell_type": "code",
   "execution_count": 37,
   "metadata": {},
   "outputs": [
    {
     "name": "stdout",
     "output_type": "stream",
     "text": [
      "Recommended jokes for user 2 with standEst:\n",
      "\n",
      "Ranking\tJoke No\t  Predicted rating\n",
      "\n",
      "1\t  88\t\t13.446042696171508\n",
      "A radio conversation of a US naval ship with Canadian authorities ... Americans: Please divert your course 15 degrees to the North to avoid a collision.Canadians: Recommend you divert YOUR course 15 degrees to the South to avoid a collision.Americans: This is the Captain of a US Navy ship.  I say again divert YOUR course.Canadians: No.  I say again you divert YOUR course.Americans: This is the aircraft carrier USS LINCOLN the second largest ship in the United States' Atlantic Fleet. We are accompanied by three destroyers three cruisers and numerous support vessels. I demand that you change your course 15 degrees north that's ONE FIVE DEGREES NORTH or counter-measures will be undertaken to ensure the safety of this ship.Canadians: This is a lighthouse.  Your call.\n",
      "\n",
      "2\t  83\t\t13.443908142499966\n",
      "Q: What is the difference between Mechanical Engineers and Civil Engineers? A: Mechanical Engineers build weapons Civil Engineers build targets.\n",
      "\n",
      "3\t  96\t\t13.443200281598052\n",
      "A teacher is explaining to her class how different languages use negatives differently.  She says \"In all languages a positive followed by a negative or a negative followed by a positive makes a negative.  In some languages two negatives together make a positive while in others they make a negative.  But in no language do two positives make a negative.\"  One of the students puts up his hand and says \"Yeah right.\"\n",
      "\n",
      "4\t  0\t\t13.43814549128179\n",
      "A man visits the doctor. The doctor says \"I have bad news for you.You have cancer and Alzheimer's disease\". The man replies \"Well thank God I don't have cancer!\"\n",
      "\n",
      "5\t  70\t\t13.4341374282765\n",
      "At a recent Sacramento PC Users Group meeting a company was demonstrating its latest speech-recognition software.   A representative from the company was just about ready to start the demonstration and asked everyone in the room to quiet down.Just then someone in the back of the room yelled\"Format C: Return.\"Someone else chimed in:\"Yes Return\"Unfortunately the software worked.\n",
      "\n"
     ]
    }
   ],
   "source": [
    "print(\"Recommended jokes for user 2 with standEst:\\n\")\n",
    "print(\"Ranking\\tJoke No\\t  Predicted rating\\n\")\n",
    "for i in range(len(recommend_standEst2)):\n",
    "    print(\"{}\\t  {}\\t\\t{}\\n{}\\n\".format(i+1, recommend_standEst2[i][0],recommend_standEst2[i][1],\n",
    "                                      jokes.iloc[recommend_standEst2[i][0]][1]))"
   ]
  },
  {
   "cell_type": "code",
   "execution_count": 38,
   "metadata": {},
   "outputs": [
    {
     "name": "stdout",
     "output_type": "stream",
     "text": [
      "Recommended jokes for user 2 with svdEst:\n",
      "\n",
      "Ranking\tJoke No\t  Predicted rating\n",
      "\n",
      "1\t  93\t\t19.419519166102475\n",
      "Two atoms are walking down the street when one atom says to the other \"Oh my! I've lost an electron!\"The second atom says\"Are you sure\"The first replies \"I'm positive!\"\n",
      "\n",
      "2\t  0\t\t17.095672982073086\n",
      "A man visits the doctor. The doctor says \"I have bad news for you.You have cancer and Alzheimer's disease\". The man replies \"Well thank God I don't have cancer!\"\n",
      "\n",
      "3\t  87\t\t16.742958970742617\n",
      "A Czechoslovakian man felt his eyesight was growing steadily worse and felt it was time to go see an optometrist. The doctor started with some simple testing and showed him a standard eye chart with letters of diminishing size: CRKBNWXSKZY. . . \"Can you read this?\" the doctor asked. \"Read it?\" the Czech answered. \"Doc I know him!\"\n",
      "\n",
      "4\t  1\t\t15.335639358993708\n",
      "This couple had an excellent relationship going until one day he came home from work to find his girlfriend packing. He asked her why she was leaving him and she told him that she had heard awful things about him. \"What could they possibly have said to make you move out?\" \"They told me that you were a pedophile.\" He replied \"That's an awfully big word for a ten year old.\" \n",
      "\n",
      "5\t  96\t\t14.555201643849147\n",
      "A teacher is explaining to her class how different languages use negatives differently.  She says \"In all languages a positive followed by a negative or a negative followed by a positive makes a negative.  In some languages two negatives together make a positive while in others they make a negative.  But in no language do two positives make a negative.\"  One of the students puts up his hand and says \"Yeah right.\"\n",
      "\n"
     ]
    }
   ],
   "source": [
    "print(\"Recommended jokes for user 2 with svdEst:\\n\")\n",
    "print(\"Ranking\\tJoke No\\t  Predicted rating\\n\")\n",
    "for i in range(len(recommend_svdEst2)):\n",
    "    print(\"{}\\t  {}\\t\\t{}\\n{}\\n\".format(i+1, recommend_svdEst2[i][0],recommend_svdEst2[i][1],\n",
    "                                      jokes.iloc[recommend_svdEst2[i][0]][1]))"
   ]
  },
  {
   "cell_type": "markdown",
   "metadata": {},
   "source": [
    "Overall svd estimation for user 2 predicted higher scores, and standEst for user 1. Maybe predicted scores will change if we work around numbers around users. "
   ]
  },
  {
   "cell_type": "markdown",
   "metadata": {},
   "source": [
    "#### b)\n",
    "Complete the definition for the function \"test\". This function iterates over all users and for each performs evaluation (by calling the provided \"cross_validate_user\" function), and returns the error information necessary to compute Mean Absolute Error (MAE). Use this function to perform evaluation (with 20% test-ratio for each user) comparing MAE results using the rating prediction function \"standEst\" with results using the \"svdEst\" prediction function. [Note: See comments provided in the module for hints on accomplishing these tasks.]"
   ]
  },
  {
   "cell_type": "code",
   "execution_count": 42,
   "metadata": {},
   "outputs": [],
   "source": [
    "import sys\n",
    "sys.path.insert(0,'jokes/')"
   ]
  },
  {
   "cell_type": "code",
   "execution_count": 43,
   "metadata": {},
   "outputs": [
    {
     "data": {
      "text/plain": [
       "<module 'itemBasedRec' from 'jokes\\\\itemBasedRec.py'>"
      ]
     },
     "execution_count": 43,
     "metadata": {},
     "output_type": "execute_result"
    }
   ],
   "source": [
    "from importlib import reload\n",
    "\n",
    "import itemBasedRec as ibr\n",
    "reload(ibr)"
   ]
  },
  {
   "cell_type": "code",
   "execution_count": 52,
   "metadata": {},
   "outputs": [],
   "source": [
    "def test(dataMat, test_ratio, estMethod, simMeas=pearsonSim):\n",
    "    t_error = 0\n",
    "    t_count = 0\n",
    "    for i in range(len(dataMat)):\n",
    "        error, count = ibr.cross_validate_user(dataMat, i, test_ratio, eval(estMethod), simMeas)\n",
    "        t_error+=error\n",
    "        t_count+=count\n",
    "    MAE = t_error/t_count\n",
    "    \n",
    "    return MAE"
   ]
  },
  {
   "cell_type": "code",
   "execution_count": 49,
   "metadata": {},
   "outputs": [
    {
     "name": "stdout",
     "output_type": "stream",
     "text": [
      "3.708023520032522\n"
     ]
    }
   ],
   "source": [
    "standEst_MAE = test(df, 0.2, \"standEst\")\n",
    "print(standEst_MAE)"
   ]
  },
  {
   "cell_type": "code",
   "execution_count": 53,
   "metadata": {},
   "outputs": [
    {
     "name": "stdout",
     "output_type": "stream",
     "text": [
      "3.631338000855049\n"
     ]
    }
   ],
   "source": [
    "svdEst_MAE = test(df, 0.2, \"svdEst\")\n",
    "print(svdEst_MAE)"
   ]
  },
  {
   "cell_type": "code",
   "execution_count": 62,
   "metadata": {},
   "outputs": [],
   "source": [
    "def print_most_similar_jokes(dataMat, jokes, queryJoke, k, metric=pearsonSim):\n",
    "    jokes_transpose = dataMat.T\n",
    "    sims =[]\n",
    "    for i in range(len(jokes_transpose)):\n",
    "        if (i==queryJoke):\n",
    "            continue;\n",
    "        sim = metric(jokes_transpose[queryJoke], jokes_transpose[i])\n",
    "        sims.append((sim,i))\n",
    "    sims.sort(reverse = True)\n",
    "    print(\"top {} most similar jokes to {}:\\n\\n{}\".format(k,queryJoke,jokes.iloc[queryJoke][1]))\n",
    "    for i in range(k):\n",
    "        joke=sims[i]\n",
    "        print(\"\\nJoke {}, similarity {:0.6f}:\".format(i+1,joke[0]))\n",
    "        print(jokes.iloc[joke[1]][1])\n",
    "    return"
   ]
  },
  {
   "cell_type": "code",
   "execution_count": 63,
   "metadata": {},
   "outputs": [
    {
     "name": "stdout",
     "output_type": "stream",
     "text": [
      "top 5 most similar jokes to 0:\n",
      "\n",
      "A man visits the doctor. The doctor says \"I have bad news for you.You have cancer and Alzheimer's disease\". The man replies \"Well thank God I don't have cancer!\"\n",
      "\n",
      "Joke 1, similarity 0.815454:\n",
      "Q. What's the difference between a man and a toilet? A. A toilet doesn't follow you around after you use it.\n",
      "\n",
      "Joke 2, similarity 0.814750:\n",
      "Q: What do Monica Lewinsky and Bob Dole have in common?A: They were both upset when Bill finished first.\n",
      "\n",
      "Joke 3, similarity 0.802881:\n",
      "Q: How do you keep a computer programmer in the shower all day long?A: Give them a shampoo with a label that says\"rinse lather repeat\".\n",
      "\n",
      "Joke 4, similarity 0.801244:\n",
      "A woman has twins and gives them up for adoption.  One of them goes to a family in Egypt and is named \"Amal.\"  The other goes to a  family in Spain; they name him \"Juan.\"  Years later Juan sends a picture of himself to his mom.  Upon receiving the picture she tells her husband that she wishes she also had a picture of Amal.  Her husband responds \"But they are twins-if you've seen Juan you've seen   Amal.\n",
      "\n",
      "Joke 5, similarity 0.798864:\n",
      "What's the difference between a MacIntosh and anEtch-A-Sketch? You don't have to shake the Mac to clear the screen. \n"
     ]
    }
   ],
   "source": [
    "print_most_similar_jokes(df,jokes,0,5)"
   ]
  },
  {
   "cell_type": "markdown",
   "metadata": {},
   "source": [
    "#### d)\n",
    "[Extra Credit]: Develop your own item-based collaborative filtering recommender that uses a model-based approach (separating the training and the prediction tasks). In the training component, item-item similarities for all pairs of items are computed and stored in an appropriate data structure. Your training function should be able to use different similarity functions (passed as a parameter) including Cosine Similarity or Pearson Correlation. The prediction (or estimation) function should take as parameters a target user, an item, a value of k, and the similarities data structure and return the predicted rating on the target item for the target user. The predicted rating should be based on the weighted average of the target user's ratings on k most similar items to the target item. You should test the prediction accuracy of your estimation function (using a cross-validation similar to part b, above) and provide a plot of cross-validation accuracies across a range of values of k. Using the best value of k, demonstrate the functionality of your recommender by generating recommendations for several anecdotal users (similar to part a, above)."
   ]
  },
  {
   "cell_type": "code",
   "execution_count": 123,
   "metadata": {},
   "outputs": [],
   "source": [
    "from sklearn.model_selection import train_test_split\n",
    "df_t = df.T\n",
    "X_train, X_test, y_train, y_test = train_test_split(df_t, jokes, test_size=0.2, random_state = 33)"
   ]
  },
  {
   "cell_type": "code",
   "execution_count": 124,
   "metadata": {},
   "outputs": [],
   "source": [
    "def most_similar_items(data,metric=pearsonSim):\n",
    "    sims = []\n",
    "    for i in range(len(data)):\n",
    "        for j in range(i, len(data)):\n",
    "            if i==j:\n",
    "                continue\n",
    "            simMeas = metric(data[i], data[j])\n",
    "            user = (simMeas, i, j)\n",
    "            sims.append(user)\n",
    "    sims.sort(reverse=True)\n",
    "    return sims"
   ]
  },
  {
   "cell_type": "code",
   "execution_count": 125,
   "metadata": {},
   "outputs": [
    {
     "data": {
      "text/plain": [
       "[(0.9366996388217678, 60, 67),\n",
       " (0.9281184407526155, 36, 67),\n",
       " (0.9211802501682792, 9, 60),\n",
       " (0.9192813981299488, 9, 67),\n",
       " (0.9107610183340304, 36, 60)]"
      ]
     },
     "execution_count": 125,
     "metadata": {},
     "output_type": "execute_result"
    }
   ],
   "source": [
    "most_similar_items(X_train)[:5]"
   ]
  },
  {
   "cell_type": "code",
   "execution_count": 126,
   "metadata": {},
   "outputs": [],
   "source": [
    "def prediction(user, joke, k, sims):\n",
    "    simsMat = [sims[i] for i in range(len(sims)) if sims[i][1] == joke or sims[i][2]==joke][:k]\n",
    "    top_jokes = []\n",
    "    for i in range(len(simsMat)):\n",
    "        if simsMat[i][1] != joke:\n",
    "            top_jokes.append(simsMat[i][1])\n",
    "        else:\n",
    "            top_jokes.append(simsMat[i][2])\n",
    "    rates = []\n",
    "    for r in top_jokes:\n",
    "        rate = df[user][r]\n",
    "        if rate != 0:\n",
    "            rates.append(rate)\n",
    "    return np.mean(rates)"
   ]
  },
  {
   "cell_type": "code",
   "execution_count": 134,
   "metadata": {},
   "outputs": [
    {
     "name": "stdout",
     "output_type": "stream",
     "text": [
      "user 3 for joke 4 predicted: 12.905\n",
      "actual rating for joke 4 is: 5.61\n"
     ]
    }
   ],
   "source": [
    "User = 3\n",
    "Joke = 4\n",
    "K = 4\n",
    "msi = most_similar_items(X_train)\n",
    "predict_user = prediction(User, Joke, K, msi)\n",
    "print(\"user {} for joke {} predicted: {}\".format(User, Joke, predict_user))\n",
    "print(\"actual rating for joke {} is: {}\".format(Joke, df[User][Joke]))"
   ]
  },
  {
   "cell_type": "code",
   "execution_count": 143,
   "metadata": {},
   "outputs": [
    {
     "name": "stdout",
     "output_type": "stream",
     "text": [
      "estimate [10.56, 12.165, 14.719999999999999, 12.905, 12.905]\n",
      "distance [4.95, 6.554999999999999, 9.11, 7.294999999999999, 7.294999999999999]\n"
     ]
    }
   ],
   "source": [
    "estimate = []\n",
    "for i in range(1,100):\n",
    "    estimate.append(prediction(User, Joke, i, msi))\n",
    "\n",
    "distance = []\n",
    "for j in range(len(estimate)):\n",
    "    distance.append(abs(estimate[j] - df[User][Joke]))\n",
    "print(\"estimate\",estimate[:5])\n",
    "print(\"distance\",distance[:5])"
   ]
  },
  {
   "cell_type": "code",
   "execution_count": 144,
   "metadata": {},
   "outputs": [
    {
     "data": {
      "image/png": "[encoded data removed]",
      "text/plain": [
       "<Figure size 432x288 with 1 Axes>"
      ]
     },
     "metadata": {
      "needs_background": "light"
     },
     "output_type": "display_data"
    }
   ],
   "source": [
    "plt.plot(distance)\n",
    "plt.xlabel(\"k value\")\n",
    "plt.ylabel(\"Accuracy\")\n",
    "plt.title(\"Cross validation accuracies accros k values\")\n",
    "plt.show()"
   ]
  },
  {
   "cell_type": "code",
   "execution_count": 150,
   "metadata": {},
   "outputs": [
    {
     "name": "stdout",
     "output_type": "stream",
     "text": [
      "user 4 for joke 7 predicted: 10.731549295774649\n",
      "actual rating for joke 7 is: 2.84\n"
     ]
    }
   ],
   "source": [
    "User = 4\n",
    "Joke = 7\n",
    "b_k= distance.index(min(distance)) + 1\n",
    "predict_User = prediction(User, Joke,b_k, msi)\n",
    "print(\"user {} for joke {} predicted: {}\".format(User, Joke, predict_User))\n",
    "print(\"actual rating for joke {} is: {}\".format(Joke, df[User][Joke]))"
   ]
  },
  {
   "cell_type": "code",
   "execution_count": 151,
   "metadata": {},
   "outputs": [
    {
     "name": "stdout",
     "output_type": "stream",
     "text": [
      "user 5 for joke 15 predicted: 10.731549295774649\n",
      "actual rating for joke 15 is: 8.72\n"
     ]
    }
   ],
   "source": [
    "User = 5\n",
    "Joke = 15\n",
    "print(\"user {} for joke {} predicted: {}\".format(User, Joke, predict_User))\n",
    "print(\"actual rating for joke {} is: {}\".format(Joke, df[User][Joke]))"
   ]
  },
  {
   "cell_type": "code",
   "execution_count": null,
   "metadata": {},
   "outputs": [],
   "source": []
  },
  {
   "cell_type": "code",
   "execution_count": null,
   "metadata": {},
   "outputs": [],
   "source": []
  }
 ],
 "metadata": {
  "kernelspec": {
   "display_name": "Python 3.7.3 64-bit ('14023': virtualenv)",
   "language": "python",
   "name": "python37364bit14023virtualenv43d760947b1c41cea019d510c4f98b52"
  },
  "language_info": {
   "codemirror_mode": {
    "name": "ipython",
    "version": 3
   },
   "file_extension": ".py",
   "mimetype": "text/x-python",
   "name": "python",
   "nbconvert_exporter": "python",
   "pygments_lexer": "ipython3",
   "version": "3.7.3"
  }
 },
 "nbformat": 4,
 "nbformat_minor": 4
}
