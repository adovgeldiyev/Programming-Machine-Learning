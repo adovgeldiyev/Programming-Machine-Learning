{
 "cells": [
  {
   "cell_type": "code",
   "execution_count": 1,
   "metadata": {},
   "outputs": [],
   "source": [
    "# import dependencies\n",
    "import numpy as np\n",
    "import pandas as pd"
   ]
  },
  {
   "cell_type": "markdown",
   "metadata": {},
   "source": [
    "## Linear Regression\n",
    "#### a) \n",
    "Load and preprocess the data using Pandas or Numpy and, if necessary, preprocessing functions from scikit-learn. The provided data is already normalized (see description), so there is no need for additional normalization. "
   ]
  },
  {
   "cell_type": "code",
   "execution_count": 2,
   "metadata": {},
   "outputs": [
    {
     "data": {
      "text/html": [
       "<div>\n",
       "<style scoped>\n",
       "    .dataframe tbody tr th:only-of-type {\n",
       "        vertical-align: middle;\n",
       "    }\n",
       "\n",
       "    .dataframe tbody tr th {\n",
       "        vertical-align: top;\n",
       "    }\n",
       "\n",
       "    .dataframe thead th {\n",
       "        text-align: right;\n",
       "    }\n",
       "</style>\n",
       "<table border=\"1\" class=\"dataframe\">\n",
       "  <thead>\n",
       "    <tr style=\"text-align: right;\">\n",
       "      <th></th>\n",
       "      <th>state</th>\n",
       "      <th>communityname</th>\n",
       "      <th>population</th>\n",
       "      <th>householdsize</th>\n",
       "      <th>racepctblack</th>\n",
       "      <th>racePctWhite</th>\n",
       "      <th>racePctAsian</th>\n",
       "      <th>racePctHisp</th>\n",
       "      <th>agePct12t21</th>\n",
       "      <th>agePct12t29</th>\n",
       "      <th>...</th>\n",
       "      <th>NumStreet</th>\n",
       "      <th>PctForeignBorn</th>\n",
       "      <th>PctBornSameState</th>\n",
       "      <th>PctSameHouse85</th>\n",
       "      <th>PctSameCity85</th>\n",
       "      <th>PctSameState85</th>\n",
       "      <th>LandArea</th>\n",
       "      <th>PopDens</th>\n",
       "      <th>PctUsePubTrans</th>\n",
       "      <th>ViolentCrimesPerPop</th>\n",
       "    </tr>\n",
       "  </thead>\n",
       "  <tbody>\n",
       "    <tr>\n",
       "      <th>0</th>\n",
       "      <td>8</td>\n",
       "      <td>Lakewoodcity</td>\n",
       "      <td>0.19</td>\n",
       "      <td>0.33</td>\n",
       "      <td>0.02</td>\n",
       "      <td>0.90</td>\n",
       "      <td>0.12</td>\n",
       "      <td>0.17</td>\n",
       "      <td>0.34</td>\n",
       "      <td>0.47</td>\n",
       "      <td>...</td>\n",
       "      <td>0.0</td>\n",
       "      <td>0.12</td>\n",
       "      <td>0.42</td>\n",
       "      <td>0.50</td>\n",
       "      <td>0.51</td>\n",
       "      <td>0.64</td>\n",
       "      <td>0.12</td>\n",
       "      <td>0.26</td>\n",
       "      <td>0.20</td>\n",
       "      <td>0.20</td>\n",
       "    </tr>\n",
       "    <tr>\n",
       "      <th>1</th>\n",
       "      <td>53</td>\n",
       "      <td>Tukwilacity</td>\n",
       "      <td>0.00</td>\n",
       "      <td>0.16</td>\n",
       "      <td>0.12</td>\n",
       "      <td>0.74</td>\n",
       "      <td>0.45</td>\n",
       "      <td>0.07</td>\n",
       "      <td>0.26</td>\n",
       "      <td>0.59</td>\n",
       "      <td>...</td>\n",
       "      <td>0.0</td>\n",
       "      <td>0.21</td>\n",
       "      <td>0.50</td>\n",
       "      <td>0.34</td>\n",
       "      <td>0.60</td>\n",
       "      <td>0.52</td>\n",
       "      <td>0.02</td>\n",
       "      <td>0.12</td>\n",
       "      <td>0.45</td>\n",
       "      <td>0.67</td>\n",
       "    </tr>\n",
       "    <tr>\n",
       "      <th>2</th>\n",
       "      <td>24</td>\n",
       "      <td>Aberdeentown</td>\n",
       "      <td>0.00</td>\n",
       "      <td>0.42</td>\n",
       "      <td>0.49</td>\n",
       "      <td>0.56</td>\n",
       "      <td>0.17</td>\n",
       "      <td>0.04</td>\n",
       "      <td>0.39</td>\n",
       "      <td>0.47</td>\n",
       "      <td>...</td>\n",
       "      <td>0.0</td>\n",
       "      <td>0.14</td>\n",
       "      <td>0.49</td>\n",
       "      <td>0.54</td>\n",
       "      <td>0.67</td>\n",
       "      <td>0.56</td>\n",
       "      <td>0.01</td>\n",
       "      <td>0.21</td>\n",
       "      <td>0.02</td>\n",
       "      <td>0.43</td>\n",
       "    </tr>\n",
       "    <tr>\n",
       "      <th>3</th>\n",
       "      <td>34</td>\n",
       "      <td>Willingborotownship</td>\n",
       "      <td>0.04</td>\n",
       "      <td>0.77</td>\n",
       "      <td>1.00</td>\n",
       "      <td>0.08</td>\n",
       "      <td>0.12</td>\n",
       "      <td>0.10</td>\n",
       "      <td>0.51</td>\n",
       "      <td>0.50</td>\n",
       "      <td>...</td>\n",
       "      <td>0.0</td>\n",
       "      <td>0.19</td>\n",
       "      <td>0.30</td>\n",
       "      <td>0.73</td>\n",
       "      <td>0.64</td>\n",
       "      <td>0.65</td>\n",
       "      <td>0.02</td>\n",
       "      <td>0.39</td>\n",
       "      <td>0.28</td>\n",
       "      <td>0.12</td>\n",
       "    </tr>\n",
       "    <tr>\n",
       "      <th>4</th>\n",
       "      <td>42</td>\n",
       "      <td>Bethlehemtownship</td>\n",
       "      <td>0.01</td>\n",
       "      <td>0.55</td>\n",
       "      <td>0.02</td>\n",
       "      <td>0.95</td>\n",
       "      <td>0.09</td>\n",
       "      <td>0.05</td>\n",
       "      <td>0.38</td>\n",
       "      <td>0.38</td>\n",
       "      <td>...</td>\n",
       "      <td>0.0</td>\n",
       "      <td>0.11</td>\n",
       "      <td>0.72</td>\n",
       "      <td>0.64</td>\n",
       "      <td>0.61</td>\n",
       "      <td>0.53</td>\n",
       "      <td>0.04</td>\n",
       "      <td>0.09</td>\n",
       "      <td>0.02</td>\n",
       "      <td>0.03</td>\n",
       "    </tr>\n",
       "  </tbody>\n",
       "</table>\n",
       "<p>5 rows × 100 columns</p>\n",
       "</div>"
      ],
      "text/plain": [
       "   state        communityname  population  householdsize  racepctblack  \\\n",
       "0      8         Lakewoodcity        0.19           0.33          0.02   \n",
       "1     53          Tukwilacity        0.00           0.16          0.12   \n",
       "2     24         Aberdeentown        0.00           0.42          0.49   \n",
       "3     34  Willingborotownship        0.04           0.77          1.00   \n",
       "4     42    Bethlehemtownship        0.01           0.55          0.02   \n",
       "\n",
       "   racePctWhite  racePctAsian  racePctHisp  agePct12t21  agePct12t29  ...  \\\n",
       "0          0.90          0.12         0.17         0.34         0.47  ...   \n",
       "1          0.74          0.45         0.07         0.26         0.59  ...   \n",
       "2          0.56          0.17         0.04         0.39         0.47  ...   \n",
       "3          0.08          0.12         0.10         0.51         0.50  ...   \n",
       "4          0.95          0.09         0.05         0.38         0.38  ...   \n",
       "\n",
       "   NumStreet  PctForeignBorn  PctBornSameState  PctSameHouse85  PctSameCity85  \\\n",
       "0        0.0            0.12              0.42            0.50           0.51   \n",
       "1        0.0            0.21              0.50            0.34           0.60   \n",
       "2        0.0            0.14              0.49            0.54           0.67   \n",
       "3        0.0            0.19              0.30            0.73           0.64   \n",
       "4        0.0            0.11              0.72            0.64           0.61   \n",
       "\n",
       "   PctSameState85  LandArea  PopDens  PctUsePubTrans  ViolentCrimesPerPop  \n",
       "0            0.64      0.12     0.26            0.20                 0.20  \n",
       "1            0.52      0.02     0.12            0.45                 0.67  \n",
       "2            0.56      0.01     0.21            0.02                 0.43  \n",
       "3            0.65      0.02     0.39            0.28                 0.12  \n",
       "4            0.53      0.04     0.09            0.02                 0.03  \n",
       "\n",
       "[5 rows x 100 columns]"
      ]
     },
     "execution_count": 2,
     "metadata": {},
     "output_type": "execute_result"
    }
   ],
   "source": [
    "# read in data\n",
    "df = pd.read_csv(\"communities/communities.csv\",na_values=[\"?\"], header = 0)\n",
    "df.head()"
   ]
  },
  {
   "cell_type": "code",
   "execution_count": 3,
   "metadata": {},
   "outputs": [
    {
     "data": {
      "text/plain": [
       "True"
      ]
     },
     "execution_count": 3,
     "metadata": {},
     "output_type": "execute_result"
    }
   ],
   "source": [
    "#any nan values? we will replace\n",
    "df.isnull().any().any()"
   ]
  },
  {
   "cell_type": "code",
   "execution_count": 4,
   "metadata": {},
   "outputs": [
    {
     "data": {
      "text/plain": [
       "False"
      ]
     },
     "execution_count": 4,
     "metadata": {},
     "output_type": "execute_result"
    }
   ],
   "source": [
    "df=df.dropna()\n",
    "df.isnull().any().any()"
   ]
  },
  {
   "cell_type": "markdown",
   "metadata": {},
   "source": [
    "Compute and display basic statistics (mean, standard deviation, min, max, etc.) for each of the variables in the data set. "
   ]
  },
  {
   "cell_type": "code",
   "execution_count": 5,
   "metadata": {},
   "outputs": [
    {
     "data": {
      "text/html": [
       "<div>\n",
       "<style scoped>\n",
       "    .dataframe tbody tr th:only-of-type {\n",
       "        vertical-align: middle;\n",
       "    }\n",
       "\n",
       "    .dataframe tbody tr th {\n",
       "        vertical-align: top;\n",
       "    }\n",
       "\n",
       "    .dataframe thead th {\n",
       "        text-align: right;\n",
       "    }\n",
       "</style>\n",
       "<table border=\"1\" class=\"dataframe\">\n",
       "  <thead>\n",
       "    <tr style=\"text-align: right;\">\n",
       "      <th></th>\n",
       "      <th>population</th>\n",
       "      <th>householdsize</th>\n",
       "      <th>racepctblack</th>\n",
       "      <th>racePctWhite</th>\n",
       "      <th>racePctAsian</th>\n",
       "      <th>racePctHisp</th>\n",
       "      <th>agePct12t21</th>\n",
       "      <th>agePct12t29</th>\n",
       "      <th>agePct16t24</th>\n",
       "      <th>agePct65up</th>\n",
       "      <th>...</th>\n",
       "      <th>NumStreet</th>\n",
       "      <th>PctForeignBorn</th>\n",
       "      <th>PctBornSameState</th>\n",
       "      <th>PctSameHouse85</th>\n",
       "      <th>PctSameCity85</th>\n",
       "      <th>PctSameState85</th>\n",
       "      <th>LandArea</th>\n",
       "      <th>PopDens</th>\n",
       "      <th>PctUsePubTrans</th>\n",
       "      <th>ViolentCrimesPerPop</th>\n",
       "    </tr>\n",
       "  </thead>\n",
       "  <tbody>\n",
       "    <tr>\n",
       "      <th>count</th>\n",
       "      <td>1993.000000</td>\n",
       "      <td>1993.000000</td>\n",
       "      <td>1993.000000</td>\n",
       "      <td>1993.000000</td>\n",
       "      <td>1993.000000</td>\n",
       "      <td>1993.000000</td>\n",
       "      <td>1993.000000</td>\n",
       "      <td>1993.000000</td>\n",
       "      <td>1993.000000</td>\n",
       "      <td>1993.000000</td>\n",
       "      <td>...</td>\n",
       "      <td>1993.000000</td>\n",
       "      <td>1993.000000</td>\n",
       "      <td>1993.000000</td>\n",
       "      <td>1993.000000</td>\n",
       "      <td>1993.000000</td>\n",
       "      <td>1993.000000</td>\n",
       "      <td>1993.000000</td>\n",
       "      <td>1993.000000</td>\n",
       "      <td>1993.000000</td>\n",
       "      <td>1993.000000</td>\n",
       "    </tr>\n",
       "    <tr>\n",
       "      <th>mean</th>\n",
       "      <td>0.057612</td>\n",
       "      <td>0.463437</td>\n",
       "      <td>0.179227</td>\n",
       "      <td>0.753984</td>\n",
       "      <td>0.153753</td>\n",
       "      <td>0.144089</td>\n",
       "      <td>0.424210</td>\n",
       "      <td>0.493914</td>\n",
       "      <td>0.336297</td>\n",
       "      <td>0.423086</td>\n",
       "      <td>...</td>\n",
       "      <td>0.022790</td>\n",
       "      <td>0.215655</td>\n",
       "      <td>0.608776</td>\n",
       "      <td>0.534967</td>\n",
       "      <td>0.626322</td>\n",
       "      <td>0.651470</td>\n",
       "      <td>0.065243</td>\n",
       "      <td>0.232910</td>\n",
       "      <td>0.161741</td>\n",
       "      <td>0.237983</td>\n",
       "    </tr>\n",
       "    <tr>\n",
       "      <th>std</th>\n",
       "      <td>0.126935</td>\n",
       "      <td>0.163747</td>\n",
       "      <td>0.252870</td>\n",
       "      <td>0.243807</td>\n",
       "      <td>0.208905</td>\n",
       "      <td>0.232531</td>\n",
       "      <td>0.155234</td>\n",
       "      <td>0.143584</td>\n",
       "      <td>0.166540</td>\n",
       "      <td>0.179196</td>\n",
       "      <td>...</td>\n",
       "      <td>0.100424</td>\n",
       "      <td>0.231146</td>\n",
       "      <td>0.204314</td>\n",
       "      <td>0.181360</td>\n",
       "      <td>0.200520</td>\n",
       "      <td>0.198253</td>\n",
       "      <td>0.109485</td>\n",
       "      <td>0.203127</td>\n",
       "      <td>0.229099</td>\n",
       "      <td>0.233043</td>\n",
       "    </tr>\n",
       "    <tr>\n",
       "      <th>min</th>\n",
       "      <td>0.000000</td>\n",
       "      <td>0.000000</td>\n",
       "      <td>0.000000</td>\n",
       "      <td>0.000000</td>\n",
       "      <td>0.000000</td>\n",
       "      <td>0.000000</td>\n",
       "      <td>0.000000</td>\n",
       "      <td>0.000000</td>\n",
       "      <td>0.000000</td>\n",
       "      <td>0.000000</td>\n",
       "      <td>...</td>\n",
       "      <td>0.000000</td>\n",
       "      <td>0.000000</td>\n",
       "      <td>0.000000</td>\n",
       "      <td>0.000000</td>\n",
       "      <td>0.000000</td>\n",
       "      <td>0.000000</td>\n",
       "      <td>0.000000</td>\n",
       "      <td>0.000000</td>\n",
       "      <td>0.000000</td>\n",
       "      <td>0.000000</td>\n",
       "    </tr>\n",
       "    <tr>\n",
       "      <th>25%</th>\n",
       "      <td>0.010000</td>\n",
       "      <td>0.350000</td>\n",
       "      <td>0.020000</td>\n",
       "      <td>0.630000</td>\n",
       "      <td>0.040000</td>\n",
       "      <td>0.010000</td>\n",
       "      <td>0.340000</td>\n",
       "      <td>0.410000</td>\n",
       "      <td>0.250000</td>\n",
       "      <td>0.300000</td>\n",
       "      <td>...</td>\n",
       "      <td>0.000000</td>\n",
       "      <td>0.060000</td>\n",
       "      <td>0.470000</td>\n",
       "      <td>0.420000</td>\n",
       "      <td>0.520000</td>\n",
       "      <td>0.560000</td>\n",
       "      <td>0.020000</td>\n",
       "      <td>0.100000</td>\n",
       "      <td>0.020000</td>\n",
       "      <td>0.070000</td>\n",
       "    </tr>\n",
       "    <tr>\n",
       "      <th>50%</th>\n",
       "      <td>0.020000</td>\n",
       "      <td>0.440000</td>\n",
       "      <td>0.060000</td>\n",
       "      <td>0.850000</td>\n",
       "      <td>0.070000</td>\n",
       "      <td>0.040000</td>\n",
       "      <td>0.400000</td>\n",
       "      <td>0.480000</td>\n",
       "      <td>0.290000</td>\n",
       "      <td>0.420000</td>\n",
       "      <td>...</td>\n",
       "      <td>0.000000</td>\n",
       "      <td>0.130000</td>\n",
       "      <td>0.630000</td>\n",
       "      <td>0.540000</td>\n",
       "      <td>0.670000</td>\n",
       "      <td>0.700000</td>\n",
       "      <td>0.040000</td>\n",
       "      <td>0.170000</td>\n",
       "      <td>0.070000</td>\n",
       "      <td>0.150000</td>\n",
       "    </tr>\n",
       "    <tr>\n",
       "      <th>75%</th>\n",
       "      <td>0.050000</td>\n",
       "      <td>0.540000</td>\n",
       "      <td>0.230000</td>\n",
       "      <td>0.940000</td>\n",
       "      <td>0.170000</td>\n",
       "      <td>0.160000</td>\n",
       "      <td>0.470000</td>\n",
       "      <td>0.540000</td>\n",
       "      <td>0.360000</td>\n",
       "      <td>0.530000</td>\n",
       "      <td>...</td>\n",
       "      <td>0.000000</td>\n",
       "      <td>0.280000</td>\n",
       "      <td>0.770000</td>\n",
       "      <td>0.660000</td>\n",
       "      <td>0.770000</td>\n",
       "      <td>0.790000</td>\n",
       "      <td>0.070000</td>\n",
       "      <td>0.280000</td>\n",
       "      <td>0.190000</td>\n",
       "      <td>0.330000</td>\n",
       "    </tr>\n",
       "    <tr>\n",
       "      <th>max</th>\n",
       "      <td>1.000000</td>\n",
       "      <td>1.000000</td>\n",
       "      <td>1.000000</td>\n",
       "      <td>1.000000</td>\n",
       "      <td>1.000000</td>\n",
       "      <td>1.000000</td>\n",
       "      <td>1.000000</td>\n",
       "      <td>1.000000</td>\n",
       "      <td>1.000000</td>\n",
       "      <td>1.000000</td>\n",
       "      <td>...</td>\n",
       "      <td>1.000000</td>\n",
       "      <td>1.000000</td>\n",
       "      <td>1.000000</td>\n",
       "      <td>1.000000</td>\n",
       "      <td>1.000000</td>\n",
       "      <td>1.000000</td>\n",
       "      <td>1.000000</td>\n",
       "      <td>1.000000</td>\n",
       "      <td>1.000000</td>\n",
       "      <td>1.000000</td>\n",
       "    </tr>\n",
       "  </tbody>\n",
       "</table>\n",
       "<p>8 rows × 98 columns</p>\n",
       "</div>"
      ],
      "text/plain": [
       "        population  householdsize  racepctblack  racePctWhite  racePctAsian  \\\n",
       "count  1993.000000    1993.000000   1993.000000   1993.000000   1993.000000   \n",
       "mean      0.057612       0.463437      0.179227      0.753984      0.153753   \n",
       "std       0.126935       0.163747      0.252870      0.243807      0.208905   \n",
       "min       0.000000       0.000000      0.000000      0.000000      0.000000   \n",
       "25%       0.010000       0.350000      0.020000      0.630000      0.040000   \n",
       "50%       0.020000       0.440000      0.060000      0.850000      0.070000   \n",
       "75%       0.050000       0.540000      0.230000      0.940000      0.170000   \n",
       "max       1.000000       1.000000      1.000000      1.000000      1.000000   \n",
       "\n",
       "       racePctHisp  agePct12t21  agePct12t29  agePct16t24   agePct65up  ...  \\\n",
       "count  1993.000000  1993.000000  1993.000000  1993.000000  1993.000000  ...   \n",
       "mean      0.144089     0.424210     0.493914     0.336297     0.423086  ...   \n",
       "std       0.232531     0.155234     0.143584     0.166540     0.179196  ...   \n",
       "min       0.000000     0.000000     0.000000     0.000000     0.000000  ...   \n",
       "25%       0.010000     0.340000     0.410000     0.250000     0.300000  ...   \n",
       "50%       0.040000     0.400000     0.480000     0.290000     0.420000  ...   \n",
       "75%       0.160000     0.470000     0.540000     0.360000     0.530000  ...   \n",
       "max       1.000000     1.000000     1.000000     1.000000     1.000000  ...   \n",
       "\n",
       "         NumStreet  PctForeignBorn  PctBornSameState  PctSameHouse85  \\\n",
       "count  1993.000000     1993.000000       1993.000000     1993.000000   \n",
       "mean      0.022790        0.215655          0.608776        0.534967   \n",
       "std       0.100424        0.231146          0.204314        0.181360   \n",
       "min       0.000000        0.000000          0.000000        0.000000   \n",
       "25%       0.000000        0.060000          0.470000        0.420000   \n",
       "50%       0.000000        0.130000          0.630000        0.540000   \n",
       "75%       0.000000        0.280000          0.770000        0.660000   \n",
       "max       1.000000        1.000000          1.000000        1.000000   \n",
       "\n",
       "       PctSameCity85  PctSameState85     LandArea      PopDens  \\\n",
       "count    1993.000000     1993.000000  1993.000000  1993.000000   \n",
       "mean        0.626322        0.651470     0.065243     0.232910   \n",
       "std         0.200520        0.198253     0.109485     0.203127   \n",
       "min         0.000000        0.000000     0.000000     0.000000   \n",
       "25%         0.520000        0.560000     0.020000     0.100000   \n",
       "50%         0.670000        0.700000     0.040000     0.170000   \n",
       "75%         0.770000        0.790000     0.070000     0.280000   \n",
       "max         1.000000        1.000000     1.000000     1.000000   \n",
       "\n",
       "       PctUsePubTrans  ViolentCrimesPerPop  \n",
       "count     1993.000000          1993.000000  \n",
       "mean         0.161741             0.237983  \n",
       "std          0.229099             0.233043  \n",
       "min          0.000000             0.000000  \n",
       "25%          0.020000             0.070000  \n",
       "50%          0.070000             0.150000  \n",
       "75%          0.190000             0.330000  \n",
       "max          1.000000             1.000000  \n",
       "\n",
       "[8 rows x 98 columns]"
      ]
     },
     "execution_count": 5,
     "metadata": {},
     "output_type": "execute_result"
    }
   ],
   "source": [
    "#we will drop state numbers and community names as they don't play important roles in our problem.\n",
    "df.drop(columns=['state','communityname'], inplace=True)\n",
    "df.describe()"
   ]
  },
  {
   "cell_type": "code",
   "execution_count": 6,
   "metadata": {},
   "outputs": [],
   "source": [
    "df = df.astype(np.float)\n",
    "X = df.drop(columns=[\"ViolentCrimesPerPop\"])\n",
    "y = df[\"ViolentCrimesPerPop\"]"
   ]
  },
  {
   "cell_type": "markdown",
   "metadata": {},
   "source": [
    "Separate the target attribute for regression. Create a 20%-80% randomized split of the data. Set aside the 20% test portion; the 80% training data partition will be used for cross-validation "
   ]
  },
  {
   "cell_type": "code",
   "execution_count": 7,
   "metadata": {},
   "outputs": [],
   "source": [
    "from sklearn.model_selection import train_test_split\n",
    "\n",
    "X_train, X_test,y_train, y_test = train_test_split(X, y, test_size = 0.2, random_state = 33)"
   ]
  },
  {
   "cell_type": "markdown",
   "metadata": {},
   "source": [
    "#### b)\n",
    "Perform standard linear regression on data using the closed form solution implementation (not the scikit-learn implementation). Compute the RMSE value on the full training data (the 80% partition). Also, plot the correlation between the predicted and actual values of the target attribute. Display the obtained regression coefficients (weights) and plot them using matplotlib. Finally, perform 10-fold cross-validation and compare the cross-validation RMSE to the training RMSE (for cross validation, you should use the KFold module from sklearn.model_selection)."
   ]
  },
  {
   "cell_type": "code",
   "execution_count": 8,
   "metadata": {},
   "outputs": [],
   "source": [
    "def standRegres(xArr, yArr):\n",
    "    xMat = np.mat(xArr); yMat = np.mat(yArr).T\n",
    "    xTx = xMat.T*xMat\n",
    "    if np.linalg.det(xTx) == 0.0:\n",
    "        print(\"This matrix is singular, cannot do inverse\")\n",
    "        return\n",
    "    ws = xTx.I * (xMat.T*yMat)\n",
    "    return ws"
   ]
  },
  {
   "cell_type": "code",
   "execution_count": 9,
   "metadata": {},
   "outputs": [],
   "source": [
    "#Compute the RMSE value on the full training data\n",
    "w = standRegres(X_train, y_train)\n",
    "\n",
    "xMat = np.mat(X_train)\n",
    "yMat = np.mat(y_train)\n",
    "\n",
    "yHat = xMat * w\n",
    "yHat = yHat.A.ravel()"
   ]
  },
  {
   "cell_type": "code",
   "execution_count": 10,
   "metadata": {},
   "outputs": [],
   "source": [
    "err = abs(yHat - y_train)\n",
    "\n",
    "#sum of squared errors\n",
    "total_error = np.dot(err,err)"
   ]
  },
  {
   "cell_type": "code",
   "execution_count": 11,
   "metadata": {},
   "outputs": [
    {
     "name": "stdout",
     "output_type": "stream",
     "text": [
      "RMSE on Training data:  0.128\n"
     ]
    }
   ],
   "source": [
    "rmse_train = np.sqrt(total_error/len(yHat))\n",
    "print(\"RMSE on Training data: \",round(rmse_train,3))"
   ]
  },
  {
   "cell_type": "code",
   "execution_count": 12,
   "metadata": {},
   "outputs": [
    {
     "data": {
      "text/plain": [
       "Text(0, 0.5, 'Predicted')"
      ]
     },
     "execution_count": 12,
     "metadata": {},
     "output_type": "execute_result"
    },
    {
     "data": {
      "image/png": "[encoded data removed]",
      "text/plain": [
       "<Figure size 432x288 with 1 Axes>"
      ]
     },
     "metadata": {
      "needs_background": "light"
     },
     "output_type": "display_data"
    }
   ],
   "source": [
    "#Also, plot the correlation between the predicted and actual values of the target attribute. \n",
    "#Display the obtained regression coefficients (weights) and plot them using matplotlib. \n",
    "import matplotlib.pyplot as plt\n",
    "\n",
    "plt.plot(yHat, y_train, 'o', alpha=0.5)\n",
    "# m = slope, b=intercept\n",
    "m, b = np.polyfit(yHat, y_train, 1)\n",
    "plt.plot(yHat, m*yHat + b)\n",
    "plt.xlabel('Actual')\n",
    "plt.ylabel('Predicted')"
   ]
  },
  {
   "cell_type": "code",
   "execution_count": null,
   "metadata": {},
   "outputs": [],
   "source": []
  },
  {
   "cell_type": "code",
   "execution_count": 13,
   "metadata": {},
   "outputs": [
    {
     "name": "stdout",
     "output_type": "stream",
     "text": [
      "population   -0.14\n",
      "householdsize   0.02\n",
      "racepctblack   0.26\n",
      "racePctWhite   0.04\n",
      "racePctAsian   0.02\n",
      "racePctHisp   0.14\n",
      "agePct12t21   0.24\n",
      "agePct12t29   -0.18\n",
      "agePct16t24   -0.25\n",
      "agePct65up   0.21\n",
      "numbUrban   0.07\n",
      "pctUrban   0.04\n",
      "medIncome   -0.12\n",
      "pctWWage   -0.23\n",
      "pctWFarmSelf   0.03\n",
      "pctWInvInc   -0.15\n",
      "pctWSocSec   -0.03\n",
      "pctWPubAsst   0.04\n",
      "pctWRetire   -0.06\n",
      "medFamInc   0.12\n",
      "perCapInc   0.02\n",
      "whitePerCap   -0.12\n",
      "blackPerCap   -0.02\n",
      "indianPerCap   -0.03\n",
      "AsianPerCap   0.02\n",
      "OtherPerCap   0.03\n",
      "HispPerCap   0.04\n",
      "NumUnderPov   0.12\n",
      "PctPopUnderPov   -0.16\n",
      "PctLess9thGrade   -0.12\n",
      "PctNotHSGrad   0.08\n",
      "PctBSorMore   0.11\n",
      "PctUnemployed   0.05\n",
      "PctEmploy   0.32\n",
      "PctEmplManu   -0.02\n",
      "PctEmplProfServ   -0.01\n",
      "MalePctDivorce   0.42\n",
      "MalePctNevMarr   0.27\n",
      "FemalePctDiv   0.03\n",
      "TotalPctDiv   -0.33\n",
      "PersPerFam   -0.08\n",
      "PctFam2Par   0.08\n",
      "PctKids2Par   -0.26\n",
      "PctYoungKids2Par   -0.02\n",
      "PctTeen2Par   -0.01\n",
      "PctWorkMomYoungKids   0.07\n",
      "PctWorkMom   -0.19\n",
      "NumIlleg   -0.21\n",
      "PctIlleg   0.17\n",
      "NumImmig   -0.09\n",
      "PctImmigRecent   0.05\n",
      "PctImmigRec5   0.05\n",
      "PctImmigRec8   -0.11\n",
      "PctImmigRec10   0.06\n",
      "PctRecentImmig   -0.06\n",
      "PctRecImmig5   -0.29\n",
      "PctRecImmig8   0.65\n",
      "PctRecImmig10   -0.34\n",
      "PctSpeakEnglOnly   0.06\n",
      "PctNotSpeakEnglWell   -0.14\n",
      "PctLargHouseFam   -0.09\n",
      "PctLargHouseOccup   -0.11\n",
      "PersPerOccupHous   0.46\n",
      "PersPerOwnOccHous   0.12\n",
      "PersPerRentOccHous   -0.25\n",
      "PctPersOwnOccup   -0.98\n",
      "PctPersDenseHous   0.19\n",
      "PctHousLess3BR   0.17\n",
      "MedNumBR   0.03\n",
      "HousVacant   0.12\n",
      "PctHousOccup   -0.05\n",
      "PctHousOwnOcc   0.89\n",
      "PctVacantBoarded   0.05\n",
      "PctVacMore6Mos   -0.05\n",
      "MedYrHousBuilt   0.00\n",
      "PctHousNoPhone   0.00\n",
      "PctWOFullPlumb   -0.01\n",
      "OwnOccLowQuart   -0.41\n",
      "OwnOccMedVal   0.48\n",
      "OwnOccHiQuart   -0.15\n",
      "RentLowQ   -0.25\n",
      "RentMedian   -0.00\n",
      "RentHighQ   -0.10\n",
      "MedRent   0.37\n",
      "MedRentPctHousInc   0.07\n",
      "MedOwnCostPctInc   -0.06\n",
      "MedOwnCostPctIncNoMtg   -0.09\n",
      "NumInShelters   0.17\n",
      "NumStreet   0.13\n",
      "PctForeignBorn   0.15\n",
      "PctBornSameState   0.03\n",
      "PctSameHouse85   0.01\n",
      "PctSameCity85   0.03\n",
      "PctSameState85   -0.03\n",
      "LandArea   0.01\n",
      "PopDens   0.02\n",
      "PctUsePubTrans   -0.05\n"
     ]
    }
   ],
   "source": [
    "#Display the obtained regression coefficients (weights) and plot them using matplotlib. \n",
    "for i in range(len(X_train.columns)):\n",
    "    print(\"%7s   %2.2f\" % (X_train.columns[i], w[i]))"
   ]
  },
  {
   "cell_type": "code",
   "execution_count": 14,
   "metadata": {},
   "outputs": [
    {
     "data": {
      "image/png": "[encoded data removed]",
      "text/plain": [
       "<Figure size 1440x3600 with 1 Axes>"
      ]
     },
     "metadata": {
      "needs_background": "light"
     },
     "output_type": "display_data"
    }
   ],
   "source": [
    "%matplotlib inline\n",
    "\n",
    "def plot_coefficients(weights, n_features, feature_names):\n",
    "    plt.rcParams[\"figure.figsize\"] = (20,50)\n",
    "    plt.barh(range(n_features), weights, align='center')\n",
    "    plt.yticks(np.arange(n_features), feature_names)\n",
    "    plt.xlabel(\"Coefficient Value\")\n",
    "    plt.ylabel(\"Feature\")\n",
    "    plt.ylim(-1, n_features)\n",
    "    plt.show()\n",
    "\n",
    "plot_coefficients(w.A.ravel(), len(X_train.columns), X_train.columns)"
   ]
  },
  {
   "cell_type": "code",
   "execution_count": null,
   "metadata": {},
   "outputs": [],
   "source": []
  },
  {
   "cell_type": "markdown",
   "metadata": {},
   "source": [
    "Finally, perform 10-fold cross-validation and compare the cross-validation RMSE to the training RMSE (for cross validation, you should use the KFold module from sklearn.model_selection)."
   ]
  },
  {
   "cell_type": "code",
   "execution_count": 15,
   "metadata": {},
   "outputs": [
    {
     "name": "stdout",
     "output_type": "stream",
     "text": [
      "Fold  1 RMSE: 0.1240\n",
      "Fold  2 RMSE: 0.1240\n",
      "Fold  3 RMSE: 0.1275\n",
      "Fold  4 RMSE: 0.1270\n",
      "Fold  5 RMSE: 0.1271\n",
      "Fold  6 RMSE: 0.1230\n",
      "Fold  7 RMSE: 0.1272\n",
      "Fold  8 RMSE: 0.1248\n",
      "Fold  9 RMSE: 0.1250\n",
      "Fold 10 RMSE: 0.1268\n"
     ]
    }
   ],
   "source": [
    "from sklearn.model_selection import KFold\n",
    "\n",
    "n=10\n",
    "\n",
    "kf = KFold(n_splits = n, random_state=22, shuffle=True)\n",
    "xval_err = 0\n",
    "f = 1\n",
    "for train, test in kf.split(X_train):\n",
    "    X_fold_train = X_train[X_train.index.isin(train)]\n",
    "    y_fold_train = y_train[y_train.index.isin(train)]\n",
    "    w=standRegres(X_fold_train,y_fold_train)\n",
    "    \n",
    "    xMat = np.mat(X_fold_train)\n",
    "    yMat = np.mat(y_fold_train)\n",
    "    yHat = xMat*w\n",
    "    yHat = yHat.A.ravel()\n",
    "    \n",
    "    err = abs(yHat - y_fold_train)\n",
    "    total_error = np.dot(err,err)\n",
    "    \n",
    "    rmse = np.sqrt(np.dot(err,err)/len(X_fold_train))\n",
    "    print(\"Fold %2d RMSE: %.4f\" % (f,rmse))\n",
    "    xval_err += rmse\n",
    "    f+=1"
   ]
  },
  {
   "cell_type": "code",
   "execution_count": 16,
   "metadata": {},
   "outputs": [
    {
     "name": "stdout",
     "output_type": "stream",
     "text": [
      "Method: Simple Linear Regression\n",
      "RMSE on training: 0.1277\n",
      "RMSE on 10-fold CV: 0.1256\n"
     ]
    }
   ],
   "source": [
    "cv=xval_err/n\n",
    "method_name = 'Simple Linear Regression'\n",
    "print('Method: %s' %method_name)\n",
    "print('RMSE on training: %.4f' %rmse_train)\n",
    "print('RMSE on 10-fold CV: %.4f'%cv)"
   ]
  },
  {
   "cell_type": "markdown",
   "metadata": {},
   "source": [
    " #### c)\n",
    " Feature Selection:  use the scikit-learn regression model from sklearn.linear_model with a subset of features to perform linear regression. For feature selection, write a script or function that takes as input the training data, target variable; the model; and any other parameters you find necessary, and returns the optimal percentage of the most informative features to use. Your approach should use k-fold cross-validation on the training data (you can use k=5). You can use feature_selection.SelectPercentile to find the most informative variables. "
   ]
  },
  {
   "cell_type": "code",
   "execution_count": 17,
   "metadata": {},
   "outputs": [],
   "source": [
    "from sklearn.linear_model import LinearRegression, Lasso, Ridge, ElasticNet,SGDRegressor\n",
    "from sklearn import feature_selection\n",
    "from sklearn.model_selection import cross_val_score, cross_validate"
   ]
  },
  {
   "cell_type": "code",
   "execution_count": 18,
   "metadata": {},
   "outputs": [
    {
     "name": "stdout",
     "output_type": "stream",
     "text": [
      " 5 0.5933\n",
      "10 0.5993\n",
      "15 0.6034\n",
      "20 0.6151\n",
      "25 0.6280\n",
      "30 0.6329\n",
      "35 0.6359\n",
      "40 0.6386\n",
      "45 0.6348\n",
      "50 0.6327\n",
      "55 0.6335\n",
      "60 0.6334\n",
      "65 0.6309\n",
      "70 0.6299\n",
      "75 0.6306\n",
      "80 0.6323\n",
      "85 0.6344\n",
      "90 0.6322\n",
      "95 0.6387\n",
      "100 0.6400\n"
     ]
    }
   ],
   "source": [
    "#write a script or function that takes as input the training data, \n",
    "#target variable; the model; and any other parameters you find necessary,\n",
    "linreg = LinearRegression()\n",
    "\n",
    "percentiles = range(5,101,5)\n",
    "results = []\n",
    "\n",
    "for i in percentiles:\n",
    "    fs = feature_selection.SelectPercentile(feature_selection.f_regression, percentile=i)\n",
    "    X_train_fs = fs.fit_transform(X_train, y_train)\n",
    "    scores = cross_val_score(linreg, X_train_fs,y_train, cv=5)\n",
    "    print(\"%2d %0.4f\" % (i, scores.mean()))\n",
    "    results = np.append(results,scores.mean())"
   ]
  },
  {
   "cell_type": "code",
   "execution_count": 19,
   "metadata": {},
   "outputs": [
    {
     "name": "stdout",
     "output_type": "stream",
     "text": [
      "19\n"
     ]
    }
   ],
   "source": [
    "# optimal percentage of the most informative features to use\n",
    "optimal_percentile_ind = np.where(results ==results.max())[0][0]\n",
    "print(optimal_percentile_ind)"
   ]
  },
  {
   "cell_type": "code",
   "execution_count": 20,
   "metadata": {},
   "outputs": [
    {
     "name": "stdout",
     "output_type": "stream",
     "text": [
      "Optimal percentile of features:100 \n",
      "\n",
      "Optimal number of features:97 \n",
      "\n"
     ]
    },
    {
     "data": {
      "text/plain": [
       "[<matplotlib.lines.Line2D at 0x191acff3978>]"
      ]
     },
     "execution_count": 20,
     "metadata": {},
     "output_type": "execute_result"
    },
    {
     "data": {
      "image/png": "[encoded data removed]",
      "text/plain": [
       "<Figure size 504x504 with 1 Axes>"
      ]
     },
     "metadata": {
      "needs_background": "light"
     },
     "output_type": "display_data"
    }
   ],
   "source": [
    "optimal_percentile_ind = np.where(results==results.max())[0][0]\n",
    "print(\"Optimal percentile of features:{0}\".format(percentiles[optimal_percentile_ind]), \"\\n\")\n",
    "optimal_num_features = int(percentiles[optimal_percentile_ind] * len(X.columns)/100)\n",
    "print(\"Optimal number of features:{0}\".format(optimal_num_features), \"\\n\")\n",
    "\n",
    "import pylab as pl\n",
    "pl.rcParams[\"figure.figsize\"] = (7,7)\n",
    "pl.figure()\n",
    "pl.xlabel(\"Percentage of features selected\")\n",
    "pl.ylabel(\"Cross validation accuracy\")\n",
    "pl.plot(percentiles,results)"
   ]
  },
  {
   "cell_type": "markdown",
   "metadata": {},
   "source": [
    "Show the list of most informative variables and their weights [Note: since this is regression not classification, you should use feature_selection.f_regression as scoring function rather than chi2). "
   ]
  },
  {
   "cell_type": "code",
   "execution_count": 21,
   "metadata": {},
   "outputs": [],
   "source": [
    "#fs = feature_selection.SelectPercentile(feature_selection.f_regression, percentile=i) \n",
    "most_informative = []\n",
    "for i in range(len(X.columns.values)):\n",
    "    if fs.get_support()[i]:\n",
    "        t = (X.columns.values[i], fs.scores_[i])\n",
    "        most_informative.append(t)\n",
    "most_informative.sort(key=lambda x:x[1], reverse=True)"
   ]
  },
  {
   "cell_type": "code",
   "execution_count": 22,
   "metadata": {},
   "outputs": [
    {
     "name": "stdout",
     "output_type": "stream",
     "text": [
      "1\t\tPctKids2Par\t\t1901.3\n",
      "2\t\tPctIlleg\t\t1856.85\n",
      "3\t\tPctFam2Par\t\t1596.839\n",
      "4\t\tracePctWhite\t\t1304.881\n",
      "5\t\tPctYoungKids2Par\t\t1269.982\n",
      "6\t\tPctTeen2Par\t\t1231.321\n",
      "7\t\tracepctblack\t\t992.164\n",
      "8\t\tpctWPubAsst\t\t783.224\n",
      "9\t\tpctWInvInc\t\t761.057\n",
      "10\t\tFemalePctDiv\t\t693.863\n",
      "11\t\tTotalPctDiv\t\t677.229\n",
      "12\t\tPctPersOwnOccup\t\t600.099\n",
      "13\t\tMalePctDivorce\t\t580.342\n",
      "14\t\tPctPopUnderPov\t\t569.486\n",
      "15\t\tPctUnemployed\t\t532.362\n",
      "16\t\tPctVacantBoarded\t\t489.301\n",
      "17\t\tPctHousNoPhone\t\t485.842\n",
      "18\t\tPctNotHSGrad\t\t461.058\n",
      "19\t\tPctHousOwnOcc\t\t448.759\n",
      "20\t\tPctHousLess3BR\t\t446.478\n",
      "21\t\tNumIlleg\t\t399.828\n",
      "22\t\tmedFamInc\t\t374.435\n",
      "23\t\tNumUnderPov\t\t361.959\n",
      "24\t\tPctPersDenseHous\t\t348.808\n",
      "25\t\tmedIncome\t\t341.31\n",
      "26\t\tHousVacant\t\t314.725\n",
      "27\t\tPctLess9thGrade\t\t296.032\n",
      "28\t\tNumInShelters\t\t246.135\n",
      "29\t\tPctLargHouseFam\t\t240.009\n",
      "30\t\tMedNumBR\t\t237.214\n",
      "31\t\tpopulation\t\t229.599\n",
      "32\t\tPctWOFullPlumb\t\t229.041\n",
      "33\t\tnumbUrban\t\t223.617\n",
      "34\t\tperCapInc\t\t214.969\n",
      "35\t\tPctEmploy\t\t196.384\n",
      "36\t\tNumStreet\t\t176.238\n",
      "37\t\tMedRentPctHousInc\t\t173.167\n",
      "38\t\tpctWWage\t\t170.554\n",
      "39\t\tPctBSorMore\t\t169.042\n",
      "40\t\tPctHousOccup\t\t167.392\n",
      "41\t\tMalePctNevMarr\t\t157.854\n",
      "42\t\tPctImmigRec10\t\t147.394\n",
      "43\t\tPctNotSpeakEnglWell\t\t139.914\n",
      "44\t\tPopDens\t\t133.425\n",
      "45\t\tNumImmig\t\t133.419\n",
      "46\t\tPctLargHouseOccup\t\t133.188\n",
      "47\t\tracePctHisp\t\t132.068\n",
      "48\t\tblackPerCap\t\t122.121\n",
      "49\t\tRentLowQ\t\t105.645\n",
      "50\t\tHispPerCap\t\t105.555\n",
      "51\t\tPctImmigRec8\t\t104.91\n",
      "52\t\tPersPerRentOccHous\t\t101.71\n",
      "53\t\tPctRecImmig10\t\t100.996\n"
     ]
    }
   ],
   "source": [
    "#printing only variables with weights greater than or equal to 100\n",
    "for i in range(len(most_informative)):\n",
    "    if most_informative[i][1]>=100:\n",
    "        print(\"{0}\\t\\t{1}\\t\\t{2}\".format(i+1, most_informative[i][0], round(most_informative[i][1],3)))\n",
    "    else:\n",
    "        break"
   ]
  },
  {
   "cell_type": "markdown",
   "metadata": {},
   "source": [
    "Next, plot the model's mean absolute error values  on cross-validation using only the selected features (See scikit-learn's metrics.neg_mean_absolute_error). In order to use cross_val_score with regression you'll need to pass to it scoring='mean_absolute_error' as a parameter. [Hint: for an example of a similar feature selection process please review the class example notebook (though note that the task in this example was classification not regression). Also, review scikit-learn documentation for feature selection.] "
   ]
  },
  {
   "cell_type": "code",
   "execution_count": 23,
   "metadata": {},
   "outputs": [
    {
     "name": "stdout",
     "output_type": "stream",
     "text": [
      "Scores [0.10341, 0.09797, 0.09789, 0.09862, 0.10723]\n",
      "Cross-val mean 0.101024\n"
     ]
    }
   ],
   "source": [
    "fs = feature_selection.SelectPercentile(feature_selection.f_regression, percentile=optimal_percentile_ind)\n",
    "X_train_fs = fs.fit_transform(X_train, y_train)\n",
    "scores=cross_val_score(linreg, X_train_fs, y_train, cv=5, scoring='neg_mean_absolute_error')\n",
    "scores=[round(abs(i),5) for i in scores]\n",
    "print(\"Scores\",scores)\n",
    "print(\"Cross-val mean\", np.mean(scores))"
   ]
  },
  {
   "cell_type": "markdown",
   "metadata": {},
   "source": [
    "As a final step, train your model on the full 80% training data and evaluate it using the set-aside 20% test partition."
   ]
  },
  {
   "cell_type": "code",
   "execution_count": 24,
   "metadata": {},
   "outputs": [
    {
     "data": {
      "text/plain": [
       "LinearRegression(copy_X=True, fit_intercept=True, n_jobs=None, normalize=False)"
      ]
     },
     "execution_count": 24,
     "metadata": {},
     "output_type": "execute_result"
    }
   ],
   "source": [
    "linreg.fit(X_train,y_train)"
   ]
  },
  {
   "cell_type": "code",
   "execution_count": 25,
   "metadata": {},
   "outputs": [
    {
     "name": "stdout",
     "output_type": "stream",
     "text": [
      "1159    0.199120\n",
      "1080    0.107321\n",
      "1634    0.026302\n",
      "1700    0.237067\n",
      "1956    0.073282\n",
      "1808    0.222419\n",
      "137     0.141683\n",
      "46      0.014871\n",
      "1989    0.049865\n",
      "4       0.047577\n",
      "Name: ViolentCrimesPerPop, dtype: float64\n"
     ]
    }
   ],
   "source": [
    "p=linreg.predict(X_test)\n",
    "err = abs(p-y_test)\n",
    "print(err[:10])"
   ]
  },
  {
   "cell_type": "code",
   "execution_count": 26,
   "metadata": {},
   "outputs": [
    {
     "name": "stdout",
     "output_type": "stream",
     "text": [
      "RMSE on Test:  0.13710537091581151\n"
     ]
    }
   ],
   "source": [
    "total_err = np.dot(err,err)\n",
    "rmse_test = np.sqrt(total_err/len(p))\n",
    "print(\"RMSE on Test: \",rmse_test)"
   ]
  },
  {
   "cell_type": "markdown",
   "metadata": {},
   "source": [
    "#### d)\n",
    "Next, perform Ridge Regression and Lasso Regression using the modules from sklearn.linear_model. In each case, perform systematic model selection to identify the optimal alpha parameter. You should create a function that takes as input the data and target variable; the parameter to vary and a list of its values; the model to be trained; and any other relevant input needed to determine the optimal value for the specified parameter. The model selection process should perform k-fold cross validation (k should be a parameter, but you can select k=5 for this problem). For each model, you should also plot the error values on the training and cross-validation splits across the specified values of the alpha parameter. Finally, using the best alpha values, train the model on the full training data and evaluate it on the set-aside test data. Discuss your observation and conclusions. "
   ]
  },
  {
   "cell_type": "code",
   "execution_count": 27,
   "metadata": {},
   "outputs": [],
   "source": [
    "def calc_params(X, y, clf, param_values, param_name, K):\n",
    "    \n",
    "    #Convert input to Numpy arrays\n",
    "    X = np.array(X)\n",
    "    y = np.array(y)\n",
    "    \n",
    "    #initialize training and testing score arrays with zeros\n",
    "    train_scores = np.zeros(len(param_values))\n",
    "    test_scores = np.zeros(len(param_values))\n",
    "    \n",
    "    #iterate over the different parameter values\n",
    "    for i, param_value in enumerate(param_values):\n",
    "        \n",
    "        #set classifier parameters\n",
    "        clf.set_params(**{param_name:param_value})\n",
    "        \n",
    "        #initialize the K scores obtained for each fold\n",
    "        k_train_scores = np.zeros(K)\n",
    "        k_test_scores = np.zeros(K)\n",
    "        \n",
    "        #create KFold cross-validation\n",
    "        cv = KFold(n_splits=K, shuffle=True, random_state=0)\n",
    "        \n",
    "        #iterate over K folds\n",
    "        j = 0\n",
    "        for train, test in cv.split(X):\n",
    "            #fit the classifier in the corresponding fold\n",
    "            #and obtain the corresponding accuracy scores on train and test sets\n",
    "            clf.fit(X[train], y[train])\n",
    "            k_train_scores[j] = clf.score(X[train], y[train])\n",
    "            k_test_scores[j] = clf.score(X[test], y[test])\n",
    "            j += 1\n",
    "        \n",
    "        #store the mean of the K fold scores\n",
    "        train_scores[i] = np.mean(k_train_scores)\n",
    "        test_scores[i] = np.mean(k_test_scores)\n",
    "        print('{} = {}, train score: {}'.format(param_name, param_value, train_scores[i]))\n",
    "        \n",
    "    #plot the training and testing scores in a log scale\n",
    "    plt.plot(param_values, train_scores, label = \"Train\", alpha = 0.4, lw = 2, c = 'b')\n",
    "    plt.plot(param_values, test_scores, label = \"X-Val\", alpha = 0.4, lw = 2, c = 'g')\n",
    "    plt.legend(loc=7)\n",
    "    plt.xlabel(param_name + \" values\")\n",
    "    plt.ylabel(\"Mean cross validation accuracy\")\n",
    "    \n",
    "    #return the training and testing scores on each parameter value\n",
    "    return train_scores, test_scores"
   ]
  },
  {
   "cell_type": "code",
   "execution_count": 28,
   "metadata": {},
   "outputs": [
    {
     "name": "stdout",
     "output_type": "stream",
     "text": [
      "alpha = 0.01, train score: 0.6963717809913754\n",
      "alpha = 0.41795918367346935, train score: 0.6921961080871849\n",
      "alpha = 0.8259183673469387, train score: 0.6894039092160362\n",
      "alpha = 1.233877551020408, train score: 0.6871659055882333\n",
      "alpha = 1.6418367346938774, train score: 0.6852879420369937\n",
      "alpha = 2.0497959183673466, train score: 0.6836681055593086\n",
      "alpha = 2.457755102040816, train score: 0.6822431533858871\n",
      "alpha = 2.865714285714285, train score: 0.6809707390199391\n",
      "alpha = 3.2736734693877545, train score: 0.6798210413256653\n",
      "alpha = 3.681632653061224, train score: 0.6787722423681462\n",
      "alpha = 4.0895918367346935, train score: 0.677807885079549\n",
      "alpha = 4.497551020408163, train score: 0.6769152408865073\n",
      "alpha = 4.905510204081632, train score: 0.6760842561760333\n",
      "alpha = 5.313469387755101, train score: 0.6753068473814802\n",
      "alpha = 5.721428571428571, train score: 0.6745764147176482\n",
      "alpha = 6.12938775510204, train score: 0.6738874978255774\n",
      "alpha = 6.537346938775509, train score: 0.6732355262789572\n",
      "alpha = 6.9453061224489785, train score: 0.6726166351574967\n",
      "alpha = 7.353265306122448, train score: 0.6720275262766171\n",
      "alpha = 7.761224489795917, train score: 0.6714653621070681\n",
      "alpha = 8.169183673469387, train score: 0.6709276835272749\n",
      "alpha = 8.577142857142857, train score: 0.6704123452357311\n",
      "alpha = 8.985102040816326, train score: 0.6699174644431054\n",
      "alpha = 9.393061224489795, train score: 0.669441379684267\n",
      "alpha = 9.801020408163264, train score: 0.6689826174365765\n",
      "alpha = 10.208979591836734, train score: 0.6685398648270667\n",
      "alpha = 10.616938775510203, train score: 0.6681119471376824\n",
      "alpha = 11.024897959183672, train score: 0.6676978091270929\n",
      "alpha = 11.432857142857141, train score: 0.6672964994148401\n",
      "alpha = 11.84081632653061, train score: 0.6669071573424592\n",
      "alpha = 12.24877551020408, train score: 0.6665290018531254\n",
      "alpha = 12.65673469387755, train score: 0.6661613220276938\n",
      "alpha = 13.064693877551019, train score: 0.6658034689888209\n",
      "alpha = 13.472653061224488, train score: 0.665454848941906\n",
      "alpha = 13.880612244897957, train score: 0.6651149171660753\n",
      "alpha = 14.288571428571426, train score: 0.6647831728033672\n",
      "alpha = 14.696530612244896, train score: 0.6644591543219177\n",
      "alpha = 15.104489795918365, train score: 0.6641424355509827\n",
      "alpha = 15.512448979591834, train score: 0.6638326222032812\n",
      "alpha = 15.920408163265304, train score: 0.6635293488144041\n",
      "alpha = 16.328367346938776, train score: 0.6632322760405905\n",
      "alpha = 16.736326530612246, train score: 0.6629410882656063\n",
      "alpha = 17.144285714285715, train score: 0.6626554914751976\n",
      "alpha = 17.552244897959184, train score: 0.6623752113639712\n",
      "alpha = 17.960204081632654, train score: 0.6620999916448241\n",
      "alpha = 18.368163265306123, train score: 0.6618295925354475\n",
      "alpha = 18.776122448979592, train score: 0.6615637894000848\n",
      "alpha = 19.18408163265306, train score: 0.6613023715278107\n",
      "alpha = 19.59204081632653, train score: 0.6610451410311811\n",
      "alpha = 20.0, train score: 0.6607919118512884\n"
     ]
    },
    {
     "data": {
      "image/png": "[encoded data removed]",
      "text/plain": [
       "<Figure size 504x504 with 1 Axes>"
      ]
     },
     "metadata": {
      "needs_background": "light"
     },
     "output_type": "display_data"
    }
   ],
   "source": [
    "#perform Ridge Regression\n",
    "\n",
    "alpha = np.linspace(.01, 20, 50)\n",
    "ridge = Ridge(alpha = alpha)\n",
    "\n",
    "train_scores, test_scores = calc_params(X_train, y_train, ridge, alpha, 'alpha',5)"
   ]
  },
  {
   "cell_type": "code",
   "execution_count": 29,
   "metadata": {},
   "outputs": [
    {
     "name": "stdout",
     "output_type": "stream",
     "text": [
      "0\n",
      "3\n"
     ]
    }
   ],
   "source": [
    "print(np.argmax(train_scores))\n",
    "print(np.argmax(test_scores))"
   ]
  },
  {
   "cell_type": "code",
   "execution_count": 30,
   "metadata": {},
   "outputs": [
    {
     "data": {
      "text/plain": [
       "Ridge(alpha=0.8259183673469387, copy_X=True, fit_intercept=True, max_iter=None,\n",
       "      normalize=False, random_state=None, solver='auto', tol=0.001)"
      ]
     },
     "execution_count": 30,
     "metadata": {},
     "output_type": "execute_result"
    }
   ],
   "source": [
    "#Linear regression with Ridge coef\n",
    "ridge = Ridge(alpha=alpha[2])\n",
    "\n",
    "ridge.fit(X_train, y_train)"
   ]
  },
  {
   "cell_type": "code",
   "execution_count": 31,
   "metadata": {},
   "outputs": [
    {
     "name": "stdout",
     "output_type": "stream",
     "text": [
      "RMSE on testing (Ridge):  0.13626861621301484\n"
     ]
    }
   ],
   "source": [
    "#RMSE on testing data\n",
    "p = ridge.predict(X_test)\n",
    "err = p - y_test\n",
    "total_error = np.dot(err,err)\n",
    "rmse_test = np.sqrt(total_error/len(p))\n",
    "\n",
    "print(\"RMSE on testing (Ridge): \",rmse_test)"
   ]
  },
  {
   "cell_type": "code",
   "execution_count": 32,
   "metadata": {},
   "outputs": [
    {
     "name": "stdout",
     "output_type": "stream",
     "text": [
      "alpha = 0.0001, train score: 0.6865429330425068\n",
      "alpha = 0.0009142857142857143, train score: 0.6575210966068837\n",
      "alpha = 0.0017285714285714285, train score: 0.6463851941913227\n",
      "alpha = 0.0025428571428571423, train score: 0.6373482994703696\n",
      "alpha = 0.0033571428571428567, train score: 0.6283823509995645\n",
      "alpha = 0.004171428571428572, train score: 0.6189776804831746\n",
      "alpha = 0.004985714285714285, train score: 0.6087253362858884\n",
      "alpha = 0.0058, train score: 0.5992129394580459\n",
      "alpha = 0.006614285714285714, train score: 0.5903031904632706\n",
      "alpha = 0.0074285714285714285, train score: 0.5820836595569603\n",
      "alpha = 0.008242857142857142, train score: 0.5739670989881993\n",
      "alpha = 0.009057142857142856, train score: 0.5652970701461688\n",
      "alpha = 0.00987142857142857, train score: 0.5564053717469697\n",
      "alpha = 0.010685714285714284, train score: 0.5475210224417036\n",
      "alpha = 0.011499999999999998, train score: 0.5388862545119688\n",
      "alpha = 0.012314285714285713, train score: 0.5296178916900266\n",
      "alpha = 0.013128571428571427, train score: 0.5197153194662681\n",
      "alpha = 0.01394285714285714, train score: 0.5091794038137527\n",
      "alpha = 0.014757142857142856, train score: 0.4980096782925981\n",
      "alpha = 0.01557142857142857, train score: 0.486205784189581\n",
      "alpha = 0.016385714285714285, train score: 0.47376807091760353\n",
      "alpha = 0.017199999999999997, train score: 0.4606959891486827\n",
      "alpha = 0.018014285714285712, train score: 0.44699157837881087\n",
      "alpha = 0.018828571428571427, train score: 0.4326524133841603\n",
      "alpha = 0.01964285714285714, train score: 0.4176787528718391\n",
      "alpha = 0.020457142857142854, train score: 0.4023113411789442\n",
      "alpha = 0.02127142857142857, train score: 0.38729588696176853\n",
      "alpha = 0.022085714285714285, train score: 0.37250438141672887\n",
      "alpha = 0.022899999999999997, train score: 0.35819477595389093\n",
      "alpha = 0.023714285714285712, train score: 0.3435110899791677\n",
      "alpha = 0.024528571428571427, train score: 0.32831423154691447\n",
      "alpha = 0.02534285714285714, train score: 0.31260506619122447\n",
      "alpha = 0.026157142857142855, train score: 0.29638240057117127\n",
      "alpha = 0.02697142857142857, train score: 0.279646700113252\n",
      "alpha = 0.02778571428571428, train score: 0.26239798337260967\n",
      "alpha = 0.028599999999999997, train score: 0.2446366063039168\n",
      "alpha = 0.029414285714285712, train score: 0.22636217021550492\n",
      "alpha = 0.030228571428571424, train score: 0.20757439792948335\n",
      "alpha = 0.03104285714285714, train score: 0.18827360717641223\n",
      "alpha = 0.031857142857142855, train score: 0.16845980156602153\n",
      "alpha = 0.032671428571428573, train score: 0.14831747398268547\n",
      "alpha = 0.033485714285714285, train score: 0.1279060177405645\n",
      "alpha = 0.0343, train score: 0.10724956716268583\n",
      "alpha = 0.035114285714285716, train score: 0.0862049592660837\n",
      "alpha = 0.03592857142857143, train score: 0.06475924990676729\n",
      "alpha = 0.03674285714285714, train score: 0.043491481448525306\n",
      "alpha = 0.03755714285714286, train score: 0.026061286423654528\n",
      "alpha = 0.03837142857142857, train score: 0.00913099488434157\n",
      "alpha = 0.03918571428571428, train score: 0.000972998407642045\n",
      "alpha = 0.04, train score: 0.0\n"
     ]
    },
    {
     "data": {
      "image/png": "[encoded data removed]",
      "text/plain": [
       "<Figure size 504x504 with 1 Axes>"
      ]
     },
     "metadata": {
      "needs_background": "light"
     },
     "output_type": "display_data"
    }
   ],
   "source": [
    "#perform Lasso Regression\n",
    "alpha = np.linspace(.0001,.04,50)\n",
    "lasso = Lasso(alpha=alpha)\n",
    "\n",
    "train_scores, test_scores = calc_params(X_train, y_train, lasso, alpha, 'alpha', 5)"
   ]
  },
  {
   "cell_type": "code",
   "execution_count": 33,
   "metadata": {},
   "outputs": [
    {
     "name": "stdout",
     "output_type": "stream",
     "text": [
      "0\n",
      "0\n"
     ]
    }
   ],
   "source": [
    "print(np.argmax(train_scores))\n",
    "print(np.argmax(test_scores))"
   ]
  },
  {
   "cell_type": "code",
   "execution_count": 34,
   "metadata": {},
   "outputs": [
    {
     "data": {
      "text/plain": [
       "Lasso(alpha=0.6488970957539413, copy_X=True, fit_intercept=True, max_iter=1000,\n",
       "      normalize=False, positive=False, precompute=False, random_state=None,\n",
       "      selection='cyclic', tol=0.0001, warm_start=False)"
      ]
     },
     "execution_count": 34,
     "metadata": {},
     "output_type": "execute_result"
    }
   ],
   "source": [
    "lasso = Lasso(alpha = test_scores[0])\n",
    "lasso.fit(X_train, y_train)"
   ]
  },
  {
   "cell_type": "code",
   "execution_count": 35,
   "metadata": {},
   "outputs": [
    {
     "name": "stdout",
     "output_type": "stream",
     "text": [
      "RMSE on testing using LASSO:  0.2456818133605803\n"
     ]
    }
   ],
   "source": [
    "#RMSE on test\n",
    "p = lasso.predict(X_test)\n",
    "err = p - y_test\n",
    "total_error = np.dot(err,err)\n",
    "rmse_test = np.sqrt(total_error/len(p))\n",
    "\n",
    "print(\"RMSE on testing using LASSO: \", rmse_test)"
   ]
  },
  {
   "cell_type": "markdown",
   "metadata": {},
   "source": [
    "Linear Regression and Ridge Regression seem to minimize the root-mean-square-error(RMSE) better than Lasso, we would definitely drop Lasso as its RMSE value almost twice as bad as those two."
   ]
  },
  {
   "cell_type": "markdown",
   "metadata": {},
   "source": [
    "#### e)\n",
    "Next, perform regression using Stochastic Gradient Descent for regression. For this part, you should use the SGDRegessor module from sklearn.linear_model. Note that SGDRegessor requires that features be standardized (with 0 mean and scaled by standard deviation). Prior to fiting the model, perform the scaling using StandardScaler from sklearn.preprocessing. "
   ]
  },
  {
   "cell_type": "code",
   "execution_count": 36,
   "metadata": {},
   "outputs": [],
   "source": [
    "from sklearn.preprocessing import StandardScaler\n",
    "\n",
    "scaler = StandardScaler()\n",
    "scaler.fit(X_train)\n",
    "X_train_sgd = scaler.transform(X_train)"
   ]
  },
  {
   "cell_type": "markdown",
   "metadata": {},
   "source": [
    "Your grid search should compare combinations of two penalty parameters ('l2', 'l1') and different values of alpha (alpha could vary from 0.0001 which is the default to relatively large values, say 10)."
   ]
  },
  {
   "cell_type": "code",
   "execution_count": 37,
   "metadata": {},
   "outputs": [],
   "source": [
    "from sklearn.model_selection import GridSearchCV\n",
    "\n",
    "sgdreg = SGDRegressor()\n",
    "\n",
    "parameters = {\n",
    "    'penalty': ['l2','l1'],\n",
    "    'alpha': np.linspace(.01, 20, 50),\n",
    "}\n",
    "grid_search = GridSearchCV(sgdreg, parameters, verbose=1, cv =5)"
   ]
  },
  {
   "cell_type": "code",
   "execution_count": 38,
   "metadata": {},
   "outputs": [
    {
     "name": "stdout",
     "output_type": "stream",
     "text": [
      "Fitting 5 folds for each of 100 candidates, totalling 500 fits\n"
     ]
    },
    {
     "name": "stderr",
     "output_type": "stream",
     "text": [
      "[Parallel(n_jobs=1)]: Using backend SequentialBackend with 1 concurrent workers.\n",
      "[Parallel(n_jobs=1)]: Done 500 out of 500 | elapsed:    9.2s finished\n"
     ]
    },
    {
     "data": {
      "text/plain": [
       "GridSearchCV(cv=5, error_score=nan,\n",
       "             estimator=SGDRegressor(alpha=0.0001, average=False,\n",
       "                                    early_stopping=False, epsilon=0.1,\n",
       "                                    eta0=0.01, fit_intercept=True,\n",
       "                                    l1_ratio=0.15, learning_rate='invscaling',\n",
       "                                    loss='squared_loss', max_iter=1000,\n",
       "                                    n_iter_no_change=5, penalty='l2',\n",
       "                                    power_t=0.25, random_state=None,\n",
       "                                    shuffle=True, tol=0.001,\n",
       "                                    validation_fraction=0.1, verbose=0,\n",
       "                                    warm_star...\n",
       "       1.30646939e+01, 1.34726531e+01, 1.38806122e+01, 1.42885714e+01,\n",
       "       1.46965306e+01, 1.51044898e+01, 1.55124490e+01, 1.59204082e+01,\n",
       "       1.63283673e+01, 1.67363265e+01, 1.71442857e+01, 1.75522449e+01,\n",
       "       1.79602041e+01, 1.83681633e+01, 1.87761224e+01, 1.91840816e+01,\n",
       "       1.95920408e+01, 2.00000000e+01]),\n",
       "                         'penalty': ['l2', 'l1']},\n",
       "             pre_dispatch='2*n_jobs', refit=True, return_train_score=False,\n",
       "             scoring=None, verbose=1)"
      ]
     },
     "execution_count": 38,
     "metadata": {},
     "output_type": "execute_result"
    }
   ],
   "source": [
    "grid_search.fit(X_train_sgd, y_train)"
   ]
  },
  {
   "cell_type": "code",
   "execution_count": 39,
   "metadata": {},
   "outputs": [
    {
     "data": {
      "text/plain": [
       "({'alpha': 0.01, 'penalty': 'l2'}, 0.6366034963268697)"
      ]
     },
     "execution_count": 39,
     "metadata": {},
     "output_type": "execute_result"
    }
   ],
   "source": [
    "best_params = grid_search.best_params_\n",
    "best_params, grid_search.best_score_"
   ]
  },
  {
   "cell_type": "code",
   "execution_count": 40,
   "metadata": {},
   "outputs": [
    {
     "name": "stdout",
     "output_type": "stream",
     "text": [
      "SGD RMSE mean on testing:  0.1361001376828774\n"
     ]
    }
   ],
   "source": [
    "sgdreg = SGDRegressor(penalty = best_params['penalty'], alpha = best_params['alpha'])\n",
    "sgdreg.fit(X_train_sgd,y_train)\n",
    "\n",
    "scaler.fit(X_test)\n",
    "X_test_sgd = scaler.transform(X_test)\n",
    "\n",
    "#Computing RMSE on testing data\n",
    "p =sgdreg.predict(X_test_sgd)\n",
    "err = p-y_test\n",
    "total_error = np.dot(err,err)\n",
    "rmse_test = np.sqrt(total_error/len(p))\n",
    "print(\"SGD RMSE mean on testing: \",np.mean(rmse_test))"
   ]
  },
  {
   "cell_type": "code",
   "execution_count": 41,
   "metadata": {},
   "outputs": [
    {
     "data": {
      "image/png": "[encoded data removed]",
      "text/plain": [
       "<Figure size 504x504 with 1 Axes>"
      ]
     },
     "metadata": {
      "needs_background": "light"
     },
     "output_type": "display_data"
    }
   ],
   "source": [
    "pl.plot(p, y_test, 'o',markersize=5, alpha=.5)\n",
    "pl.plot([0,1],[0,1],'r-')\n",
    "pl.xlabel('Predicted')\n",
    "pl.ylabel('Actual')\n",
    "pl.show()"
   ]
  },
  {
   "cell_type": "markdown",
   "metadata": {},
   "source": [
    "Finally, perform model selection (similar to part d, above) to find the best \"l1_ratio\" parameter using SGDRegressor with  the \"elasticnet\" penalty parameter. [Note: \"l1_ratio\" is The Elastic Net mixing parameter, with 0 <= l1_ratio <= 1;  l1_ratio=0 corresponds to L2 penalty, l1_ratio=1 to L1 penalty; defaults to 0.15.] Using the best mixing ratio, apply the Elastic Net model to the set-aside test data. Provide a brief summary of your findings from the above experiments."
   ]
  },
  {
   "cell_type": "code",
   "execution_count": 42,
   "metadata": {},
   "outputs": [
    {
     "name": "stdout",
     "output_type": "stream",
     "text": [
      "l1_ratio = 0.0, train score: 0.6609031469127566\n",
      "l1_ratio = 0.010101010101010102, train score: 0.6667694633946005\n",
      "l1_ratio = 0.020202020202020204, train score: 0.6628227887696371\n",
      "l1_ratio = 0.030303030303030304, train score: 0.6727338701024366\n",
      "l1_ratio = 0.04040404040404041, train score: 0.6588714788431683\n",
      "l1_ratio = 0.05050505050505051, train score: 0.6709050155280512\n",
      "l1_ratio = 0.06060606060606061, train score: 0.672188805155213\n",
      "l1_ratio = 0.07070707070707072, train score: 0.6730891221464402\n",
      "l1_ratio = 0.08080808080808081, train score: 0.6717279060105592\n",
      "l1_ratio = 0.09090909090909091, train score: 0.6659659732050072\n",
      "l1_ratio = 0.10101010101010102, train score: 0.6683215273113484\n",
      "l1_ratio = 0.11111111111111112, train score: 0.6737787318998631\n",
      "l1_ratio = 0.12121212121212122, train score: 0.675854480002403\n",
      "l1_ratio = 0.13131313131313133, train score: 0.6734255376623232\n",
      "l1_ratio = 0.14141414141414144, train score: 0.6634004913384188\n",
      "l1_ratio = 0.15151515151515152, train score: 0.6693352392946242\n",
      "l1_ratio = 0.16161616161616163, train score: 0.6666231959794314\n",
      "l1_ratio = 0.17171717171717174, train score: 0.6727753686314598\n",
      "l1_ratio = 0.18181818181818182, train score: 0.6721493868299022\n",
      "l1_ratio = 0.19191919191919193, train score: 0.6642690464308648\n",
      "l1_ratio = 0.20202020202020204, train score: 0.6649230487231016\n",
      "l1_ratio = 0.21212121212121213, train score: 0.6692142727577626\n",
      "l1_ratio = 0.22222222222222224, train score: 0.6675965414897002\n",
      "l1_ratio = 0.23232323232323235, train score: 0.6748394863120604\n",
      "l1_ratio = 0.24242424242424243, train score: 0.6708868293941521\n",
      "l1_ratio = 0.25252525252525254, train score: 0.6754452341515806\n",
      "l1_ratio = 0.26262626262626265, train score: 0.6697633807237641\n",
      "l1_ratio = 0.27272727272727276, train score: 0.6703322256665281\n",
      "l1_ratio = 0.2828282828282829, train score: 0.6686219749817492\n",
      "l1_ratio = 0.29292929292929293, train score: 0.6720886187246282\n",
      "l1_ratio = 0.30303030303030304, train score: 0.6712549738481826\n",
      "l1_ratio = 0.31313131313131315, train score: 0.6721981416956453\n",
      "l1_ratio = 0.32323232323232326, train score: 0.6693083128512014\n",
      "l1_ratio = 0.33333333333333337, train score: 0.6648860641269818\n",
      "l1_ratio = 0.3434343434343435, train score: 0.6689312424787255\n",
      "l1_ratio = 0.3535353535353536, train score: 0.6535308457248974\n",
      "l1_ratio = 0.36363636363636365, train score: 0.6709974487687547\n",
      "l1_ratio = 0.37373737373737376, train score: 0.6553084851890167\n",
      "l1_ratio = 0.38383838383838387, train score: 0.6742641205624463\n",
      "l1_ratio = 0.393939393939394, train score: 0.6712865791620888\n",
      "l1_ratio = 0.4040404040404041, train score: 0.6700702746864561\n",
      "l1_ratio = 0.4141414141414142, train score: 0.6688019027429792\n",
      "l1_ratio = 0.42424242424242425, train score: 0.6673588683711073\n",
      "l1_ratio = 0.43434343434343436, train score: 0.6543989622988642\n",
      "l1_ratio = 0.4444444444444445, train score: 0.6696684841576099\n",
      "l1_ratio = 0.4545454545454546, train score: 0.6647954564214718\n",
      "l1_ratio = 0.4646464646464647, train score: 0.6641580995499871\n",
      "l1_ratio = 0.4747474747474748, train score: 0.6683072147773612\n",
      "l1_ratio = 0.48484848484848486, train score: 0.6627429946148881\n",
      "l1_ratio = 0.494949494949495, train score: 0.6651402673988572\n",
      "l1_ratio = 0.5050505050505051, train score: 0.6716350629572873\n",
      "l1_ratio = 0.5151515151515152, train score: 0.6726319415255906\n",
      "l1_ratio = 0.5252525252525253, train score: 0.6648594073285949\n",
      "l1_ratio = 0.5353535353535354, train score: 0.674432604526733\n",
      "l1_ratio = 0.5454545454545455, train score: 0.6742959390050832\n",
      "l1_ratio = 0.5555555555555556, train score: 0.6586933615217252\n",
      "l1_ratio = 0.5656565656565657, train score: 0.6729461987149242\n",
      "l1_ratio = 0.5757575757575758, train score: 0.6675221102849618\n",
      "l1_ratio = 0.5858585858585859, train score: 0.6692357432261554\n",
      "l1_ratio = 0.595959595959596, train score: 0.6742103884956302\n",
      "l1_ratio = 0.6060606060606061, train score: 0.6653286186022783\n",
      "l1_ratio = 0.6161616161616162, train score: 0.669454154123066\n",
      "l1_ratio = 0.6262626262626263, train score: 0.6607398384184398\n",
      "l1_ratio = 0.6363636363636365, train score: 0.6686292788384622\n",
      "l1_ratio = 0.6464646464646465, train score: 0.6715443465761518\n",
      "l1_ratio = 0.6565656565656566, train score: 0.6652365920780218\n",
      "l1_ratio = 0.6666666666666667, train score: 0.6700265311826132\n",
      "l1_ratio = 0.6767676767676768, train score: 0.6737425195060485\n",
      "l1_ratio = 0.686868686868687, train score: 0.6702021165003929\n",
      "l1_ratio = 0.696969696969697, train score: 0.6738389226149021\n",
      "l1_ratio = 0.7070707070707072, train score: 0.6690481053391178\n",
      "l1_ratio = 0.7171717171717172, train score: 0.6712857994529455\n",
      "l1_ratio = 0.7272727272727273, train score: 0.6697527033883839\n",
      "l1_ratio = 0.7373737373737375, train score: 0.6708722251497731\n",
      "l1_ratio = 0.7474747474747475, train score: 0.6674008246207931\n",
      "l1_ratio = 0.7575757575757577, train score: 0.6662744579717923\n",
      "l1_ratio = 0.7676767676767677, train score: 0.67200373881275\n",
      "l1_ratio = 0.7777777777777778, train score: 0.6693625936725394\n",
      "l1_ratio = 0.787878787878788, train score: 0.6721467978515028\n",
      "l1_ratio = 0.797979797979798, train score: 0.6710879284678725\n",
      "l1_ratio = 0.8080808080808082, train score: 0.6724822868585207\n",
      "l1_ratio = 0.8181818181818182, train score: 0.663390983629285\n",
      "l1_ratio = 0.8282828282828284, train score: 0.6700675609247795\n",
      "l1_ratio = 0.8383838383838385, train score: 0.6690310133849788\n",
      "l1_ratio = 0.8484848484848485, train score: 0.663984013504853\n",
      "l1_ratio = 0.8585858585858587, train score: 0.669452214620598\n",
      "l1_ratio = 0.8686868686868687, train score: 0.6698050561445068\n",
      "l1_ratio = 0.8787878787878789, train score: 0.6654584026254203\n",
      "l1_ratio = 0.888888888888889, train score: 0.6741575946269459\n",
      "l1_ratio = 0.8989898989898991, train score: 0.6698273759689886\n",
      "l1_ratio = 0.9090909090909092, train score: 0.6687002087274894\n",
      "l1_ratio = 0.9191919191919192, train score: 0.6702744562366556\n",
      "l1_ratio = 0.9292929292929294, train score: 0.6692593363728704\n",
      "l1_ratio = 0.9393939393939394, train score: 0.6649027646854392\n",
      "l1_ratio = 0.9494949494949496, train score: 0.6611769771615508\n",
      "l1_ratio = 0.9595959595959597, train score: 0.6704428712322752\n",
      "l1_ratio = 0.9696969696969697, train score: 0.6726763276029258\n",
      "l1_ratio = 0.9797979797979799, train score: 0.6666691862680103\n",
      "l1_ratio = 0.98989898989899, train score: 0.6692779077697242\n",
      "l1_ratio = 1.0, train score: 0.6715273364494501\n"
     ]
    },
    {
     "data": {
      "image/png": "[encoded data removed]",
      "text/plain": [
       "<Figure size 504x504 with 1 Axes>"
      ]
     },
     "metadata": {
      "needs_background": "light"
     },
     "output_type": "display_data"
    }
   ],
   "source": [
    "sgdreg = SGDRegressor(penalty='elasticnet')\n",
    "l1_ratio = np.linspace(0, 1, 100)\n",
    "\n",
    "train_scores, test_scores = calc_params(X_train_sgd, y_train, sgdreg, l1_ratio, 'l1_ratio', 5)"
   ]
  },
  {
   "cell_type": "code",
   "execution_count": 43,
   "metadata": {},
   "outputs": [
    {
     "name": "stdout",
     "output_type": "stream",
     "text": [
      "Best l1 ratio:  0.29292929292929293\n"
     ]
    }
   ],
   "source": [
    "print('Best l1 ratio: ',l1_ratio[np.argmax(test_scores)])"
   ]
  },
  {
   "cell_type": "code",
   "execution_count": 44,
   "metadata": {},
   "outputs": [
    {
     "name": "stdout",
     "output_type": "stream",
     "text": [
      "SGD RMSE on testing:  0.13672972843462172\n"
     ]
    }
   ],
   "source": [
    "best_l1_ratio = l1_ratio[np.argmax(test_scores)]\n",
    "sgdreg = SGDRegressor(penalty='elasticnet', l1_ratio=best_l1_ratio)\n",
    "\n",
    "sgdreg.fit(X_train_sgd,y_train)\n",
    "\n",
    "scaler.fit(X_test)\n",
    "X_test_sgd = scaler.transform(X_test)\n",
    "\n",
    "#RMSE on test\n",
    "p = sgdreg.predict(X_test_sgd)\n",
    "err = p-y_test\n",
    "total_error = np.dot(err,err)\n",
    "rmse_test = np.sqrt(total_error/len(p))\n",
    "print('SGD RMSE on testing: ', np.mean(rmse_test))"
   ]
  },
  {
   "cell_type": "code",
   "execution_count": 45,
   "metadata": {},
   "outputs": [
    {
     "data": {
      "image/png": "[encoded data removed]",
      "text/plain": [
       "<Figure size 504x504 with 1 Axes>"
      ]
     },
     "metadata": {
      "needs_background": "light"
     },
     "output_type": "display_data"
    }
   ],
   "source": [
    "pl.plot(p,y_test, 'bo', markersize=5, alpha=.5)\n",
    "pl.plot([0,1],[0,1],'r-')\n",
    "pl.xlabel('Predicted')\n",
    "pl.ylabel('Actual')\n",
    "pl.title('RMSE with ElasticNet')\n",
    "pl.show()"
   ]
  },
  {
   "cell_type": "markdown",
   "metadata": {},
   "source": [
    "With optimizing hyperparameters, we can update or improve our model's performance in various experiments, however we might work on several parameters to optimize our values on root mean square errors since we do not see any changes with or without hyperparameters, findings on SGDRegressor are pretty similar to the initial ridge regression rmse values. I think tuning hyperparameters are good and we definitely should use in every machine learning projects."
   ]
  },
  {
   "cell_type": "markdown",
   "metadata": {},
   "source": [
    "## 2) Automatic Document Clustering"
   ]
  },
  {
   "cell_type": "markdown",
   "metadata": {},
   "source": [
    "#### a.\n",
    "Create your own distance function that, instead of using Euclidean distance, uses Cosine similarity. This is the distance function you will use to pass to the kMeans function."
   ]
  },
  {
   "cell_type": "code",
   "execution_count": 65,
   "metadata": {},
   "outputs": [],
   "source": [
    "def cos_sim(x, D):\n",
    "    #find the vector norm for each instance in D and for vector x\n",
    "    x_norm = np.linalg.norm(x)\n",
    "    D_norm = np.linalg.norm(D)\n",
    "    #cosine=dot product of x divide by each instance in D by two products of the norms\n",
    "    sims = np.dot(x,D)/(x_norm * D_norm)\n",
    "    \n",
    "    #distance is the inverse of cos sim\n",
    "    dists = 1 - sims\n",
    "    \n",
    "    return dists"
   ]
  },
  {
   "cell_type": "markdown",
   "metadata": {},
   "source": [
    "#### b.\n",
    "Load the data set [Note: the data matrix provided has terms as rows and documents as columns. Since you will be clustering documents, you'll need to take the transpose of this matrix so that your main data matrix is a document x term matrix. In Numpy, you may use the \".T\" operation to obtain the transpose.] Then, split the data set (the document x term matrix) and set aside 20% for later use (see below). Use the 80% segment for clustering in the next part. The 20% portion must be a random subset."
   ]
  },
  {
   "cell_type": "code",
   "execution_count": 66,
   "metadata": {},
   "outputs": [
    {
     "data": {
      "text/plain": [
       "(2500, 9328)"
      ]
     },
     "execution_count": 66,
     "metadata": {},
     "output_type": "execute_result"
    }
   ],
   "source": [
    "matrix_data = pd.DataFrame(np.genfromtxt('newsgroups5/matrix.txt', delimiter=',', dtype=int).T)\n",
    "matrix_data.shape"
   ]
  },
  {
   "cell_type": "code",
   "execution_count": 67,
   "metadata": {},
   "outputs": [
    {
     "data": {
      "text/html": [
       "<div>\n",
       "<style scoped>\n",
       "    .dataframe tbody tr th:only-of-type {\n",
       "        vertical-align: middle;\n",
       "    }\n",
       "\n",
       "    .dataframe tbody tr th {\n",
       "        vertical-align: top;\n",
       "    }\n",
       "\n",
       "    .dataframe thead th {\n",
       "        text-align: right;\n",
       "    }\n",
       "</style>\n",
       "<table border=\"1\" class=\"dataframe\">\n",
       "  <thead>\n",
       "    <tr style=\"text-align: right;\">\n",
       "      <th></th>\n",
       "      <th>0</th>\n",
       "    </tr>\n",
       "  </thead>\n",
       "  <tbody>\n",
       "    <tr>\n",
       "      <th>0</th>\n",
       "      <td>aa</td>\n",
       "    </tr>\n",
       "    <tr>\n",
       "      <th>1</th>\n",
       "      <td>aargh</td>\n",
       "    </tr>\n",
       "    <tr>\n",
       "      <th>2</th>\n",
       "      <td>aaron</td>\n",
       "    </tr>\n",
       "    <tr>\n",
       "      <th>3</th>\n",
       "      <td>aaronc</td>\n",
       "    </tr>\n",
       "    <tr>\n",
       "      <th>4</th>\n",
       "      <td>ab</td>\n",
       "    </tr>\n",
       "  </tbody>\n",
       "</table>\n",
       "</div>"
      ],
      "text/plain": [
       "        0\n",
       "0      aa\n",
       "1   aargh\n",
       "2   aaron\n",
       "3  aaronc\n",
       "4      ab"
      ]
     },
     "execution_count": 67,
     "metadata": {},
     "output_type": "execute_result"
    }
   ],
   "source": [
    "terms = pd.read_table('newsgroups5/terms.txt', sep = '\\n', header=None)\n",
    "terms.head()"
   ]
  },
  {
   "cell_type": "code",
   "execution_count": 68,
   "metadata": {},
   "outputs": [
    {
     "data": {
      "text/plain": [
       "array([0, 1, 1, 1, 2])"
      ]
     },
     "execution_count": 68,
     "metadata": {},
     "output_type": "execute_result"
    }
   ],
   "source": [
    "classes = np.genfromtxt('newsgroups5/classes.txt', delimiter=' ', dtype=int, skip_header=1, usecols=(1))\n",
    "classes[:5]"
   ]
  },
  {
   "cell_type": "code",
   "execution_count": 69,
   "metadata": {},
   "outputs": [
    {
     "data": {
      "text/plain": [
       "(2000, 9328)"
      ]
     },
     "execution_count": 69,
     "metadata": {},
     "output_type": "execute_result"
    }
   ],
   "source": [
    "X_train, X_test, y_train, y_test = train_test_split(matrix_data, classes, test_size = 0.2, random_state = 33)\n",
    "X_train.shape"
   ]
  },
  {
   "cell_type": "markdown",
   "metadata": {},
   "source": [
    "#### c.\n",
    "Perform Kmeans clustering on the training data.Write a function to display the top N terms in each cluster along with the cluster DF values for each term and the size of the cluster. The cluster DF value for a term t in a cluster C is the percentage of docs in cluster C in which term t appears (so, if a cluster has 500 documents, and term \"game\" appears in 100 of those 500 documents, then DF value of \"game\" in that cluster is 0.2 or 20%). Sort the terms for each cluster in decreasing order of the DF percentage."
   ]
  },
  {
   "cell_type": "code",
   "execution_count": 70,
   "metadata": {},
   "outputs": [],
   "source": [
    "from numpy import *\n",
    "\n",
    "def distEuclid(vecA, vecB):\n",
    "    return sqrt(sum(power(vecA - vecB, 2)))#la.norm(vecA-vecB)"
   ]
  },
  {
   "cell_type": "code",
   "execution_count": 71,
   "metadata": {},
   "outputs": [],
   "source": [
    "def randCent(dataSet, k):\n",
    "    n = shape(dataSet)[1]\n",
    "    centroids = mat(zeros((k, n))) \n",
    "    for j in range(n): #create random cluster centers\n",
    "        minJ = min(dataSet[:,j])\n",
    "        rangeJ = float(max(dataSet[:,j]) - minJ)\n",
    "        centroids[:,j] = mat(minJ + rangeJ * random.rand(k,1))\n",
    "    return centroids"
   ]
  },
  {
   "cell_type": "code",
   "execution_count": 72,
   "metadata": {},
   "outputs": [],
   "source": [
    "def kMeans(dataSet, k,distMeas=distEuclid, createCent = randCent):\n",
    "    m = shape(dataSet)[0]\n",
    "    clusterAssment = mat(zeros((m,2))) # create mat to assign data points\n",
    "                                       # to a centroid, als o holds SE of each point\n",
    "    centroids = createCent(dataSet, k)\n",
    "    clusterChanged = True\n",
    "    while clusterChanged: \n",
    "        clusterChanged= False\n",
    "        for i in range(m): #for each data point assign it to the cluster centroid\n",
    "            minDist = inf; minIndex = -1\n",
    "            for j in range(k):\n",
    "                distJI = distMeas(centroids[j,:], dataSet[i,:])\n",
    "                if distJI < minDist:\n",
    "                    minDist = distJI; minIndex = j\n",
    "            if clusterAssment[i,0] != minIndex: clusterChanged=True\n",
    "            clusterAssment[i,:] = minIndex, minDist ** 2\n",
    "        #print centroids\n",
    "        for cent in range(k): # recalculate centroids\n",
    "            num_pts_in_cluster = dataSet[nonzero(clusterAssment[:,0] == cent)[0]]\n",
    "            if(len(num_pts_in_cluster) != 0):\n",
    "                centroids[cent,:] = mean(num_pts_in_cluster, axis = 0)\n",
    "    return centroids, clusterAssment"
   ]
  },
  {
   "cell_type": "code",
   "execution_count": 73,
   "metadata": {},
   "outputs": [],
   "source": [
    "X_train_np = X_train.to_numpy()\n",
    "centroids, clusters = kMeans(X_train_np, 5, cos_sim, randCent)"
   ]
  },
  {
   "cell_type": "markdown",
   "metadata": {},
   "source": [
    "Write a function to display the top N terms in each cluster along with the cluster DF values for each term and the size of the cluster. The cluster DF value for a term t in a cluster C is the percentage of docs in cluster C in which term t appears (so, if a cluster has 500 documents, and term \"game\" appears in 100 of those 500 documents, then DF value of \"game\" in that cluster is 0.2 or 20%). Sort the terms for each cluster in decreasing order of the DF percentage."
   ]
  },
  {
   "cell_type": "code",
   "execution_count": 74,
   "metadata": {},
   "outputs": [],
   "source": [
    "clusters_arr = []\n",
    "\n",
    "def output_freq(clusters, centroids, terms, n_top, n_clusters):\n",
    "    terms_conv = pd.Series(terms[0], name = 'term')\n",
    "    clusters_conv = pd.DataFrame(clusters)\n",
    "    clusters_conv.columns = ['cluster', 'error']\n",
    "    results = {}\n",
    "    \n",
    "    for i in range(n_clusters):\n",
    "        cluster_index = np.array(clusters_conv.index[clusters_conv.iloc[:,0] == i])\n",
    "        centroid = centroids[i]\n",
    "        centroid = pd.Series(np.array(centroid).ravel(), name = 'value')\n",
    "        \n",
    "        # match term with its centroid\n",
    "        term_cent = pd.concat([terms_conv, centroid], axis=1)\n",
    "        \n",
    "        #cluster seperate\n",
    "        cluster = term_cent.iloc[cluster_index]\n",
    "        doc_cluster = len(cluster_index)\n",
    "        cluster_dict = {'cluster': i,\n",
    "                       'n': doc_cluster,\n",
    "                       'terms': cluster.sort_values(by='value', axis=0, ascending=False,inplace=False)}\n",
    "        clusters_arr.append(cluster_dict)\n",
    "        \n",
    "        # sort, take n top of word\n",
    "        top = cluster.sort_values(by='value', axis=0, ascending=False, inplace=False).head(n_top)\n",
    "        \n",
    "        #iterate through each top_n word\n",
    "        word=[]\n",
    "        words_collect = []\n",
    "        \n",
    "        for t in top.itertuples():\n",
    "            word.append(t.term)\n",
    "            word.append(round(t.value * doc_cluster, 3))\n",
    "            word.append(round(t.value * 100, 3))\n",
    "            words_collect.append(word)\n",
    "            word =[]\n",
    "        results.update({i:(doc_cluster, words_collect)})\n",
    "        \n",
    "        words_collect=[]\n",
    "        #dict = {cluster:no of doc, [[term,freq,%docs],...]}\n",
    "    return results\n",
    "top_terms = output_freq(clusters, centroids, terms, 10, 5)"
   ]
  },
  {
   "cell_type": "code",
   "execution_count": 75,
   "metadata": {},
   "outputs": [
    {
     "name": "stdout",
     "output_type": "stream",
     "text": [
      "Cluster: 0, no of documents:7\n",
      "\n",
      "Word\t\tFrequency\t%Docs\n",
      "\n",
      "avail\t\t2.0\t\t28.571\n",
      "archiv\t\t1.0\t\t14.286\n",
      "american\t\t0.0\t\t0.0\n",
      "backup\t\t0.0\t\t0.0\n",
      "boil\t\t0.0\t\t0.0\n",
      "butt\t\t0.0\t\t0.0\n",
      "combin\t\t0.0\t\t0.0\n",
      "\n",
      "\n",
      "Cluster: 1, no of documents:1572\n",
      "\n",
      "Word\t\tFrequency\t%Docs\n",
      "\n",
      "articl\t\t711.0\t\t45.229\n",
      "christian\t\t599.0\t\t38.104\n",
      "db\t\t554.0\t\t35.242\n",
      "chip\t\t439.0\t\t27.926\n",
      "believ\t\t420.0\t\t26.718\n",
      "clipper\t\t374.0\t\t23.791\n",
      "call\t\t373.0\t\t23.728\n",
      "church\t\t370.0\t\t23.537\n",
      "comput\t\t363.0\t\t23.092\n",
      "ask\t\t319.0\t\t20.293\n",
      "\n",
      "\n",
      "Cluster: 2, no of documents:6\n",
      "\n",
      "Word\t\tFrequency\t%Docs\n",
      "\n",
      "ashton\t\t0.0\t\t0.0\n",
      "atlanta\t\t0.0\t\t0.0\n",
      "bo\t\t0.0\t\t0.0\n",
      "broken\t\t0.0\t\t0.0\n",
      "cypherpunk\t\t0.0\t\t0.0\n",
      "dcsedacuk\t\t0.0\t\t0.0\n",
      "\n",
      "\n",
      "Cluster: 3, no of documents:25\n",
      "\n",
      "Word\t\tFrequency\t%Docs\n",
      "\n",
      "belfour\t\t3.0\t\t12.0\n",
      "bri\t\t3.0\t\t12.0\n",
      "current\t\t2.0\t\t8.0\n",
      "bunch\t\t1.0\t\t4.0\n",
      "caralvautotrolcom\t\t0.0\t\t0.0\n",
      "csindianaedu\t\t0.0\t\t0.0\n",
      "cramp\t\t0.0\t\t0.0\n",
      "coptic\t\t0.0\t\t0.0\n",
      "collin\t\t0.0\t\t0.0\n",
      "claudiu\t\t0.0\t\t0.0\n",
      "\n",
      "\n",
      "Cluster: 4, no of documents:390\n",
      "\n",
      "Word\t\tFrequency\t%Docs\n",
      "\n",
      "cup\t\t126.0\t\t32.308\n",
      "boston\t\t85.0\t\t21.795\n",
      "bruin\t\t84.0\t\t21.538\n",
      "coach\t\t77.0\t\t19.744\n",
      "dai\t\t47.0\t\t12.051\n",
      "david\t\t44.0\t\t11.282\n",
      "contact\t\t41.0\t\t10.513\n",
      "beat\t\t39.0\t\t10.0\n",
      "cours\t\t37.0\t\t9.487\n",
      "angel\t\t33.0\t\t8.462\n",
      "\n",
      "\n"
     ]
    }
   ],
   "source": [
    "# displaying top terms\n",
    "for key in top_terms:\n",
    "    num, words = top_terms[key][0], top_terms[key][1]\n",
    "    print(\"Cluster: {0}, no of documents:{1}\\n\".format(key,num))\n",
    "    print(\"Word\\t\\tFrequency\\t%Docs\\n\")\n",
    "    for w in words:\n",
    "        t,f,d = w[0],w[1],w[2]\n",
    "        print(\"{0}\\t\\t{1}\\t\\t{2}\".format(t,f,d))\n",
    "    print(\"\\n\")"
   ]
  },
  {
   "cell_type": "markdown",
   "metadata": {},
   "source": [
    "#### d. \n",
    "Using the cluster assignments from Kmeans clustering, compare your 5 clusters to the 5 pre-assigned classes by computing the Completeness and Homogeneity values."
   ]
  },
  {
   "cell_type": "code",
   "execution_count": 76,
   "metadata": {},
   "outputs": [
    {
     "name": "stdout",
     "output_type": "stream",
     "text": [
      "Completeness value:  0.697\n",
      "Homogeneity value:  0.26\n"
     ]
    }
   ],
   "source": [
    "from sklearn.metrics import completeness_score, homogeneity_score\n",
    "transformed_cluster = np.ravel(clusters.T[0])\n",
    "print(\"Completeness value: \", round(completeness_score(y_train,transformed_cluster),3))\n",
    "print(\"Homogeneity value: \", round(homogeneity_score(y_train,transformed_cluster),3))"
   ]
  },
  {
   "cell_type": "markdown",
   "metadata": {},
   "source": [
    "#### e.\n",
    "Finally, using your cluster assignments as class labels, categorize each of the documents in the 20% set-aside data into each of the appropriate cluster. Your categorization should be based on Cosine similarity between each test document and cluster centroids. For each test document show the predicted class label as well as Cosine similarity to the corresponding cluster."
   ]
  },
  {
   "cell_type": "code",
   "execution_count": 77,
   "metadata": {},
   "outputs": [
    {
     "data": {
      "text/plain": [
       "matrix([[8.74994540e-08, 1.42197503e-07, 3.55070248e-08, 1.17173182e-07,\n",
       "         1.06589357e-07],\n",
       "        [7.34234549e-07, 1.16917382e-06, 7.98908059e-08, 9.29928980e-07,\n",
       "         6.97644755e-07],\n",
       "        [5.24996724e-07, 1.08062648e-07, 4.43837810e-08, 8.30864381e-08,\n",
       "         9.08843270e-08],\n",
       "        ...,\n",
       "        [1.36955667e-07, 1.38741667e-07, 3.10686468e-08, 1.53390347e-07,\n",
       "         8.18027226e-08],\n",
       "        [3.38584844e-07, 4.21713681e-07, 8.87675621e-08, 2.40737628e-07,\n",
       "         3.32946640e-07],\n",
       "        [4.18475650e-08, 3.94202513e-08, 5.32605372e-08, 4.58040620e-08,\n",
       "         3.42779355e-08]])"
      ]
     },
     "execution_count": 77,
     "metadata": {},
     "output_type": "execute_result"
    }
   ],
   "source": [
    "X_test_cat = X_test.to_numpy()\n",
    "cos_dist = 1-cos_sim(X_test_cat,centroids.T)\n",
    "cos_dist"
   ]
  },
  {
   "cell_type": "code",
   "execution_count": 78,
   "metadata": {},
   "outputs": [
    {
     "name": "stdout",
     "output_type": "stream",
     "text": [
      "Cluster: 1, Cosine similarity: 1.42197502994712e-07\n",
      "Cluster: 1, Cosine similarity: 1.1691738224239856e-06\n",
      "Cluster: 0, Cosine similarity: 5.249967240938958e-07\n",
      "Cluster: 3, Cosine similarity: 6.561698185914011e-07\n",
      "Cluster: 3, Cosine similarity: 2.6097663241575475e-07\n",
      "Cluster: 1, Cosine similarity: 7.204910651426033e-07\n",
      "Cluster: 4, Cosine similarity: 8.759309891859246e-07\n",
      "Cluster: 1, Cosine similarity: 2.297961791963843e-07\n",
      "Cluster: 1, Cosine similarity: 1.8674052355560633e-06\n",
      "Cluster: 3, Cosine similarity: 2.066508844045245e-07\n",
      "Cluster: 1, Cosine similarity: 3.263224327421099e-07\n",
      "Cluster: 0, Cosine similarity: 1.0652107440556335e-07\n",
      "Cluster: 0, Cosine similarity: 2.8912863070384986e-07\n",
      "Cluster: 2, Cosine similarity: 1.6954604350472025e-06\n",
      "Cluster: 0, Cosine similarity: 7.228215770371804e-08\n",
      "Cluster: 0, Cosine similarity: 3.880410569534476e-07\n",
      "Cluster: 0, Cosine similarity: 6.086918540315622e-07\n",
      "Cluster: 1, Cosine similarity: 3.2974438834987296e-07\n",
      "Cluster: 1, Cosine similarity: 1.2617190880970242e-07\n",
      "Cluster: 0, Cosine similarity: 6.391264466554247e-07\n",
      "Cluster: 1, Cosine similarity: 2.6582835566113516e-07\n",
      "Cluster: 1, Cosine similarity: 2.9992932937261685e-07\n",
      "Cluster: 0, Cosine similarity: 4.489102423121949e-07\n",
      "Cluster: 0, Cosine similarity: 4.0325835326537884e-07\n",
      "Cluster: 1, Cosine similarity: 3.889171162896332e-07\n",
      "Cluster: 0, Cosine similarity: 3.347805197506659e-07\n",
      "Cluster: 4, Cosine similarity: 4.117449223794978e-07\n",
      "Cluster: 3, Cosine similarity: 5.837354879467682e-07\n",
      "Cluster: 0, Cosine similarity: 9.510810217161492e-08\n",
      "Cluster: 1, Cosine similarity: 1.9561050357275178e-07\n",
      "Cluster: 1, Cosine similarity: 3.165647770586588e-07\n",
      "Cluster: 1, Cosine similarity: 1.1243495916524182e-06\n",
      "Cluster: 0, Cosine similarity: 5.516269926397754e-07\n",
      "Cluster: 3, Cosine similarity: 2.0239004150379714e-07\n",
      "Cluster: 0, Cosine similarity: 6.010832058755966e-07\n",
      "Cluster: 3, Cosine similarity: 1.7575977284689515e-07\n",
      "Cluster: 1, Cosine similarity: 9.056324168366103e-08\n",
      "Cluster: 1, Cosine similarity: 2.0054015259507452e-07\n",
      "Cluster: 4, Cosine similarity: 1.3739852949834486e-06\n",
      "Cluster: 4, Cosine similarity: 1.0201441360546681e-06\n",
      "Cluster: 1, Cosine similarity: 2.2818684364267483e-07\n",
      "Cluster: 3, Cosine similarity: 5.328184144004489e-06\n",
      "Cluster: 0, Cosine similarity: 3.9907359677959775e-06\n",
      "Cluster: 0, Cosine similarity: 2.5488971389098225e-07\n",
      "Cluster: 1, Cosine similarity: 2.7790684264950016e-07\n",
      "Cluster: 3, Cosine similarity: 2.599114216073062e-07\n",
      "Cluster: 4, Cosine similarity: 1.7009230546261023e-07\n",
      "Cluster: 0, Cosine similarity: 2.2825944523408026e-07\n",
      "Cluster: 1, Cosine similarity: 1.8651352251541908e-07\n",
      "Cluster: 1, Cosine similarity: 2.516662026552652e-07\n",
      "Cluster: 1, Cosine similarity: 1.5832473942989367e-07\n",
      "Cluster: 4, Cosine similarity: 5.616255367435485e-07\n",
      "Cluster: 0, Cosine similarity: 3.1195457517174674e-07\n",
      "Cluster: 1, Cosine similarity: 8.485433555804889e-08\n",
      "Cluster: 1, Cosine similarity: 1.4809275328264704e-07\n",
      "Cluster: 3, Cosine similarity: 6.923869844133179e-08\n",
      "Cluster: 1, Cosine similarity: 2.0203090556059067e-07\n",
      "Cluster: 1, Cosine similarity: 2.6299931310536095e-07\n",
      "Cluster: 3, Cosine similarity: 1.5978161171936733e-07\n",
      "Cluster: 1, Cosine similarity: 1.7573944444126965e-07\n",
      "Cluster: 3, Cosine similarity: 3.089111155762936e-08\n",
      "Cluster: 3, Cosine similarity: 1.874770910736956e-07\n",
      "Cluster: 0, Cosine similarity: 3.005416029377983e-07\n",
      "Cluster: 3, Cosine similarity: 7.658865253112879e-07\n",
      "Cluster: 2, Cosine similarity: 1.453124990635768e-05\n",
      "Cluster: 1, Cosine similarity: 4.900172708710571e-07\n",
      "Cluster: 0, Cosine similarity: 2.663026861249307e-07\n",
      "Cluster: 1, Cosine similarity: 1.575624226646255e-07\n",
      "Cluster: 3, Cosine similarity: 7.594952607936634e-07\n",
      "Cluster: 1, Cosine similarity: 2.751625020058768e-07\n",
      "Cluster: 0, Cosine similarity: 4.4130159415622927e-07\n",
      "Cluster: 1, Cosine similarity: 5.796826728632354e-07\n",
      "Cluster: 0, Cosine similarity: 1.8641188026524702e-07\n",
      "Cluster: 3, Cosine similarity: 5.571052194008885e-07\n",
      "Cluster: 0, Cosine similarity: 2.8151998243686194e-07\n",
      "Cluster: 1, Cosine similarity: 3.208845725799492e-07\n",
      "Cluster: 1, Cosine similarity: 2.4453430502724416e-07\n",
      "Cluster: 1, Cosine similarity: 3.747719036217845e-07\n",
      "Cluster: 4, Cosine similarity: 1.2297038652908654e-06\n",
      "Cluster: 3, Cosine similarity: 1.4380345048081722e-07\n",
      "Cluster: 3, Cosine similarity: 6.945174054751035e-07\n",
      "Cluster: 4, Cosine similarity: 2.0676013678944116e-07\n",
      "Cluster: 3, Cosine similarity: 1.448686612892658e-07\n",
      "Cluster: 1, Cosine similarity: 8.907248882916718e-08\n",
      "Cluster: 0, Cosine similarity: 1.1412972267255128e-07\n",
      "Cluster: 4, Cosine similarity: 1.2727902742870612e-07\n",
      "Cluster: 1, Cosine similarity: 2.42653923399061e-07\n",
      "Cluster: 1, Cosine similarity: 1.9555968244766575e-07\n",
      "Cluster: 0, Cosine similarity: 6.201048262655107e-07\n",
      "Cluster: 0, Cosine similarity: 2.2559641839059452e-06\n",
      "Cluster: 1, Cosine similarity: 1.1944658018236964e-07\n",
      "Cluster: 1, Cosine similarity: 6.991970145087123e-07\n",
      "Cluster: 1, Cosine similarity: 7.048381591712172e-07\n",
      "Cluster: 0, Cosine similarity: 3.9945402918739603e-07\n",
      "Cluster: 1, Cosine similarity: 6.122081916970501e-07\n",
      "Cluster: 0, Cosine similarity: 1.0728193926556884e-06\n",
      "Cluster: 4, Cosine similarity: 8.690344324158161e-07\n",
      "Cluster: 1, Cosine similarity: 2.4336541915026544e-07\n",
      "Cluster: 0, Cosine similarity: 5.097794277819645e-07\n",
      "Cluster: 0, Cosine similarity: 9.510810217161492e-08\n",
      "Cluster: 2, Cosine similarity: 3.37316735765647e-07\n",
      "Cluster: 4, Cosine similarity: 4.273816698319166e-07\n",
      "Cluster: 3, Cosine similarity: 2.3860720677060243e-07\n",
      "Cluster: 3, Cosine similarity: 2.1517257042802385e-07\n",
      "Cluster: 1, Cosine similarity: 5.325714914627966e-07\n",
      "Cluster: 4, Cosine similarity: 5.407310182947711e-07\n",
      "Cluster: 4, Cosine similarity: 2.7879842756650675e-07\n",
      "Cluster: 3, Cosine similarity: 3.3895005890904883e-06\n",
      "Cluster: 4, Cosine similarity: 7.044730289118561e-07\n",
      "Cluster: 1, Cosine similarity: 2.765177319341561e-07\n",
      "Cluster: 3, Cosine similarity: 6.604306612700839e-08\n",
      "Cluster: 1, Cosine similarity: 6.954362513633683e-07\n",
      "Cluster: 0, Cosine similarity: 1.483686393743966e-07\n",
      "Cluster: 0, Cosine similarity: 1.2934701898448253e-07\n",
      "Cluster: 2, Cosine similarity: 0.0006775450475590139\n",
      "Cluster: 1, Cosine similarity: 1.1155236567805815e-07\n",
      "Cluster: 4, Cosine similarity: 6.419260391021808e-07\n",
      "Cluster: 0, Cosine similarity: 4.184756495773101e-07\n",
      "Cluster: 1, Cosine similarity: 7.216599509085597e-07\n",
      "Cluster: 3, Cosine similarity: 3.451282811761658e-07\n",
      "Cluster: 0, Cosine similarity: 4.6793186281313126e-07\n",
      "Cluster: 4, Cosine similarity: 1.301605590531274e-06\n",
      "Cluster: 1, Cosine similarity: 2.1549850315327745e-07\n",
      "Cluster: 1, Cosine similarity: 3.5552763832935597e-07\n",
      "Cluster: 4, Cosine similarity: 5.81837227842108e-07\n",
      "Cluster: 3, Cosine similarity: 4.3460598375677506e-07\n",
      "Cluster: 1, Cosine similarity: 1.1578745928719769e-07\n",
      "Cluster: 2, Cosine similarity: 1.8641188026524702e-07\n",
      "Cluster: 1, Cosine similarity: 1.345235134397882e-07\n",
      "Cluster: 1, Cosine similarity: 5.497829119738284e-07\n",
      "Cluster: 1, Cosine similarity: 1.0597898247866055e-07\n",
      "Cluster: 1, Cosine similarity: 4.917790699110469e-07\n",
      "Cluster: 1, Cosine similarity: 2.1836142649611645e-07\n",
      "Cluster: 1, Cosine similarity: 2.4893880234966304e-07\n",
      "Cluster: 1, Cosine similarity: 5.316567113222703e-07\n",
      "Cluster: 1, Cosine similarity: 8.235732436023824e-07\n",
      "Cluster: 4, Cosine similarity: 3.77603552426109e-07\n",
      "Cluster: 1, Cosine similarity: 3.9748894575808436e-07\n",
      "Cluster: 1, Cosine similarity: 1.7821273901041934e-07\n",
      "Cluster: 3, Cosine similarity: 4.0264966139069713e-07\n",
      "Cluster: 3, Cosine similarity: 3.1743280182183753e-07\n",
      "Cluster: 1, Cosine similarity: 4.961835675665327e-08\n",
      "Cluster: 0, Cosine similarity: 3.005416029377983e-07\n",
      "Cluster: 4, Cosine similarity: 5.356780955478868e-07\n",
      "Cluster: 4, Cosine similarity: 4.3721438447441585e-07\n",
      "Cluster: 0, Cosine similarity: 1.179340467505341e-07\n",
      "Cluster: 1, Cosine similarity: 3.730778661559242e-07\n",
      "Cluster: 0, Cosine similarity: 3.8043240879748197e-07\n",
      "Cluster: 0, Cosine similarity: 9.13037780936321e-08\n",
      "Cluster: 1, Cosine similarity: 2.054867419554185e-07\n",
      "Cluster: 0, Cosine similarity: 6.847783362573523e-08\n",
      "Cluster: 0, Cosine similarity: 2.739113342808963e-07\n",
      "Cluster: 0, Cosine similarity: 4.907578072810281e-07\n",
      "Cluster: 3, Cosine similarity: 2.7056352913668036e-07\n",
      "Cluster: 0, Cosine similarity: 3.3858484382864873e-07\n",
      "Cluster: 1, Cosine similarity: 5.640467072298705e-07\n",
      "Cluster: 4, Cosine similarity: 1.3679764138130324e-06\n",
      "Cluster: 4, Cosine similarity: 5.102769162768084e-07\n",
      "Cluster: 4, Cosine similarity: 3.4783227775836423e-07\n",
      "Cluster: 0, Cosine similarity: 6.353221225774419e-07\n",
      "Cluster: 1, Cosine similarity: 2.6613328241165135e-07\n",
      "Cluster: 3, Cosine similarity: 1.8172495301893576e-06\n",
      "Cluster: 1, Cosine similarity: 3.536472567011728e-07\n",
      "Cluster: 1, Cosine similarity: 3.838350040030747e-07\n",
      "Cluster: 4, Cosine similarity: 1.4967576611457645e-07\n",
      "Cluster: 0, Cosine similarity: 2.929329547818327e-07\n",
      "Cluster: 0, Cosine similarity: 4.6032321454614333e-07\n",
      "Cluster: 1, Cosine similarity: 3.5374889895134487e-07\n",
      "Cluster: 2, Cosine similarity: 0.00020194176526888707\n",
      "Cluster: 1, Cosine similarity: 5.877293506317827e-07\n",
      "Cluster: 0, Cosine similarity: 7.53256169327976e-07\n",
      "Cluster: 0, Cosine similarity: 5.326053720278168e-08\n",
      "Cluster: 4, Cosine similarity: 1.6829646936056264e-06\n",
      "Cluster: 3, Cosine similarity: 1.1664057651961102e-06\n",
      "Cluster: 0, Cosine similarity: 5.630399649847462e-07\n",
      "Cluster: 1, Cosine similarity: 2.3265910253922328e-07\n",
      "Cluster: 0, Cosine similarity: 3.918453810314304e-07\n",
      "Cluster: 0, Cosine similarity: 7.228215765930912e-07\n",
      "Cluster: 1, Cosine similarity: 5.254904149598616e-07\n",
      "Cluster: 0, Cosine similarity: 6.467350943673011e-08\n",
      "Cluster: 1, Cosine similarity: 6.722279383142293e-07\n",
      "Cluster: 0, Cosine similarity: 1.0309718276868551e-06\n",
      "Cluster: 0, Cosine similarity: 2.13042148922149e-07\n",
      "Cluster: 4, Cosine similarity: 3.477639949345246e-07\n",
      "Cluster: 0, Cosine similarity: 1.9021620434322983e-07\n",
      "Cluster: 1, Cosine similarity: 2.1998770238784715e-07\n",
      "Cluster: 1, Cosine similarity: 9.366671832600204e-07\n",
      "Cluster: 0, Cosine similarity: 6.80974011624258e-07\n",
      "Cluster: 3, Cosine similarity: 1.672380869344181e-07\n",
      "Cluster: 1, Cosine similarity: 1.693698635785168e-07\n",
      "Cluster: 3, Cosine similarity: 8.095601655710993e-08\n",
      "Cluster: 3, Cosine similarity: 8.489729633742726e-07\n",
      "Cluster: 4, Cosine similarity: 2.1973385744278318e-07\n",
      "Cluster: 1, Cosine similarity: 2.802784950795001e-07\n",
      "Cluster: 4, Cosine similarity: 5.334930478495536e-07\n",
      "Cluster: 1, Cosine similarity: 1.1165400792823021e-07\n",
      "Cluster: 4, Cosine similarity: 1.3752143845913167e-07\n",
      "Cluster: 3, Cosine similarity: 2.6736789682235695e-07\n",
      "Cluster: 1, Cosine similarity: 2.3143939553715853e-07\n",
      "Cluster: 4, Cosine similarity: 2.1331527988444066e-07\n",
      "Cluster: 1, Cosine similarity: 4.4366840645793104e-07\n",
      "Cluster: 1, Cosine similarity: 2.538515109229422e-07\n",
      "Cluster: 0, Cosine similarity: 1.483686393743966e-07\n",
      "Cluster: 3, Cosine similarity: 8.511033848801475e-07\n",
      "Cluster: 1, Cosine similarity: 6.437172881401665e-07\n",
      "Cluster: 0, Cosine similarity: 4.983664554369938e-07\n",
      "Cluster: 3, Cosine similarity: 1.970639876835989e-07\n",
      "Cluster: 3, Cosine similarity: 3.15302380426985e-07\n",
      "Cluster: 1, Cosine similarity: 1.3535528577968137e-06\n",
      "Cluster: 1, Cosine similarity: 1.0758662399856789e-06\n",
      "Cluster: 1, Cosine similarity: 1.2350379982040138e-06\n",
      "Cluster: 4, Cosine similarity: 8.825544148827191e-07\n",
      "Cluster: 3, Cosine similarity: 1.4060781827751612e-07\n",
      "Cluster: 2, Cosine similarity: 0.000885083607614634\n",
      "Cluster: 3, Cosine similarity: 5.411270581623384e-07\n",
      "Cluster: 4, Cosine similarity: 4.777060492733298e-07\n",
      "Cluster: 1, Cosine similarity: 1.7170763533247424e-07\n",
      "Cluster: 1, Cosine similarity: 6.260823584014474e-07\n",
      "Cluster: 1, Cosine similarity: 4.0616241747670756e-07\n",
      "Cluster: 1, Cosine similarity: 6.543897240751662e-07\n",
      "Cluster: 3, Cosine similarity: 1.3634697526576645e-07\n",
      "Cluster: 1, Cosine similarity: 2.699448666820814e-07\n",
      "Cluster: 0, Cosine similarity: 1.1222756057804872e-06\n",
      "Cluster: 4, Cosine similarity: 5.0119531191938904e-08\n",
      "Cluster: 4, Cosine similarity: 4.4643255436849216e-07\n",
      "Cluster: 0, Cosine similarity: 3.614107882965456e-07\n",
      "Cluster: 1, Cosine similarity: 1.0696660629472277e-06\n",
      "Cluster: 1, Cosine similarity: 1.9330661271688143e-07\n",
      "Cluster: 3, Cosine similarity: 2.4712889268307947e-07\n",
      "Cluster: 1, Cosine similarity: 2.359963562348355e-07\n",
      "Cluster: 1, Cosine similarity: 3.408233932855609e-07\n",
      "Cluster: 0, Cosine similarity: 1.9782485249919546e-07\n",
      "Cluster: 0, Cosine similarity: 2.624983620469479e-07\n",
      "Cluster: 1, Cosine similarity: 3.881039782882567e-07\n",
      "Cluster: 4, Cosine similarity: 4.1980228571159017e-07\n",
      "Cluster: 1, Cosine similarity: 1.1795582721685349e-07\n",
      "Cluster: 2, Cosine similarity: 2.3523403935854503e-07\n",
      "Cluster: 0, Cosine similarity: 9.016248087023726e-07\n",
      "Cluster: 3, Cosine similarity: 2.460636819856532e-07\n",
      "Cluster: 1, Cosine similarity: 2.00963661933784e-07\n",
      "Cluster: 3, Cosine similarity: 1.182383926323638e-07\n",
      "Cluster: 0, Cosine similarity: 1.2554269490649972e-07\n",
      "Cluster: 1, Cosine similarity: 6.557449540034455e-07\n",
      "Cluster: 1, Cosine similarity: 1.1068840655159562e-07\n",
      "Cluster: 1, Cosine similarity: 2.8231133997191904e-07\n",
      "Cluster: 1, Cosine similarity: 4.2528810018094276e-07\n",
      "Cluster: 4, Cosine similarity: 6.748383197807684e-07\n",
      "Cluster: 4, Cosine similarity: 2.6958025767243043e-07\n",
      "Cluster: 4, Cosine similarity: 6.958011211644077e-08\n",
      "Cluster: 3, Cosine similarity: 4.4206245897182583e-07\n",
      "Cluster: 1, Cosine similarity: 8.719210720098403e-08\n",
      "Cluster: 0, Cosine similarity: 1.3315134306246534e-07\n",
      "Cluster: 1, Cosine similarity: 1.8791957356878441e-07\n",
      "Cluster: 1, Cosine similarity: 5.885424886331592e-07\n",
      "Cluster: 1, Cosine similarity: 3.861219545209238e-07\n",
      "Cluster: 1, Cosine similarity: 2.777374388251985e-07\n",
      "Cluster: 3, Cosine similarity: 4.3460598375677506e-07\n",
      "Cluster: 1, Cosine similarity: 5.74871606429106e-07\n",
      "Cluster: 1, Cosine similarity: 6.401767493890986e-08\n",
      "Cluster: 0, Cosine similarity: 5.021707795149766e-07\n",
      "Cluster: 1, Cosine similarity: 2.9125585765399364e-07\n",
      "Cluster: 1, Cosine similarity: 5.505282884010754e-07\n",
      "Cluster: 3, Cosine similarity: 1.2036881413823863e-07\n",
      "Cluster: 0, Cosine similarity: 3.614107882965456e-07\n",
      "Cluster: 0, Cosine similarity: 3.956497051094132e-07\n",
      "Cluster: 0, Cosine similarity: 3.5380214014058e-07\n",
      "Cluster: 4, Cosine similarity: 5.010587463827321e-07\n",
      "Cluster: 1, Cosine similarity: 7.443092315817523e-07\n",
      "Cluster: 1, Cosine similarity: 1.0948563999857441e-07\n",
      "Cluster: 1, Cosine similarity: 4.943709471794122e-07\n",
      "Cluster: 0, Cosine similarity: 2.777156583588791e-07\n",
      "Cluster: 3, Cosine similarity: 1.246296571499883e-07\n",
      "Cluster: 1, Cosine similarity: 3.9571020649109556e-07\n",
      "Cluster: 0, Cosine similarity: 2.5869403796896506e-07\n",
      "Cluster: 1, Cosine similarity: 3.7936274510652623e-07\n",
      "Cluster: 0, Cosine similarity: 4.831491591250625e-07\n",
      "Cluster: 0, Cosine similarity: 2.739113342808963e-07\n",
      "Cluster: 3, Cosine similarity: 8.84124917721607e-08\n",
      "Cluster: 3, Cosine similarity: 1.3634697526576645e-07\n",
      "Cluster: 0, Cosine similarity: 2.092378248441662e-07\n",
      "Cluster: 1, Cosine similarity: 1.9903245929153712e-07\n",
      "Cluster: 0, Cosine similarity: 4.527145663901777e-07\n",
      "Cluster: 1, Cosine similarity: 2.8707158516994014e-07\n",
      "Cluster: 0, Cosine similarity: 1.088036689078642e-06\n",
      "Cluster: 3, Cosine similarity: 3.6323686392059074e-07\n",
      "Cluster: 0, Cosine similarity: 4.6412753873514845e-07\n",
      "Cluster: 0, Cosine similarity: 7.684734656399073e-07\n",
      "Cluster: 1, Cosine similarity: 1.34218586689272e-07\n",
      "Cluster: 1, Cosine similarity: 2.354542643079327e-07\n",
      "Cluster: 0, Cosine similarity: 9.510810217161492e-08\n",
      "Cluster: 3, Cosine similarity: 3.9625839698409493e-07\n",
      "Cluster: 0, Cosine similarity: 5.706486131407118e-07\n",
      "Cluster: 1, Cosine similarity: 1.8407410862231188e-07\n",
      "Cluster: 0, Cosine similarity: 1.1412972267255128e-07\n",
      "Cluster: 1, Cosine similarity: 4.1764799130206143e-07\n",
      "Cluster: 1, Cosine similarity: 1.993712667180958e-07\n",
      "Cluster: 0, Cosine similarity: 2.3206376931206307e-07\n",
      "Cluster: 1, Cosine similarity: 3.791255798191173e-08\n",
      "Cluster: 0, Cosine similarity: 9.054291327803554e-07\n",
      "Cluster: 0, Cosine similarity: 6.08691853587473e-08\n",
      "Cluster: 0, Cosine similarity: 2.0162917668820057e-07\n",
      "Cluster: 4, Cosine similarity: 4.1502249392699753e-07\n",
      "Cluster: 0, Cosine similarity: 1.0652107440556335e-07\n",
      "Cluster: 4, Cosine similarity: 2.419257479902015e-07\n",
      "Cluster: 0, Cosine similarity: 2.5869403796896506e-07\n",
      "Cluster: 1, Cosine similarity: 2.3736852661215835e-07\n",
      "Cluster: 4, Cosine similarity: 2.625471354766873e-07\n",
      "Cluster: 3, Cosine similarity: 3.611064424147159e-07\n",
      "Cluster: 0, Cosine similarity: 3.309761955616608e-07\n",
      "Cluster: 1, Cosine similarity: 4.890008484803587e-07\n",
      "Cluster: 3, Cosine similarity: 3.802802357455448e-07\n",
      "Cluster: 1, Cosine similarity: 4.084154873185142e-07\n",
      "Cluster: 3, Cosine similarity: 3.6163904776342903e-06\n",
      "Cluster: 1, Cosine similarity: 3.284399795466797e-07\n",
      "Cluster: 3, Cosine similarity: 1.1823839264346603e-06\n",
      "Cluster: 0, Cosine similarity: 2.2065079707811464e-07\n",
      "Cluster: 0, Cosine similarity: 2.8532430651484475e-07\n",
      "Cluster: 3, Cosine similarity: 9.799938849308631e-08\n",
      "Cluster: 1, Cosine similarity: 1.57608161632794e-06\n",
      "Cluster: 0, Cosine similarity: 6.315177984994591e-07\n",
      "Cluster: 1, Cosine similarity: 1.3281253552488437e-07\n",
      "Cluster: 3, Cosine similarity: 1.4593387198669205e-07\n",
      "Cluster: 0, Cosine similarity: 2.472810657350166e-07\n",
      "Cluster: 3, Cosine similarity: 2.034552522012234e-07\n",
      "Cluster: 3, Cosine similarity: 1.3315134306246534e-07\n",
      "Cluster: 3, Cosine similarity: 3.312805415545128e-07\n",
      "Cluster: 4, Cosine similarity: 1.844999635292055e-07\n",
      "Cluster: 1, Cosine similarity: 1.2466421550616502e-07\n",
      "Cluster: 3, Cosine similarity: 1.342165537598916e-07\n",
      "Cluster: 0, Cosine similarity: 8.369512993766648e-08\n",
      "Cluster: 1, Cosine similarity: 2.0985735849077258e-07\n",
      "Cluster: 4, Cosine similarity: 1.0602261044656558e-06\n",
      "Cluster: 1, Cosine similarity: 2.78784354013073e-06\n",
      "Cluster: 1, Cosine similarity: 1.0601286326572534e-07\n",
      "Cluster: 1, Cosine similarity: 2.983538746059722e-07\n",
      "Cluster: 4, Cosine similarity: 1.9965873188088068e-07\n",
      "Cluster: 4, Cosine similarity: 9.511785681315388e-08\n",
      "Cluster: 0, Cosine similarity: 1.5597728764138452e-07\n",
      "Cluster: 1, Cosine similarity: 8.043289778658647e-08\n",
      "Cluster: 1, Cosine similarity: 1.2932281845401405e-07\n",
      "Cluster: 4, Cosine similarity: 1.1314450021338018e-07\n",
      "Cluster: 1, Cosine similarity: 4.916774276608749e-07\n",
      "Cluster: 1, Cosine similarity: 2.141263328869769e-07\n",
      "Cluster: 1, Cosine similarity: 5.605400497099566e-07\n",
      "Cluster: 3, Cosine similarity: 2.6417226461905585e-07\n",
      "Cluster: 1, Cosine similarity: 2.6803060426683345e-07\n",
      "Cluster: 1, Cosine similarity: 1.3130484222134697e-07\n",
      "Cluster: 1, Cosine similarity: 3.0372397330502565e-07\n",
      "Cluster: 0, Cosine similarity: 1.826075561872642e-07\n",
      "Cluster: 0, Cosine similarity: 2.434767416570338e-07\n",
      "Cluster: 3, Cosine similarity: 3.599347105698314e-06\n",
      "Cluster: 3, Cosine similarity: 3.387370167695636e-07\n",
      "Cluster: 1, Cosine similarity: 1.3113543850806764e-07\n",
      "Cluster: 3, Cosine similarity: 1.9493356628874636e-07\n",
      "Cluster: 3, Cosine similarity: 5.720181698309901e-07\n",
      "Cluster: 0, Cosine similarity: 1.9402052842121265e-07\n",
      "Cluster: 3, Cosine similarity: 1.2036881413823863e-07\n",
      "Cluster: 3, Cosine similarity: 6.295395500455214e-07\n",
      "Cluster: 4, Cosine similarity: 1.627177694807358e-07\n",
      "Cluster: 1, Cosine similarity: 2.92661908707359e-07\n",
      "Cluster: 0, Cosine similarity: 5.782572612966774e-07\n",
      "Cluster: 1, Cosine similarity: 4.088898177823097e-07\n",
      "Cluster: 0, Cosine similarity: 3.043459270157811e-07\n",
      "Cluster: 3, Cosine similarity: 3.057154837060594e-07\n",
      "Cluster: 0, Cosine similarity: 3.3858484382864873e-07\n",
      "Cluster: 3, Cosine similarity: 7.449018736394031e-06\n",
      "Cluster: 3, Cosine similarity: 1.2569486784741457e-07\n",
      "Cluster: 0, Cosine similarity: 7.190172525151084e-07\n",
      "Cluster: 4, Cosine similarity: 2.942986095932909e-07\n",
      "Cluster: 0, Cosine similarity: 7.26625900671074e-07\n",
      "Cluster: 1, Cosine similarity: 1.9063003353636532e-07\n",
      "Cluster: 4, Cosine similarity: 3.1785615484114516e-07\n",
      "Cluster: 1, Cosine similarity: 1.9426374383568756e-06\n",
      "Cluster: 1, Cosine similarity: 1.6637141730946325e-07\n",
      "Cluster: 1, Cosine similarity: 8.695494202459741e-08\n",
      "Cluster: 0, Cosine similarity: 2.3206376931206307e-07\n",
      "Cluster: 1, Cosine similarity: 1.795171479246349e-07\n",
      "Cluster: 4, Cosine similarity: 2.39535852042394e-07\n",
      "Cluster: 1, Cosine similarity: 2.3411597471767465e-07\n",
      "Cluster: 4, Cosine similarity: 4.4568144419443456e-07\n",
      "Cluster: 3, Cosine similarity: 3.706933391356415e-07\n",
      "Cluster: 0, Cosine similarity: 1.483686393743966e-07\n",
      "Cluster: 4, Cosine similarity: 7.37590157839918e-07\n",
      "Cluster: 4, Cosine similarity: 3.836124334855029e-07\n",
      "Cluster: 0, Cosine similarity: 1.826075561872642e-07\n",
      "Cluster: 1, Cosine similarity: 1.9962537234352595e-07\n",
      "Cluster: 0, Cosine similarity: 2.13042148922149e-07\n",
      "Cluster: 1, Cosine similarity: 1.875638258042045e-07\n",
      "Cluster: 1, Cosine similarity: 2.6532014441027485e-07\n",
      "Cluster: 0, Cosine similarity: 7.570604934059588e-07\n",
      "Cluster: 1, Cosine similarity: 4.804459593499288e-07\n",
      "Cluster: 4, Cosine similarity: 4.557190069753858e-07\n",
      "Cluster: 0, Cosine similarity: 8.787988642344757e-07\n",
      "Cluster: 1, Cosine similarity: 4.1080408008653535e-07\n",
      "Cluster: 4, Cosine similarity: 2.3919443836728504e-07\n",
      "Cluster: 1, Cosine similarity: 1.3760666150997025e-07\n",
      "Cluster: 0, Cosine similarity: 1.8641188026524702e-07\n",
      "Cluster: 3, Cosine similarity: 8.52168595688596e-08\n",
      "Cluster: 1, Cosine similarity: 3.3933264032004473e-07\n",
      "Cluster: 4, Cosine similarity: 3.380678459397046e-07\n",
      "Cluster: 3, Cosine similarity: 2.7695479354328256e-07\n",
      "Cluster: 1, Cosine similarity: 8.91571906302957e-08\n",
      "Cluster: 0, Cosine similarity: 3.1956322332771236e-07\n",
      "Cluster: 0, Cosine similarity: 1.217383708285169e-07\n",
      "Cluster: 1, Cosine similarity: 1.7717937617067747e-07\n",
      "Cluster: 0, Cosine similarity: 1.6739025987533296e-07\n",
      "Cluster: 0, Cosine similarity: 6.695610393903095e-07\n",
      "Cluster: 1, Cosine similarity: 7.022632222408731e-07\n",
      "Cluster: 3, Cosine similarity: 3.898671324664704e-07\n",
      "Cluster: 0, Cosine similarity: 1.0271675032758054e-07\n",
      "Cluster: 1, Cosine similarity: 1.9183280008938652e-07\n",
      "Cluster: 0, Cosine similarity: 3.1575889924972955e-07\n",
      "Cluster: 1, Cosine similarity: 1.9556815267218752e-06\n",
      "Cluster: 3, Cosine similarity: 2.3754199607317616e-07\n",
      "Cluster: 0, Cosine similarity: 6.467350943673011e-08\n",
      "Cluster: 4, Cosine similarity: 2.4465705750209565e-07\n",
      "Cluster: 4, Cosine similarity: 4.5189517350330277e-07\n",
      "Cluster: 0, Cosine similarity: 5.934745576086087e-07\n",
      "Cluster: 1, Cosine similarity: 8.265886302094572e-07\n",
      "Cluster: 4, Cosine similarity: 2.1758977938324264e-06\n",
      "Cluster: 3, Cosine similarity: 4.527145663901777e-07\n",
      "Cluster: 1, Cosine similarity: 5.340114233032267e-07\n",
      "Cluster: 3, Cosine similarity: 7.349954134205916e-08\n",
      "Cluster: 0, Cosine similarity: 8.521685955775737e-07\n",
      "Cluster: 1, Cosine similarity: 7.072606322822139e-08\n",
      "Cluster: 4, Cosine similarity: 7.585529590015128e-07\n",
      "Cluster: 1, Cosine similarity: 5.083975771480453e-07\n",
      "Cluster: 1, Cosine similarity: 3.606605717410005e-07\n",
      "Cluster: 1, Cosine similarity: 5.383312188245171e-07\n",
      "Cluster: 4, Cosine similarity: 2.0559933022745724e-07\n",
      "Cluster: 4, Cosine similarity: 6.474569409498088e-07\n",
      "Cluster: 1, Cosine similarity: 8.791376716610344e-07\n",
      "Cluster: 1, Cosine similarity: 5.716190545346223e-07\n",
      "Cluster: 3, Cosine similarity: 1.150427604290627e-07\n",
      "Cluster: 0, Cosine similarity: 1.2554269490649972e-07\n",
      "Cluster: 4, Cosine similarity: 1.8757268682723094e-07\n",
      "Cluster: 1, Cosine similarity: 1.3013595645539056e-07\n",
      "Cluster: 1, Cosine similarity: 2.7342103146033025e-06\n",
      "Cluster: 2, Cosine similarity: 0.9959452471913043\n",
      "Cluster: 0, Cosine similarity: 2.13042148922149e-07\n",
      "Cluster: 0, Cosine similarity: 4.489102423121949e-07\n",
      "Cluster: 4, Cosine similarity: 2.5326068275877134e-07\n",
      "Cluster: 4, Cosine similarity: 3.3042017899553855e-07\n",
      "Cluster: 1, Cosine similarity: 1.1728668239952e-06\n",
      "Cluster: 3, Cosine similarity: 2.652374754275044e-07\n",
      "Cluster: 0, Cosine similarity: 7.989080583747921e-07\n",
      "Cluster: 4, Cosine similarity: 5.847733856034765e-07\n",
      "Cluster: 1, Cosine similarity: 1.6399976487946333e-07\n",
      "Cluster: 0, Cosine similarity: 3.347805197506659e-07\n",
      "Cluster: 1, Cosine similarity: 4.12718342390761e-07\n",
      "Cluster: 1, Cosine similarity: 2.0260687827455826e-07\n",
      "Cluster: 1, Cosine similarity: 4.5098664824827495e-07\n",
      "Cluster: 1, Cosine similarity: 2.2274898348051408e-07\n",
      "Cluster: 1, Cosine similarity: 1.4302758133410975e-07\n",
      "Cluster: 3, Cosine similarity: 2.428680497823521e-07\n",
      "Cluster: 1, Cosine similarity: 8.53625468089092e-08\n",
      "Cluster: 1, Cosine similarity: 2.3542038352086792e-07\n",
      "Cluster: 1, Cosine similarity: 2.7902490729037055e-07\n",
      "Cluster: 3, Cosine similarity: 1.0332544220226225e-07\n",
      "Cluster: 3, Cosine similarity: 9.267333478391038e-08\n",
      "Cluster: 1, Cosine similarity: 9.777984122383288e-08\n",
      "Cluster: 1, Cosine similarity: 2.6354140514328606e-07\n",
      "Cluster: 1, Cosine similarity: 2.137705850113747e-07\n",
      "Cluster: 0, Cosine similarity: 4.7173618689111407e-07\n",
      "Cluster: 4, Cosine similarity: 2.995563804786272e-07\n",
      "Cluster: 0, Cosine similarity: 4.0706267734336166e-07\n",
      "Cluster: 1, Cosine similarity: 2.0265769939964429e-07\n",
      "Cluster: 4, Cosine similarity: 3.033119312378929e-07\n",
      "Cluster: 3, Cosine similarity: 4.953229961746075e-07\n",
      "Cluster: 1, Cosine similarity: 1.473812576424649e-07\n",
      "Cluster: 1, Cosine similarity: 9.495757485877832e-07\n",
      "Cluster: 0, Cosine similarity: 1.5597728764138452e-07\n",
      "Cluster: 3, Cosine similarity: 1.9280314478287153e-07\n",
      "Cluster: 0, Cosine similarity: 3.3858484382864873e-07\n",
      "Cluster: 4, Cosine similarity: 5.853879303518994e-07\n",
      "Cluster: 1, Cosine similarity: 6.956056550766476e-07\n",
      "Cluster: 0, Cosine similarity: 1.107058309468556e-06\n",
      "Cluster: 1, Cosine similarity: 1.1294147639340224e-07\n",
      "Cluster: 1, Cosine similarity: 2.650660387848447e-07\n",
      "Cluster: 1, Cosine similarity: 3.8668098689687014e-07\n",
      "Cluster: 1, Cosine similarity: 7.81171486385901e-07\n",
      "Cluster: 0, Cosine similarity: 5.440183444838098e-07\n",
      "Cluster: 0, Cosine similarity: 2.1684647300013182e-07\n",
      "Cluster: 1, Cosine similarity: 7.312820836657963e-07\n",
      "Cluster: 4, Cosine similarity: 2.284057654122762e-07\n",
      "Cluster: 1, Cosine similarity: 6.238970501337704e-07\n",
      "Cluster: 4, Cosine similarity: 5.164223628728593e-07\n",
      "Cluster: 1, Cosine similarity: 5.613362472622896e-07\n",
      "Cluster: 3, Cosine similarity: 1.4060781827751612e-07\n",
      "Cluster: 0, Cosine similarity: 3.614107882965456e-07\n",
      "Cluster: 4, Cosine similarity: 4.600208195482125e-07\n",
      "Cluster: 1, Cosine similarity: 2.0697749480991234e-07\n",
      "Cluster: 3, Cosine similarity: 4.085083205151996e-06\n",
      "Cluster: 1, Cosine similarity: 1.2607026655953035e-07\n",
      "Cluster: 4, Cosine similarity: 1.6249243645072298e-06\n",
      "Cluster: 4, Cosine similarity: 6.44315934938966e-07\n",
      "Cluster: 4, Cosine similarity: 3.1198383920738593e-07\n",
      "Cluster: 3, Cosine similarity: 1.5339034720174283e-07\n",
      "Cluster: 1, Cosine similarity: 4.2171368119792163e-07\n",
      "Cluster: 2, Cosine similarity: 5.326053720278168e-08\n"
     ]
    }
   ],
   "source": [
    "sim_dict = {}\n",
    "for i in range(len(cos_dist)):\n",
    "    m = np.argmax(cos_dist[i])\n",
    "    sim_dict.update({i:(m,ravel(cos_dist[i])[m])})\n",
    "    print(\"Cluster: {}, Cosine similarity: {}\".format(sim_dict[i][0],sim_dict[i][1]))"
   ]
  },
  {
   "cell_type": "code",
   "execution_count": 79,
   "metadata": {},
   "outputs": [],
   "source": [
    "test_predicted = []\n",
    "for i in range(len(cos_dist)):\n",
    "    test_predicted.append(np.argmax(cos_dist[i]))"
   ]
  },
  {
   "cell_type": "code",
   "execution_count": 80,
   "metadata": {},
   "outputs": [
    {
     "name": "stdout",
     "output_type": "stream",
     "text": [
      "Cluster 0:  129\n",
      "Cluster 1:  198\n",
      "Cluster 2:  10\n",
      "Cluster 3:  87\n",
      "Cluster 4:  76\n"
     ]
    }
   ],
   "source": [
    "test_array = np.array(test_predicted)\n",
    "print(\"Cluster 0: \",len(np.where(test_array == 0)[0]))\n",
    "print(\"Cluster 1: \",len(np.where(test_array == 1)[0]))\n",
    "print(\"Cluster 2: \",len(np.where(test_array == 2)[0]))\n",
    "print(\"Cluster 3: \",len(np.where(test_array == 3)[0]))\n",
    "print(\"Cluster 4: \",len(np.where(test_array == 4)[0]))"
   ]
  },
  {
   "cell_type": "code",
   "execution_count": 81,
   "metadata": {},
   "outputs": [
    {
     "data": {
      "text/plain": [
       "(5, 9328)"
      ]
     },
     "execution_count": 81,
     "metadata": {},
     "output_type": "execute_result"
    }
   ],
   "source": [
    "centroids.shape"
   ]
  },
  {
   "cell_type": "code",
   "execution_count": null,
   "metadata": {},
   "outputs": [],
   "source": []
  }
 ],
 "metadata": {
  "kernelspec": {
   "display_name": "Python 3.7.3 64-bit ('14023': virtualenv)",
   "language": "python",
   "name": "python37364bit14023virtualenv43d760947b1c41cea019d510c4f98b52"
  },
  "language_info": {
   "codemirror_mode": {
    "name": "ipython",
    "version": 3
   },
   "file_extension": ".py",
   "mimetype": "text/x-python",
   "name": "python",
   "nbconvert_exporter": "python",
   "pygments_lexer": "ipython3",
   "version": "3.7.3"
  }
 },
 "nbformat": 4,
 "nbformat_minor": 4
}
